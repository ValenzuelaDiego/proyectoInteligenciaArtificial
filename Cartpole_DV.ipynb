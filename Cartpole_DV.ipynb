{
  "nbformat": 4,
  "nbformat_minor": 0,
  "metadata": {
    "colab": {
      "name": "Cartpole_DV",
      "provenance": [],
      "authorship_tag": "ABX9TyOLkfoNa1/r6Ane40cAIGwu",
      "include_colab_link": true
    },
    "kernelspec": {
      "name": "python3",
      "display_name": "Python 3"
    },
    "language_info": {
      "name": "python"
    }
  },
  "cells": [
    {
      "cell_type": "markdown",
      "metadata": {
        "id": "view-in-github",
        "colab_type": "text"
      },
      "source": [
        "<a href=\"https://colab.research.google.com/github/ValenzuelaDiego/proyectoInteligenciaArtificial/blob/main/Cartpole_DV.ipynb\" target=\"_parent\"><img src=\"https://colab.research.google.com/assets/colab-badge.svg\" alt=\"Open In Colab\"/></a>"
      ]
    },
    {
      "cell_type": "code",
      "metadata": {
        "id": "OEz7Jsv4j0dG",
        "colab": {
          "base_uri": "https://localhost:8080/"
        },
        "outputId": "4a5c3292-d3cd-432b-9cdc-c67bafbb6fce"
      },
      "source": [
        "try:\n",
        "    from google.colab import drive\n",
        "    %tensorflow_version 2.x\n",
        "    COLAB = True\n",
        "    print(\"Note: using Google CoLab\")\n",
        "except:\n",
        "    print(\"Note: not using Google CoLab\")\n",
        "    COLAB = False"
      ],
      "execution_count": 18,
      "outputs": [
        {
          "output_type": "stream",
          "text": [
            "Note: using Google CoLab\n"
          ],
          "name": "stdout"
        }
      ]
    },
    {
      "cell_type": "code",
      "metadata": {
        "id": "1LSdT7nVkHCW",
        "colab": {
          "base_uri": "https://localhost:8080/"
        },
        "outputId": "1f1ef940-485f-4772-cbbe-bf0581c8f86e"
      },
      "source": [
        "if COLAB:\n",
        "  !sudo apt-get install -y xvfb ffmpeg x11-utils\n",
        "  !pip install -q 'gym==0.17.0'\n",
        "  !pip install -q 'imageio==2.4.0'\n",
        "  !pip install -q PILLOW\n",
        "  !pip install -q 'pyglet==1.5.0'\n",
        "  !pip install -q pyvirtualdisplay\n",
        "  !pip install -q tf-agents"
      ],
      "execution_count": 19,
      "outputs": [
        {
          "output_type": "stream",
          "text": [
            "Reading package lists... Done\n",
            "Building dependency tree       \n",
            "Reading state information... Done\n",
            "x11-utils is already the newest version (7.7+3build1).\n",
            "ffmpeg is already the newest version (7:3.4.8-0ubuntu0.2).\n",
            "xvfb is already the newest version (2:1.19.6-1ubuntu4.9).\n",
            "0 upgraded, 0 newly installed, 0 to remove and 39 not upgraded.\n"
          ],
          "name": "stdout"
        }
      ]
    },
    {
      "cell_type": "markdown",
      "metadata": {
        "id": "S9FzKvFakLA3"
      },
      "source": [
        "\n",
        "## DQN (Deep Q Learning) aplicado al Cart-Pole\n",
        "\n",
        "A cart is connected to a hinged rigid pole.  The cart is free to move only in the vertical plane of the cart/track.  The agent can apply an implusive \"left\" or \"right\" force F of a fixed magnitude to the cart at discrete time intervals.  The cart-pole environment simulates the physics behind keeping the pole in a reasonably upright position on the cart.  The environment has four state variables:\n",
        "Un carro esta conectado a un poste rigido. El carro es libre de moverse solamente en el plano vertical de la pista. El agente puede aplicar un impulso de fuerza F a la derecha o a la izquierda del carro. El objetivo es mantener el poste rigido de manera vertical. El ambiente tiene cuatro variables de estado: \n",
        "\n",
        "* $x$  La posición del carro en el circuito.\n",
        "* $\\theta$ El ángulo del poste respecto a la vertical.\n",
        "* $\\dot{x}$  Velocidad del carro.\n",
        "* $\\dot{\\theta}$ La taza de cambio del ángulo del poste respecto a la vertical.\n",
        "\n",
        "El espacio de acciones consisten en 2 acciones discretas:\n",
        "* Aplicar fuerza a la izquierda\n",
        "* Aplicar fuerza a la derecha\n",
        "\n",
        "Para aplicar DQN a este problema, es necesario crear los siguientes componentes para los TF-Agents.\n",
        "\n",
        "* Environment (Ambiente)\n",
        "* Agent (Agente)\n",
        "* Policies (Politicas)\n",
        "* Metrics and Evaluation (Metricas y Evaluacion)\n",
        "* Replay Buffer (Bufer de Reproducción)\n",
        "* Data Collection (Conjunto de Datos)\n",
        "* Training (Entrenamiento)"
      ]
    },
    {
      "cell_type": "code",
      "metadata": {
        "id": "69I75YzLWIyO"
      },
      "source": [
        "import base64\n",
        "import imageio\n",
        "import IPython\n",
        "import matplotlib\n",
        "import matplotlib.pyplot as plt\n",
        "import numpy as np\n",
        "import PIL.Image\n",
        "import pyvirtualdisplay\n",
        "\n",
        "import tensorflow as tf\n",
        "\n",
        "from tf_agents.agents.dqn import dqn_agent\n",
        "from tf_agents.drivers import dynamic_step_driver\n",
        "from tf_agents.environments import suite_gym\n",
        "from tf_agents.environments import tf_py_environment\n",
        "from tf_agents.eval import metric_utils\n",
        "from tf_agents.metrics import tf_metrics\n",
        "from tf_agents.networks import q_network\n",
        "from tf_agents.policies import random_tf_policy\n",
        "from tf_agents.replay_buffers import tf_uniform_replay_buffer\n",
        "from tf_agents.trajectories import trajectory\n",
        "from tf_agents.utils import common"
      ],
      "execution_count": 20,
      "outputs": []
    },
    {
      "cell_type": "code",
      "metadata": {
        "id": "_jUwOHAQWMl_"
      },
      "source": [
        "#Configuración de una pantalla virtual para renderizar entornos de gimnasio OpenAI\n",
        "display = pyvirtualdisplay.Display(visible=0, size=(1400, 900)).start()"
      ],
      "execution_count": 21,
      "outputs": []
    },
    {
      "cell_type": "markdown",
      "metadata": {
        "id": "ZJqW_JqvW4Nc"
      },
      "source": [
        "# Hiperparametros\n",
        "\n",
        "Es necesario definir ciertos hiperparametros para el entorno CartPole"
      ]
    },
    {
      "cell_type": "code",
      "metadata": {
        "id": "mhjnl9EaXMBh"
      },
      "source": [
        "# Que tanto queremos entrenar?\n",
        "num_iterations = 20000 \n",
        "#Cuantos randoms steps inciales, antes de empezar a entrenar, \n",
        "#para poder recolectar data.\n",
        "initial_collect_steps = 1000   \n",
        "#Cuantos steps debemos de correr en cada iteracción para recolectar data.\n",
        "collect_steps_per_iteration = 1 \n",
        "#Cuanta data debemos de guardar de los ejemplos de entrenamientos.\n",
        "replay_buffer_max_length = 100000\n",
        "\n",
        "batch_size = 64  \n",
        "learning_rate = 1e-3 \n",
        "# Cada tanto nuestro programa deberia de darnos un update\n",
        "log_interval = 200  \n",
        "\n",
        "# Cuantos episodios debería usar el programa por cada evaluación.\n",
        "num_eval_episodes = 10\n",
        "# Cada tanto debería de ocurrir una evaluación.\n",
        "eval_interval = 1000  "
      ],
      "execution_count": 22,
      "outputs": []
    },
    {
      "cell_type": "markdown",
      "metadata": {
        "id": "itkbUJwDYxFv"
      },
      "source": [
        "# Environment\n",
        "\n",
        " TF-Agents usa OpenAI gym environments para representar una tarea o problema a resolver. Environments estandares pueden ser creados en TF-Agents usando **tf_agents.environments** suites. TF-Agents tiene suites para cargar environments de fuentes como  OpenAI Gym, Atari, y DM Control. Nosotros empezamos cargando el CartPole environment de OpenAI Gym suite."
      ]
    },
    {
      "cell_type": "code",
      "metadata": {
        "id": "esDLy9TAZvAA"
      },
      "source": [
        "env_name = 'CartPole-v0'\n",
        "env = suite_gym.load(env_name)"
      ],
      "execution_count": 23,
      "outputs": []
    },
    {
      "cell_type": "markdown",
      "metadata": {
        "id": "VZZo6SU3Z0fa"
      },
      "source": [
        "Vemos el environmet de forma visual"
      ]
    },
    {
      "cell_type": "code",
      "metadata": {
        "colab": {
          "base_uri": "https://localhost:8080/",
          "height": 417
        },
        "id": "X9fL004TZ42V",
        "outputId": "38953a51-7e3a-4450-f620-1a741401e5ed"
      },
      "source": [
        "env.reset()\n",
        "PIL.Image.fromarray(env.render())"
      ],
      "execution_count": 24,
      "outputs": [
        {
          "output_type": "execute_result",
          "data": {
            "image/png": "[encoded data removed]",
            "text/plain": [
              "<PIL.Image.Image image mode=RGB size=600x400 at 0x7F137A10BA90>"
            ]
          },
          "metadata": {
            "tags": []
          },
          "execution_count": 24
        }
      ]
    },
    {
      "cell_type": "markdown",
      "metadata": {
        "id": "XRmwpbKm2AXZ"
      },
      "source": [
        "El programa instancia dos environments: uno de entrenamiento y otro de evaluación."
      ]
    },
    {
      "cell_type": "code",
      "metadata": {
        "id": "PHLlyNk42ABL"
      },
      "source": [
        "train_py_env = suite_gym.load(env_name)\n",
        "eval_py_env = suite_gym.load(env_name)"
      ],
      "execution_count": 25,
      "outputs": []
    },
    {
      "cell_type": "markdown",
      "metadata": {
        "id": "6A_7DVFx2nTN"
      },
      "source": [
        "El environment del CartPole, como la mayoria de los environments, esta escrito puramente en Python y es convertido a TF-Agents y TensorFlow usando la función **TFPyEnvironment**. El environment original usa Numpy arrays. La función **TFPyEnvironment** convierte estos arrays a **Tensors** para hacerlo compatible con los Tensorflow agents y policies."
      ]
    },
    {
      "cell_type": "code",
      "metadata": {
        "id": "dxC84zHJ4Hv7"
      },
      "source": [
        "train_env = tf_py_environment.TFPyEnvironment(train_py_env)\n",
        "eval_env = tf_py_environment.TFPyEnvironment(eval_py_env)"
      ],
      "execution_count": 26,
      "outputs": []
    },
    {
      "cell_type": "markdown",
      "metadata": {
        "id": "saQSxDyU9FQL"
      },
      "source": [
        "##DQN\n",
        "Solo se puede utilizar un DQN agent en environments en donde se tiene un espacio de acción discreto. El DQN usa QNetwork, modelo de redes neuronales que aprenden a predecir Q-values (salida esperada) para todas las acciones, cuando se le da un estado del environment.\n",
        "\n",
        "El siguiente codigo utiliza **tf_agents.networks.q_network** para crear un QNetwork, pasandole **observation_spec**, **action_spec**, y una tupla que describe el numero y el tamaño de las capas ocuktas de los modelos."
      ]
    },
    {
      "cell_type": "code",
      "metadata": {
        "id": "Qxg1LpFv-Wj2"
      },
      "source": [
        "fc_layer_params = (100,)\n",
        "\n",
        "q_net = q_network.QNetwork(train_env.observation_spec(),train_env.action_spec(),fc_layer_params=fc_layer_params)"
      ],
      "execution_count": 27,
      "outputs": []
    },
    {
      "cell_type": "markdown",
      "metadata": {
        "id": "Ar9NAA2G-0vL"
      },
      "source": [
        "Now we use **tf_agents.agents.dqn.dqn_agent** to instantiate a **DqnAgent**. In addition to the **time_step_spec**, **action_spec** and the QNetwork, the agent constructor also requires an optimizer (in this case, **AdamOptimizer**), a loss function, and an integer step counter."
      ]
    },
    {
      "cell_type": "code",
      "metadata": {
        "id": "Dfgqli6R-1u0"
      },
      "source": [
        "optimizer = tf.compat.v1.train.AdamOptimizer(learning_rate=learning_rate)\n",
        "\n",
        "train_step_counter = tf.Variable(0)\n",
        "\n",
        "agent = dqn_agent.DqnAgent(\n",
        "    train_env.time_step_spec(),\n",
        "    train_env.action_spec(),\n",
        "    q_network=q_net,\n",
        "    optimizer=optimizer,\n",
        "    td_errors_loss_fn=common.element_wise_squared_loss,\n",
        "    train_step_counter=train_step_counter)\n",
        "\n",
        "agent.initialize()"
      ],
      "execution_count": 28,
      "outputs": []
    },
    {
      "cell_type": "markdown",
      "metadata": {
        "id": "IB-ybQDg_K38"
      },
      "source": [
        "## Politicas\n",
        "\n",
        "Una política define la forma en que un agente actúa en un entorno. Usualmente, la meta del aprendizaje por refuerzo es de entrenar el modelo hasta que la politica pueda reproducir la salida deseada.\n",
        "\n",
        "En este ejemplo:\n",
        "\n",
        "* El resultado deseado es mantener el poste equilibrado en posición vertical sobre el carro.\n",
        "\n",
        "* La politica retorna una acción (derecha o izquierda) por cada `time_step` de observación. \n",
        "\n",
        "Agents contain two policies: \n",
        "El agente contiene dos politicas:\n",
        "\n",
        "*  **agent.policy** -  El algoritmo usa esta politica principal para evaluación y desarrollo.\n",
        "* **agent.collect_policy** - El algoritmo usa esta politica secundaria para recolección de data."
      ]
    },
    {
      "cell_type": "code",
      "metadata": {
        "id": "iO4Bj6DXAtTv"
      },
      "source": [
        "eval_policy = agent.policy\n",
        "collect_policy = agent.collect_policy"
      ],
      "execution_count": 29,
      "outputs": []
    },
    {
      "cell_type": "markdown",
      "metadata": {
        "id": "U-_jo619CUtH"
      },
      "source": [
        "## Metrica y Evaluación.\n",
        "\n",
        "La metrica más común para evaluar una politica es resultado promedio. El resultado es la suma de todas las recompensas obtenidas utilizando una politica en un environment por un episodio. Varios episodios se corren, creando así un promedio con los resultados. La siguiente función calcula el resultado promedio para una politica, dandole la politica, el environment y los numeros de episodios. "
      ]
    },
    {
      "cell_type": "code",
      "metadata": {
        "id": "1xm9JSOxDLed"
      },
      "source": [
        "def compute_avg_return(environment, policy, num_episodes=10):\n",
        "\n",
        "  total_return = 0.0\n",
        "  for _ in range(num_episodes):\n",
        "\n",
        "    time_step = environment.reset()\n",
        "    episode_return = 0.0\n",
        "\n",
        "    while not time_step.is_last():\n",
        "      action_step = policy.action(time_step)\n",
        "      time_step = environment.step(action_step.action)\n",
        "      episode_return += time_step.reward\n",
        "    total_return += episode_return\n",
        "\n",
        "  avg_return = total_return / num_episodes\n",
        "  return avg_return.numpy()[0]"
      ],
      "execution_count": 30,
      "outputs": []
    },
    {
      "cell_type": "markdown",
      "metadata": {
        "id": "vu9CVSrEDSKB"
      },
      "source": [
        "## Bufer de reproducción.\n",
        "\n",
        "\n",
        "El búfer de reproducción realiza un seguimiento de los datos recopilados del entorno. Este tutorial usa **TFUniformReplayBuffer**. El constructor requiere las especificaciones de los datos que recopilará. Este valor está disponible en el agente mediante el método **collect_data_spec**. También se requieren el tamaño del lote y la longitud máxima del búfer.\n"
      ]
    },
    {
      "cell_type": "code",
      "metadata": {
        "id": "aT9Xz4FfDSxM"
      },
      "source": [
        "replay_buffer = tf_uniform_replay_buffer.TFUniformReplayBuffer(\n",
        "    data_spec=agent.collect_data_spec,\n",
        "    batch_size=train_env.batch_size,\n",
        "    max_length=replay_buffer_max_length)"
      ],
      "execution_count": 31,
      "outputs": []
    },
    {
      "cell_type": "markdown",
      "metadata": {
        "id": "i4M0w5qoK2Wp"
      },
      "source": [
        "Para la mayoría de los agentes, **collect_data_spec** es una tupla con nombre llamada **Trayectoria**, que contiene las especificaciones de observaciones, acciones, recompensas y otros elementos.\n"
      ]
    },
    {
      "cell_type": "code",
      "metadata": {
        "colab": {
          "base_uri": "https://localhost:8080/"
        },
        "id": "1HORAINmK10B",
        "outputId": "f4bd323d-222b-4d3d-bd7e-029924b7222e"
      },
      "source": [
        "agent.collect_data_spec"
      ],
      "execution_count": 32,
      "outputs": [
        {
          "output_type": "execute_result",
          "data": {
            "text/plain": [
              "Trajectory(\n",
              "{'action': BoundedTensorSpec(shape=(), dtype=tf.int64, name='action', minimum=array(0), maximum=array(1)),\n",
              " 'discount': BoundedTensorSpec(shape=(), dtype=tf.float32, name='discount', minimum=array(0., dtype=float32), maximum=array(1., dtype=float32)),\n",
              " 'next_step_type': TensorSpec(shape=(), dtype=tf.int32, name='step_type'),\n",
              " 'observation': BoundedTensorSpec(shape=(4,), dtype=tf.float32, name='observation', minimum=array([-4.8000002e+00, -3.4028235e+38, -4.1887903e-01, -3.4028235e+38],\n",
              "      dtype=float32), maximum=array([4.8000002e+00, 3.4028235e+38, 4.1887903e-01, 3.4028235e+38],\n",
              "      dtype=float32)),\n",
              " 'policy_info': (),\n",
              " 'reward': TensorSpec(shape=(), dtype=tf.float32, name='reward'),\n",
              " 'step_type': TensorSpec(shape=(), dtype=tf.int32, name='step_type')})"
            ]
          },
          "metadata": {
            "tags": []
          },
          "execution_count": 32
        }
      ]
    },
    {
      "cell_type": "markdown",
      "metadata": {
        "id": "62u9MrJzLKhm"
      },
      "source": [
        "## Data Collection\n"
      ]
    },
    {
      "cell_type": "code",
      "metadata": {
        "id": "hm5gAWwELJV1"
      },
      "source": [
        "def collect_step(environment, policy, buffer):\n",
        "  time_step = environment.current_time_step()\n",
        "  action_step = policy.action(time_step)\n",
        "  next_time_step = environment.step(action_step.action)\n",
        "  traj = trajectory.from_transition(time_step, action_step, next_time_step)\n",
        "\n",
        "  # Add trajectory to the replay buffer\n",
        "  buffer.add_batch(traj)\n",
        "\n",
        "def collect_data(env, policy, buffer, steps):\n",
        "  for _ in range(steps):\n",
        "    collect_step(env, policy, buffer)\n",
        "\n",
        "#collect_data(train_env, random_policy, replay_buffer, steps=100)"
      ],
      "execution_count": 34,
      "outputs": []
    },
    {
      "cell_type": "code",
      "metadata": {
        "colab": {
          "base_uri": "https://localhost:8080/"
        },
        "id": "qFvZtB5KNnaB",
        "outputId": "17fa7a89-0ac2-4735-899e-fdcca18b0652"
      },
      "source": [
        "# Dataset generates trajectories with shape [Bx2x...]\n",
        "dataset = replay_buffer.as_dataset(\n",
        "    num_parallel_calls=3, \n",
        "    sample_batch_size=batch_size, \n",
        "    num_steps=2).prefetch(3)"
      ],
      "execution_count": 36,
      "outputs": [
        {
          "output_type": "stream",
          "text": [
            "WARNING:tensorflow:From /usr/local/lib/python3.7/dist-packages/tensorflow/python/autograph/impl/api.py:382: ReplayBuffer.get_next (from tf_agents.replay_buffers.replay_buffer) is deprecated and will be removed in a future version.\n",
            "Instructions for updating:\n",
            "Use `as_dataset(..., single_deterministic_pass=False) instead.\n"
          ],
          "name": "stdout"
        }
      ]
    },
    {
      "cell_type": "code",
      "metadata": {
        "colab": {
          "base_uri": "https://localhost:8080/"
        },
        "id": "42ixn1lTNpfk",
        "outputId": "d433dc21-ce07-456a-ea40-48d1d7a2bff0"
      },
      "source": [
        "iterator = iter(dataset)\n",
        "\n",
        "print(iterator)"
      ],
      "execution_count": 37,
      "outputs": [
        {
          "output_type": "stream",
          "text": [
            "<tensorflow.python.data.ops.iterator_ops.OwnedIterator object at 0x7f13753a8190>\n"
          ],
          "name": "stdout"
        }
      ]
    },
    {
      "cell_type": "markdown",
      "metadata": {
        "id": "zM432vb8LaMG"
      },
      "source": [
        "## Training the agent\n",
        "\n",
        "Deben suceder dos cosas durante el ciclo de entrenamiento:\n",
        "\n",
        "* Recopilar datos del medio ambiente.\n",
        "* Use esos datos para entrenar las redes neuronales del agente\n",
        "\n",
        "Este ejemplo también evalúa periódicamente la política e imprime la puntuación actual.\n",
        "\n",
        "Lo siguiente tardará ~ 5 minutos en ejecutarse."
      ]
    },
    {
      "cell_type": "code",
      "metadata": {
        "colab": {
          "base_uri": "https://localhost:8080/"
        },
        "id": "hk9JoV_pLde0",
        "outputId": "a325a4c3-c529-4e2f-8d52-a2a80a2fab67"
      },
      "source": [
        "# (Optional) Optimize by wrapping some of the code in a graph \n",
        "# using TF function.\n",
        "agent.train = common.function(agent.train)\n",
        "\n",
        "# Reset the train step\n",
        "agent.train_step_counter.assign(0)\n",
        "\n",
        "# Evaluate the agent's policy once before training.\n",
        "avg_return = compute_avg_return(eval_env, agent.policy, \\\n",
        "                                num_eval_episodes)\n",
        "returns = [avg_return]\n",
        "\n",
        "for _ in range(num_iterations):\n",
        "\n",
        "  # Collect a few steps using collect_policy and save to the replay buffer.\n",
        "  for _ in range(collect_steps_per_iteration):\n",
        "    collect_step(train_env, agent.collect_policy, replay_buffer)\n",
        "\n",
        "  # Sample a batch of data from the buffer and update the agent's network.\n",
        "  experience, unused_info = next(iterator)\n",
        "  train_loss = agent.train(experience).loss\n",
        "\n",
        "  step = agent.train_step_counter.numpy()\n",
        "\n",
        "  if step % log_interval == 0:\n",
        "    print('step = {0}: loss = {1}'.format(step, train_loss))\n",
        "\n",
        "  if step % eval_interval == 0:\n",
        "    avg_return = compute_avg_return(eval_env, agent.policy, \\\n",
        "                                    num_eval_episodes)\n",
        "    print('step = {0}: Average Return = {1}'.format(step, avg_return))\n",
        "    returns.append(avg_return)"
      ],
      "execution_count": 38,
      "outputs": [
        {
          "output_type": "stream",
          "text": [
            "WARNING:tensorflow:From /usr/local/lib/python3.7/dist-packages/tensorflow/python/util/dispatch.py:206: calling foldr_v2 (from tensorflow.python.ops.functional_ops) with back_prop=False is deprecated and will be removed in a future version.\n",
            "Instructions for updating:\n",
            "back_prop=False is deprecated. Consider using tf.stop_gradient instead.\n",
            "Instead of:\n",
            "results = tf.foldr(fn, elems, back_prop=False)\n",
            "Use:\n",
            "results = tf.nest.map_structure(tf.stop_gradient, tf.foldr(fn, elems))\n",
            "step = 200: loss = 9.240323066711426\n",
            "step = 400: loss = 3.028635025024414\n",
            "step = 600: loss = 5.563343048095703\n",
            "step = 800: loss = 18.009260177612305\n",
            "step = 1000: loss = 6.115508556365967\n",
            "step = 1000: Average Return = 68.5999984741211\n",
            "step = 1200: loss = 23.400758743286133\n",
            "step = 1400: loss = 24.29511260986328\n",
            "step = 1600: loss = 2.2932446002960205\n",
            "step = 1800: loss = 69.1056137084961\n",
            "step = 2000: loss = 115.39750671386719\n",
            "step = 2000: Average Return = 17.299999237060547\n",
            "step = 2200: loss = 53.00029754638672\n",
            "step = 2400: loss = 49.93019104003906\n",
            "step = 2600: loss = 30.900184631347656\n",
            "step = 2800: loss = 5.145997047424316\n",
            "step = 3000: loss = 49.382720947265625\n",
            "step = 3000: Average Return = 44.70000076293945\n",
            "step = 3200: loss = 62.03211975097656\n",
            "step = 3400: loss = 4.011663913726807\n",
            "step = 3600: loss = 90.72346496582031\n",
            "step = 3800: loss = 4.212192535400391\n",
            "step = 4000: loss = 4.302109718322754\n",
            "step = 4000: Average Return = 69.0999984741211\n",
            "step = 4200: loss = 5.380881309509277\n",
            "step = 4400: loss = 51.24014663696289\n",
            "step = 4600: loss = 106.11463165283203\n",
            "step = 4800: loss = 101.6578598022461\n",
            "step = 5000: loss = 52.95293045043945\n",
            "step = 5000: Average Return = 200.0\n",
            "step = 5200: loss = 119.9442138671875\n",
            "step = 5400: loss = 10.914396286010742\n",
            "step = 5600: loss = 66.03605651855469\n",
            "step = 5800: loss = 15.207228660583496\n",
            "step = 6000: loss = 177.44937133789062\n",
            "step = 6000: Average Return = 158.10000610351562\n",
            "step = 6200: loss = 165.05299377441406\n",
            "step = 6400: loss = 192.289794921875\n",
            "step = 6600: loss = 26.67222785949707\n",
            "step = 6800: loss = 43.69678497314453\n",
            "step = 7000: loss = 66.96696472167969\n",
            "step = 7000: Average Return = 194.10000610351562\n",
            "step = 7200: loss = 164.9674530029297\n",
            "step = 7400: loss = 289.81292724609375\n",
            "step = 7600: loss = 120.7410888671875\n",
            "step = 7800: loss = 539.48779296875\n",
            "step = 8000: loss = 11.098337173461914\n",
            "step = 8000: Average Return = 199.5\n",
            "step = 8200: loss = 499.9051818847656\n",
            "step = 8400: loss = 16.77227020263672\n",
            "step = 8600: loss = 244.3606719970703\n",
            "step = 8800: loss = 41.688568115234375\n",
            "step = 9000: loss = 310.1907958984375\n",
            "step = 9000: Average Return = 185.1999969482422\n",
            "step = 9200: loss = 378.74114990234375\n",
            "step = 9400: loss = 12.911781311035156\n",
            "step = 9600: loss = 26.58603286743164\n",
            "step = 9800: loss = 24.29900550842285\n",
            "step = 10000: loss = 289.54425048828125\n",
            "step = 10000: Average Return = 194.3000030517578\n",
            "step = 10200: loss = 14.782979011535645\n",
            "step = 10400: loss = 27.56200408935547\n",
            "step = 10600: loss = 80.72262573242188\n",
            "step = 10800: loss = 26.811969757080078\n",
            "step = 11000: loss = 66.70991516113281\n",
            "step = 11000: Average Return = 199.39999389648438\n",
            "step = 11200: loss = 36.89555358886719\n",
            "step = 11400: loss = 20.6795654296875\n",
            "step = 11600: loss = 12.169038772583008\n",
            "step = 11800: loss = 23.72891616821289\n",
            "step = 12000: loss = 22.80111312866211\n",
            "step = 12000: Average Return = 200.0\n",
            "step = 12200: loss = 29.00953483581543\n",
            "step = 12400: loss = 424.0617370605469\n",
            "step = 12600: loss = 1273.560791015625\n",
            "step = 12800: loss = 32.70476150512695\n",
            "step = 13000: loss = 827.2210693359375\n",
            "step = 13000: Average Return = 196.5\n",
            "step = 13200: loss = 558.6688842773438\n",
            "step = 13400: loss = 130.37908935546875\n",
            "step = 13600: loss = 82.10887908935547\n",
            "step = 13800: loss = 28.0135555267334\n",
            "step = 14000: loss = 348.098388671875\n",
            "step = 14000: Average Return = 197.3000030517578\n",
            "step = 14200: loss = 32.79030227661133\n",
            "step = 14400: loss = 37.842918395996094\n",
            "step = 14600: loss = 31.56209945678711\n",
            "step = 14800: loss = 23.044424057006836\n",
            "step = 15000: loss = 359.33880615234375\n",
            "step = 15000: Average Return = 197.1999969482422\n",
            "step = 15200: loss = 44.54909133911133\n",
            "step = 15400: loss = 37.09573745727539\n",
            "step = 15600: loss = 18.879764556884766\n",
            "step = 15800: loss = 101.77457427978516\n",
            "step = 16000: loss = 1168.49609375\n",
            "step = 16000: Average Return = 182.1999969482422\n",
            "step = 16200: loss = 2442.79052734375\n",
            "step = 16400: loss = 28.807785034179688\n",
            "step = 16600: loss = 50.93849563598633\n",
            "step = 16800: loss = 3008.061767578125\n",
            "step = 17000: loss = 36.002174377441406\n",
            "step = 17000: Average Return = 195.5\n",
            "step = 17200: loss = 25.546611785888672\n",
            "step = 17400: loss = 805.0007934570312\n",
            "step = 17600: loss = 33.432926177978516\n",
            "step = 17800: loss = 742.156982421875\n",
            "step = 18000: loss = 481.5718994140625\n",
            "step = 18000: Average Return = 194.89999389648438\n",
            "step = 18200: loss = 36.269466400146484\n",
            "step = 18400: loss = 60.21879577636719\n",
            "step = 18600: loss = 1288.818603515625\n",
            "step = 18800: loss = 56.611244201660156\n",
            "step = 19000: loss = 53.00956726074219\n",
            "step = 19000: Average Return = 196.60000610351562\n",
            "step = 19200: loss = 57.720481872558594\n",
            "step = 19400: loss = 36.484580993652344\n",
            "step = 19600: loss = 481.21173095703125\n",
            "step = 19800: loss = 33.756343841552734\n",
            "step = 20000: loss = 90.332763671875\n",
            "step = 20000: Average Return = 197.1999969482422\n"
          ],
          "name": "stdout"
        }
      ]
    },
    {
      "cell_type": "markdown",
      "metadata": {
        "id": "4uws1lWSTYIO"
      },
      "source": [
        "##Visualización"
      ]
    },
    {
      "cell_type": "code",
      "metadata": {
        "colab": {
          "base_uri": "https://localhost:8080/",
          "height": 300
        },
        "id": "y76BBLAwTcx0",
        "outputId": "d299c548-532f-433f-f8a3-0d0f08ce1cc4"
      },
      "source": [
        "iterations = range(0, num_iterations + 1, eval_interval)\n",
        "plt.plot(iterations, returns)\n",
        "plt.ylabel('Average Return')\n",
        "plt.xlabel('Iterations')\n",
        "plt.ylim(top=250)"
      ],
      "execution_count": 39,
      "outputs": [
        {
          "output_type": "execute_result",
          "data": {
            "text/plain": [
              "(8.164999198913574, 250.0)"
            ]
          },
          "metadata": {
            "tags": []
          },
          "execution_count": 39
        },
        {
          "output_type": "display_data",
          "data": {
            "image/png": "[encoded data removed]",
            "text/plain": [
              "<Figure size 432x288 with 1 Axes>"
            ]
          },
          "metadata": {
            "tags": [],
            "needs_background": "light"
          }
        }
      ]
    },
    {
      "cell_type": "markdown",
      "metadata": {
        "id": "xhL7Hvg9ToaF"
      },
      "source": [
        "##Video\n",
        "\n"
      ]
    },
    {
      "cell_type": "code",
      "metadata": {
        "id": "gIRD6hKGTlw4"
      },
      "source": [
        "def embed_mp4(filename):\n",
        "  \"\"\"Embeds an mp4 file in the notebook.\"\"\"\n",
        "  video = open(filename,'rb').read()\n",
        "  b64 = base64.b64encode(video)\n",
        "  tag = '''\n",
        "  <video width=\"640\" height=\"480\" controls>\n",
        "    <source src=\"data:video/mp4;base64,{0}\" type=\"video/mp4\">\n",
        "  Your browser does not support the video tag.\n",
        "  </video>'''.format(b64.decode())\n",
        "\n",
        "  return IPython.display.HTML(tag)"
      ],
      "execution_count": 40,
      "outputs": []
    },
    {
      "cell_type": "code",
      "metadata": {
        "colab": {
          "base_uri": "https://localhost:8080/",
          "height": 538
        },
        "id": "w-3gsWdwTwHn",
        "outputId": "5b943fef-6153-4cb3-b5a6-4fd2b2e9fd6b"
      },
      "source": [
        "def create_policy_eval_video(policy, filename, num_episodes=5, fps=30):\n",
        "  filename = filename + \".mp4\"\n",
        "  with imageio.get_writer(filename, fps=fps) as video:\n",
        "    for _ in range(num_episodes):\n",
        "      time_step = eval_env.reset()\n",
        "      video.append_data(eval_py_env.render())\n",
        "      while not time_step.is_last():\n",
        "        action_step = policy.action(time_step)\n",
        "        time_step = eval_env.step(action_step.action)\n",
        "        video.append_data(eval_py_env.render())\n",
        "  return embed_mp4(filename)\n",
        "\n",
        "\n",
        "\n",
        "\n",
        "create_policy_eval_video(agent.policy, \"trained-agent\")"
      ],
      "execution_count": 41,
      "outputs": [
        {
          "output_type": "stream",
          "text": [
            "WARNING:root:IMAGEIO FFMPEG_WRITER WARNING: input image is not divisible by macro_block_size=16, resizing from (400, 600) to (400, 608) to ensure video compatibility with most codecs and players. To prevent resizing, make your input image divisible by the macro_block_size or set the macro_block_size to None (risking incompatibility). You may also see a FFMPEG warning concerning speedloss due to data not being aligned.\n"
          ],
          "name": "stderr"
        },
        {
          "output_type": "execute_result",
          "data": {
            "text/html": [
              "\n",
              "  <video width=\"640\" height=\"480\" controls>\n",
              "    <source src=\"data:video/mp4;base64,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\" type=\"video/mp4\">\n",
              "  Your browser does not support the video tag.\n",
              "  </video>"
            ],
            "text/plain": [
              "<IPython.core.display.HTML object>"
            ]
          },
          "metadata": {
            "tags": []
          },
          "execution_count": 41
        }
      ]
    }
  ]
}