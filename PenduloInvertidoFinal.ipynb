{
  "nbformat": 4,
  "nbformat_minor": 0,
  "metadata": {
    "anaconda-cloud": {},
    "kernelspec": {
      "display_name": "Python 3.6 (tensorflow)",
      "language": "python",
      "name": "tensorflow"
    },
    "language_info": {
      "codemirror_mode": {
        "name": "ipython",
        "version": 3
      },
      "file_extension": ".py",
      "mimetype": "text/x-python",
      "name": "python",
      "nbconvert_exporter": "python",
      "pygments_lexer": "ipython3",
      "version": "3.7.7"
    },
    "colab": {
      "name": "PenduloInvertidoFinal",
      "provenance": [],
      "include_colab_link": true
    }
  },
  "cells": [
    {
      "cell_type": "markdown",
      "metadata": {
        "id": "view-in-github",
        "colab_type": "text"
      },
      "source": [
        "<a href=\"https://colab.research.google.com/github/ValenzuelaDiego/proyectoInteligenciaArtificial/blob/main/PenduloInvertidoFinal.ipynb\" target=\"_parent\"><img src=\"https://colab.research.google.com/assets/colab-badge.svg\" alt=\"Open In Colab\"/></a>"
      ]
    },
    {
      "cell_type": "markdown",
      "metadata": {
        "id": "klGNgWREsvQv"
      },
      "source": [
        "<a href=\"https://colab.research.google.com/github/jeffheaton/t81_558_deep_learning/blob/master/t81_558_class_12_03_keras_reinforce.ipynb\" target=\"_parent\"><img src=\"https://colab.research.google.com/assets/colab-badge.svg\" alt=\"Open In Colab\"/></a>"
      ]
    },
    {
      "cell_type": "markdown",
      "metadata": {
        "id": "pmDI-h7cI0tI"
      },
      "source": [
        "# Applicaciones de Deep Neural Networks"
      ]
    },
    {
      "cell_type": "markdown",
      "metadata": {
        "id": "cKOCZlhUgXVK"
      },
      "source": [
        "# Google CoLab Instructions\n",
        "\n",
        "El siguiente codigo se asegura que Google Colab esta corriendo la version correcta de TensorFlow."
      ]
    },
    {
      "cell_type": "code",
      "metadata": {
        "colab": {
          "base_uri": "https://localhost:8080/"
        },
        "id": "Y0WC-M08zNNq",
        "outputId": "fca2660d-6fbc-4e1a-912d-94208feac746"
      },
      "source": [
        "try:\n",
        "    from google.colab import drive\n",
        "    %tensorflow_version 2.x\n",
        "    COLAB = True\n",
        "    print(\"Note: using Google CoLab\")\n",
        "except:\n",
        "    print(\"Note: not using Google CoLab\")\n",
        "    COLAB = False"
      ],
      "execution_count": null,
      "outputs": [
        {
          "output_type": "stream",
          "text": [
            "Note: using Google CoLab\n"
          ],
          "name": "stdout"
        }
      ]
    },
    {
      "cell_type": "code",
      "metadata": {
        "colab": {
          "base_uri": "https://localhost:8080/"
        },
        "id": "FreS1XOPzO9X",
        "outputId": "ececa022-9ac6-4ad2-d5bc-cd7e05e3aae3"
      },
      "source": [
        "if COLAB:\n",
        "  !sudo apt-get install -y xvfb ffmpeg x11-utils\n",
        "  #!pip install -q 'gym==0.10.11'\n",
        "  !pip install -q 'gym==0.17.0'\n",
        "  !pip install -q 'imageio==2.4.0'\n",
        "  #!pip install -q 'imageio==0.2.7'\n",
        "  !pip install -q PILLOW\n",
        "  #!pip install -q 'pyglet==1.3.2'\n",
        "  !pip install -q 'pyglet==1.5.0'\n",
        "  !pip install -q pyvirtualdisplay\n",
        "  !pip install -q tf-agents"
      ],
      "execution_count": null,
      "outputs": [
        {
          "output_type": "stream",
          "text": [
            "Reading package lists... Done\n",
            "Building dependency tree       \n",
            "Reading state information... Done\n",
            "x11-utils is already the newest version (7.7+3build1).\n",
            "ffmpeg is already the newest version (7:3.4.8-0ubuntu0.2).\n",
            "xvfb is already the newest version (2:1.19.6-1ubuntu4.9).\n",
            "0 upgraded, 0 newly installed, 0 to remove and 39 not upgraded.\n"
          ],
          "name": "stdout"
        }
      ]
    },
    {
      "cell_type": "markdown",
      "metadata": {
        "id": "1u9QVVsShC9X"
      },
      "source": [
        "# Part 12.3: Keras Q-Learning in the OpenAI Gym\n",
        "\n",
        "Q-Learning, como cubrimos en la parte anterior, es un algoritmo robusto de aprendizaje automático. Desafortunadamente, Q-Learning requiere que la Q-table contenga una entrada para cada estado posible que pueda tomar el entorno. Si el entorno solo incluye un puñado de elementos de estado discretos, entonces el \n",
        "Q-learning tradicional podría ser un buen algoritmo de aprendizaje. Sin embargo, si el espacio de estados es grande, la tabla Q puede llegar a ser prohibitivamente grande.\n",
        "\n",
        "La creación de políticas para grandes espacios estatales es una tarea que Deep Q-Learning Networks (DQN) generalmente puede manejar. A diferencia de una tabla, una red neuronal no requiere que el programa represente cada combinación de estado y acción. Las redes neuronales pueden generalizar estos estados y aprender puntos en común. Un DQN asigna el estado a sus neuronas de entrada y los valores Q de acción a las neuronas de salida. El DQN se convierte efectivamente en una función que acepta el estado y sugiere una acción al devolver la recompensa esperada por cada una de las posibles acciones. Figura 12 DQL muestra la estructura DQN y el mapeo entre estado y acción.\n",
        "\n",
        "\n",
        "**Figure 12.DQL: Deep Q-Learning (DQL)**\n",
        "![Deep Q-Learning](https://raw.githubusercontent.com/jeffheaton/t81_558_deep_learning/master/images/deepqlearning.png \"Reinforcement Learning\")\n",
        "\n",
        "\n"
      ]
    },
    {
      "cell_type": "markdown",
      "metadata": {
        "id": "kNrNXKI7bINP"
      },
      "source": [
        "Como ilustra este diagrama, el estado del entorno contiene varios elementos. Para el DQN básico, el estado puede ser una combinación de valores continuos y categóricos / discretos. Para el DQN, los elementos de estado discretos que el programa codificaba normalmente como variables ficticias. Las acciones deben ser discretas cuando su programa implemente un DQN. Otros algoritmos admiten salidas continuas, que analizaremos más adelante en este capítulo.\n",
        "\n",
        "\n",
        "En este capítulo, haremos uso de [TF-Agents](https://www.tensorflow.org/agents) para implementar un DQN para resolver el entorno de poste de carro. TF-Agents facilita el diseño, la implementación y la prueba de nuevos algoritmos RL al proporcionar componentes modulares bien probados que se pueden modificar y ampliar. Permite una rápida iteración de código, con integración de pruebas funcionales y evaluación comparativa.\n",
        "\n",
        "\n",
        "## DQN and the Cart-Pole Problem\n",
        "\n",
        "Barto (1983) first described the cart-pole problem. [[Cite:barto1983neuronlike]](http://www.derongliu.org/adp/adp-cdrom/Barto1983.pdf) \n",
        "\n",
        "Un carro está conectado a un poste rígido con bisagras. El carro se puede mover libremente solo en el plano vertical del carro / riel. El agente puede aplicar una fuerza implusiva \"izquierda\" o \"derecha\" F de una magnitud fija al carro a intervalos de tiempo discretos. El entorno del carro-poste simula la física detrás de mantener el poste en una posición razonablemente vertical en el carro. El entorno tiene cuatro variables de estado:\n",
        "* $ x $ La posición del carrito en la pista.\n",
        "* $ \\ theta $ El ángulo del poste con la vertical\n",
        "* $ \\ dot {x} $ La velocidad del carrito.\n",
        "* $ \\ dot {\\ theta} $ La tasa de cambio del ángulo.\n",
        "\n",
        "El espacio de acción consta de acciones discretas:\n",
        "* Aplicar fuerza a la izquierda\n",
        "* Aplicar fuerza a la derecha\n",
        "\n",
        "Para aplicar DQN a este problema, debe crear los siguientes componentes para TF-Agents.\n",
        "\n",
        "* Ambiente\n",
        "* Agente\n",
        "* Políticas\n",
        "* Métricas y Evaluación\n",
        "* Búfer de reproducción\n",
        "* Recopilación de datos\n",
        "* Trainning\n",
        "\n",
        "Estos componentes son estándar en la mayoría de las implementaciones de DQN. Posteriormente, aplicaremos estos mismos componentes a un juego de Atari, y después de eso, un problema de nuestro diseño. Este ejemplo se basa en el\n",
        " [cart-pole tutorial](https://github.com/tensorflow/agents/blob/master/docs/tutorials/1_dqn_tutorial.ipynb) provided for TF-Agents.  Comenzamos importando las bibliotecas de Python necesarias.\n",
        "\n"
      ]
    },
    {
      "cell_type": "code",
      "metadata": {
        "id": "sMitx5qSgJk1"
      },
      "source": [
        "import base64\n",
        "import imageio\n",
        "import IPython\n",
        "import matplotlib\n",
        "import matplotlib.pyplot as plt\n",
        "import numpy as np\n",
        "import PIL.Image\n",
        "import pyvirtualdisplay\n",
        "\n",
        "import tensorflow as tf\n",
        "\n",
        "from tf_agents.agents.dqn import dqn_agent\n",
        "from tf_agents.drivers import dynamic_step_driver\n",
        "from tf_agents.environments import suite_gym\n",
        "from tf_agents.environments import tf_py_environment\n",
        "from tf_agents.eval import metric_utils\n",
        "from tf_agents.metrics import tf_metrics\n",
        "from tf_agents.networks import q_network\n",
        "from tf_agents.policies import random_tf_policy\n",
        "from tf_agents.replay_buffers import tf_uniform_replay_buffer\n",
        "from tf_agents.trajectories import trajectory\n",
        "from tf_agents.utils import common"
      ],
      "execution_count": null,
      "outputs": []
    },
    {
      "cell_type": "code",
      "metadata": {
        "id": "J6HsdS5GbSjd"
      },
      "source": [
        "# Configure una pantalla virtual para renderizar entornos de OpenAI gym.\n",
        "display = pyvirtualdisplay.Display(visible=0, size=(1400, 900)).start()"
      ],
      "execution_count": null,
      "outputs": []
    },
    {
      "cell_type": "markdown",
      "metadata": {
        "id": "LmC0NDhdLIKY"
      },
      "source": [
        "## Hyperparameters\n",
        "\n",
        "Deben definirse varios hiperparámetros. El ejemplo de TF-Agent proporcionó hiperparámetros razonablemente bien ajustados para el cart-pole. "
      ]
    },
    {
      "cell_type": "code",
      "metadata": {
        "id": "HC1kNrOsLSIZ"
      },
      "source": [
        "# How long should training run?\n",
        "num_iterations = 20000 \n",
        "# How many initial random steps, before training start, to\n",
        "# collect initial data.\n",
        "initial_collect_steps = 1000   \n",
        "# How many steps should we run each iteration to collect \n",
        "# data from.\n",
        "collect_steps_per_iteration = 1 \n",
        "# How much data should we store for training examples.\n",
        "replay_buffer_max_length = 100000\n",
        "\n",
        "batch_size = 64  \n",
        "learning_rate = 1e-3 \n",
        "# How often should the program provide an update.\n",
        "log_interval = 200  \n",
        "\n",
        "# How many episodes should the program use for each evaluation.\n",
        "num_eval_episodes = 10\n",
        "# How often should an evaluation occur.\n",
        "eval_interval = 1000  "
      ],
      "execution_count": null,
      "outputs": []
    },
    {
      "cell_type": "markdown",
      "metadata": {
        "id": "VMsJC3DEgI0x"
      },
      "source": [
        "## Environment\n",
        "\n",
        "TF-Agents utiliza entornos de OpenAI gym para representar la tarea o problema a resolver. Se pueden crear entornos estándar en TF-Agents usando **tf_agents.environments** suites. TF-Agents tiene suites para cargar entornos de fuentes como OpenAI Gym, Atari y DM Control. Comenzamos cargando el entorno CartPole desde la suite OpenAI Gym.\n"
      ]
    },
    {
      "cell_type": "code",
      "metadata": {
        "id": "pYEz-S9gEv2-"
      },
      "source": [
        "env_name = 'CartPole-v0'\n",
        "env = suite_gym.load(env_name)"
      ],
      "execution_count": null,
      "outputs": []
    },
    {
      "cell_type": "markdown",
      "metadata": {
        "id": "IIHYVBkuvPNw"
      },
      "source": [
        "\n",
        "Rápidamente renderizaremos este entorno para ver la representación visual.\n"
      ]
    },
    {
      "cell_type": "code",
      "metadata": {
        "colab": {
          "base_uri": "https://localhost:8080/",
          "height": 417
        },
        "id": "RlO7WIQHu_7D",
        "outputId": "b8b19ca3-1f56-4056-acec-ac69d6b36f08"
      },
      "source": [
        "env.reset()\n",
        "PIL.Image.fromarray(env.render())"
      ],
      "execution_count": null,
      "outputs": [
        {
          "output_type": "execute_result",
          "data": {
            "image/png": "[encoded data removed]",
            "text/plain": [
              "<PIL.Image.Image image mode=RGB size=600x400 at 0x7FB99C036B10>"
            ]
          },
          "metadata": {
            "tags": []
          },
          "execution_count": 64
        }
      ]
    },
    {
      "cell_type": "markdown",
      "metadata": {
        "id": "B9_lskPOey18"
      },
      "source": [
        "El método `environment.step` toma una` acción` en el entorno y devuelve una tupla de `TimeStep` que contiene la siguiente observación del entorno y la recompensa por la acción.\n",
        "\n",
        "\n",
        "El método `time_step_spec ()` devuelve la especificación de la tupla `TimeStep`. Su atributo \"observación\" muestra la forma de las observaciones, los tipos de datos y los rangos de valores permitidos. El atributo \"recompensa\" muestra los mismos detalles para la recompensa.\n"
      ]
    },
    {
      "cell_type": "code",
      "metadata": {
        "colab": {
          "base_uri": "https://localhost:8080/"
        },
        "id": "exDv57iHfwQV",
        "outputId": "84594a63-9ab4-41a0-e33a-b13afbbfabde"
      },
      "source": [
        "print('Especificaciones de Observacion:')\n",
        "print(env.time_step_spec().observation)"
      ],
      "execution_count": null,
      "outputs": [
        {
          "output_type": "stream",
          "text": [
            "Especificaciones de Observacion:\n",
            "BoundedArraySpec(shape=(4,), dtype=dtype('float32'), name='observation', minimum=[-4.8000002e+00 -3.4028235e+38 -4.1887903e-01 -3.4028235e+38], maximum=[4.8000002e+00 3.4028235e+38 4.1887903e-01 3.4028235e+38])\n"
          ],
          "name": "stdout"
        }
      ]
    },
    {
      "cell_type": "code",
      "metadata": {
        "colab": {
          "base_uri": "https://localhost:8080/"
        },
        "id": "UxiSyCbBUQPi",
        "outputId": "87043803-09f7-4871-8577-15873d99473c"
      },
      "source": [
        "print('Especificaciones de las Recompensas:')\n",
        "print(env.time_step_spec().reward)"
      ],
      "execution_count": null,
      "outputs": [
        {
          "output_type": "stream",
          "text": [
            "Especificaciones de las Recompensas:\n",
            "ArraySpec(shape=(), dtype=dtype('float32'), name='reward')\n"
          ],
          "name": "stdout"
        }
      ]
    },
    {
      "cell_type": "markdown",
      "metadata": {
        "id": "b_lHcIcqUaqB"
      },
      "source": [
        "El método `action_spec ()` devuelve la forma, los tipos de datos y los valores permitidos de las acciones válidas.\n",
        "\n",
        "> Bloque con sangría\n",
        "\n"
      ]
    },
    {
      "cell_type": "code",
      "metadata": {
        "colab": {
          "base_uri": "https://localhost:8080/"
        },
        "id": "bttJ4uxZUQBr",
        "outputId": "72d2740e-fed2-4abd-f7ea-8811ee3210de"
      },
      "source": [
        "print('Especificaciones de la Accion:')\n",
        "print(env.action_spec())"
      ],
      "execution_count": null,
      "outputs": [
        {
          "output_type": "stream",
          "text": [
            "Especificaciones de la Accion:\n",
            "BoundedArraySpec(shape=(), dtype=dtype('int64'), name='action', minimum=0, maximum=1)\n"
          ],
          "name": "stdout"
        }
      ]
    },
    {
      "cell_type": "markdown",
      "metadata": {
        "id": "eJCgJnx3g0yY"
      },
      "source": [
        "En el entorno Cartpole:\n",
        "\n",
        "- `observación` es una matriz de 4 float:\n",
        "    - la posición y velocidad del carro\n",
        "    - la posición angular y la velocidad del poste\n",
        "- `recompensa` es un valor float escalar\n",
        "- `action` es un entero escalar con solo dos valores posibles:\n",
        "    - `0` -\" mover a la izquierda \"\n",
        "    - `1` -\" mover a la derecha \"\n",
        "\n"
      ]
    },
    {
      "cell_type": "code",
      "metadata": {
        "colab": {
          "base_uri": "https://localhost:8080/"
        },
        "id": "V2UGR5t_iZX-",
        "outputId": "92bbf82f-8b63-4707-aebf-b085ef4783a8"
      },
      "source": [
        "time_step = env.reset()\n",
        "print('Time step:')\n",
        "print(time_step)\n",
        "\n",
        "action = np.array(1, dtype=np.int32)\n",
        "\n",
        "next_time_step = env.step(action)\n",
        "print('Next time step:')\n",
        "print(next_time_step)"
      ],
      "execution_count": null,
      "outputs": [
        {
          "output_type": "stream",
          "text": [
            "Time step:\n",
            "TimeStep(\n",
            "{'discount': array(1., dtype=float32),\n",
            " 'observation': array([ 0.00336044, -0.03365254, -0.00528065, -0.04748295], dtype=float32),\n",
            " 'reward': array(0., dtype=float32),\n",
            " 'step_type': array(0, dtype=int32)})\n",
            "Next time step:\n",
            "TimeStep(\n",
            "{'discount': array(1., dtype=float32),\n",
            " 'observation': array([ 0.00268739,  0.16154474, -0.00623031, -0.34182727], dtype=float32),\n",
            " 'reward': array(1., dtype=float32),\n",
            " 'step_type': array(1, dtype=int32)})\n"
          ],
          "name": "stdout"
        }
      ]
    },
    {
      "cell_type": "markdown",
      "metadata": {
        "id": "4JSc9GviWUBK"
      },
      "source": [
        "Por lo general, el programa crea dos entornos: uno para entrenamiento y otro para evaluación.\n"
      ]
    },
    {
      "cell_type": "code",
      "metadata": {
        "id": "N7brXNIGWXjC"
      },
      "source": [
        "train_py_env = suite_gym.load(env_name)\n",
        "eval_py_env = suite_gym.load(env_name)"
      ],
      "execution_count": null,
      "outputs": []
    },
    {
      "cell_type": "markdown",
      "metadata": {
        "id": "zuUqXAVmecTU"
      },
      "source": [
        "El entorno Cartpole, como la mayoría de los entornos, está escrito en Python puro y se convierte a TF-Agents y TensorFlow mediante el contenedor **TFPyEnvironment**. La API del entorno original utiliza matrices Numpy. **TFPyEnvironment** los convierte en **Tensores** para que sean compatibles con los agentes y las políticas de Tensorflow.\n"
      ]
    },
    {
      "cell_type": "code",
      "metadata": {
        "id": "Xp-Y4mD6eDhF"
      },
      "source": [
        "train_env = tf_py_environment.TFPyEnvironment(train_py_env)\n",
        "eval_env = tf_py_environment.TFPyEnvironment(eval_py_env)"
      ],
      "execution_count": null,
      "outputs": []
    },
    {
      "cell_type": "markdown",
      "metadata": {
        "id": "E9lW_OZYFR8A"
      },
      "source": [
        "## Agente\n",
        "\n",
        "Un agente representa el algoritmo utilizado para resolver un problema de RL. TF-Agents proporciona implementaciones estándar de una variedad de agentes:\n",
        "\n",
        "-   [DQN](https://storage.googleapis.com/deepmind-media/dqn/DQNNaturePaper.pdf) (used in this example)\n",
        "-   [REINFORCE](http://www-anw.cs.umass.edu/~barto/courses/cs687/williams92simple.pdf)\n",
        "-   [DDPG](https://arxiv.org/pdf/1509.02971.pdf)\n",
        "-   [TD3](https://arxiv.org/pdf/1802.09477.pdf)\n",
        "-   [PPO](https://arxiv.org/abs/1707.06347)\n",
        "-   [SAC](https://arxiv.org/abs/1801.01290).\n",
        "\n",
        "Solo puede utilizar el agente DQN en entornos que tengan un espacio de acción discreto. El DQN hace uso de QNetwork, un modelo de red neuronal que aprende a predecir Q-Values ​​(retornos esperados) para todas las acciones, dado un estado del entorno.\n",
        "\n",
        "El siguiente código usa **tf_agents.networks.q_network** para crear una QNetwork, pasando la **observación_espec**, **acción_espec** y una tupla que describe el número y tamaño de las capas ocultas del modelo.\n",
        "\n"
      ]
    },
    {
      "cell_type": "code",
      "metadata": {
        "id": "TgkdEPg_muzV"
      },
      "source": [
        "fc_layer_params = (100,)\n",
        "\n",
        "q_net = q_network.QNetwork(\n",
        "    train_env.observation_spec(),\n",
        "    train_env.action_spec(),\n",
        "    fc_layer_params=fc_layer_params)"
      ],
      "execution_count": null,
      "outputs": []
    },
    {
      "cell_type": "markdown",
      "metadata": {
        "id": "z62u55hSmviJ"
      },
      "source": [
        "Ahora usamos **tf_agents.agents.dqn.dqn_agent** para instanciar un **DqnAgent**. Además de **time_step_spec**, **action_spec** y QNetwork, el constructor del agente también requiere un optimizador (en este caso, **AdamOptimizer**), una función de pérdida y un contador de pasos de números enteros.\n"
      ]
    },
    {
      "cell_type": "code",
      "metadata": {
        "id": "jbY4yrjTEyc9"
      },
      "source": [
        "optimizer = tf.compat.v1.train.AdamOptimizer(learning_rate=learning_rate)\n",
        "\n",
        "train_step_counter = tf.Variable(0)\n",
        "\n",
        "agent = dqn_agent.DqnAgent(\n",
        "    train_env.time_step_spec(),\n",
        "    train_env.action_spec(),\n",
        "    q_network=q_net,\n",
        "    optimizer=optimizer,\n",
        "    td_errors_loss_fn=common.element_wise_squared_loss,\n",
        "    train_step_counter=train_step_counter)\n",
        "\n",
        "agent.initialize()"
      ],
      "execution_count": null,
      "outputs": []
    },
    {
      "cell_type": "markdown",
      "metadata": {
        "id": "I0KLrEPwkn5x"
      },
      "source": [
        "## Políticas\n",
        "\n",
        "Una política define la forma en que actúa un agente en un entorno. Normalmente, el objetivo del aprendizaje por refuerzo es entrenar el modelo subyacente hasta que la política produzca el resultado deseado.\n",
        "\n",
        "En este ejemplo:\n",
        "\n",
        "* El resultado deseado es mantener el poste equilibrado en posición vertical sobre el carro.\n",
        "* La política devuelve una acción (izquierda o derecha) para cada observación de \"time_step\".\n",
        "\n",
        "Los agentes contienen dos políticas:\n",
        "\n",
        "* **agent.policy**: el algoritmo utiliza esta política principal para la evaluación y la implementación.\n",
        "* **agent.collect_policy**: el algoritmo de esta política secundaria para la recopilación de datos.\n",
        "\n"
      ]
    },
    {
      "cell_type": "code",
      "metadata": {
        "id": "BwY7StuMkuV4"
      },
      "source": [
        "eval_policy = agent.policy\n",
        "collect_policy = agent.collect_policy"
      ],
      "execution_count": null,
      "outputs": []
    },
    {
      "cell_type": "markdown",
      "metadata": {
        "id": "2Qs1Fl3dV0ae"
      },
      "source": [
        "Las políticas se pueden crear independientemente de los agentes. Por ejemplo, use **tf_agents.policies.random_tf_policy** para crear una política que seleccionará aleatoriamente una acción para cada **time_step**. Usaremos esta política aleatoria para crear datos de recopilación inicial para comenzar la capacitación.\n"
      ]
    },
    {
      "cell_type": "code",
      "metadata": {
        "id": "HE37-UCIrE69"
      },
      "source": [
        "random_policy = random_tf_policy.RandomTFPolicy(train_env.time_step_spec(),\n",
        "                                                train_env.action_spec())"
      ],
      "execution_count": null,
      "outputs": []
    },
    {
      "cell_type": "markdown",
      "metadata": {
        "id": "dOlnlRRsUbxP"
      },
      "source": [
        "Para obtener una acción de una política, llame al método **policy.action (time_step)**. **time_step** contiene la observación del entorno. Este método devuelve un **PolicyStep**, que es una tupla con nombre con tres componentes:\n",
        "* **action**: la acción que se va a realizar (en este caso, 0 o 1).\n",
        "* **estado**: se utiliza para políticas con estado (es decir, basadas en RNN).\n",
        "* **info**: datos auxiliares, como el registro de probabilidades de acciones.\n",
        "\n",
        "A continuación, creamos un entorno y configuramos la política aleatoria."
      ]
    },
    {
      "cell_type": "code",
      "metadata": {
        "colab": {
          "base_uri": "https://localhost:8080/"
        },
        "id": "5gCcpXswVAxk",
        "outputId": "cd487b0e-3b62-4777-edb9-4510bf8a15bc"
      },
      "source": [
        "example_environment = tf_py_environment.TFPyEnvironment(\n",
        "    suite_gym.load('CartPole-v0'))\n",
        "time_step = example_environment.reset()\n",
        "random_policy.action(time_step)"
      ],
      "execution_count": null,
      "outputs": [
        {
          "output_type": "execute_result",
          "data": {
            "text/plain": [
              "PolicyStep(action=<tf.Tensor: shape=(1,), dtype=int64, numpy=array([0])>, state=(), info=())"
            ]
          },
          "metadata": {
            "tags": []
          },
          "execution_count": 75
        }
      ]
    },
    {
      "cell_type": "markdown",
      "metadata": {
        "id": "94rCXQtbUbXv"
      },
      "source": [
        "## Métricas y evaluación\n",
        "\n",
        "La métrica más común utilizada para evaluar una politica es el rendimiento promedio. El retorno es la suma de las recompensas obtenidas al ejecutar una política en un entorno para un episodio. Se ejecutan varios episodios, lo que genera un rendimiento promedio. La siguiente función calcula el rendimiento promedio de una política, dados la política, el entorno y una serie de episodios.\n"
      ]
    },
    {
      "cell_type": "code",
      "metadata": {
        "id": "bitzHo5_UbXy"
      },
      "source": [
        "def compute_avg_return(environment, policy, num_episodes=10):\n",
        "\n",
        "  total_return = 0.0\n",
        "  for _ in range(num_episodes):\n",
        "\n",
        "    time_step = environment.reset()\n",
        "    episode_return = 0.0\n",
        "\n",
        "    while not time_step.is_last():\n",
        "      action_step = policy.action(time_step)\n",
        "      time_step = environment.step(action_step.action)\n",
        "      episode_return += time_step.reward\n",
        "    total_return += episode_return\n",
        "\n",
        "  avg_return = total_return / num_episodes\n",
        "  return avg_return.numpy()[0]\n",
        "\n",
        "\n",
        "# See also the metrics module for standard implementations \n",
        "# of different metrics.\n",
        "# https://github.com/tensorflow/agents/tree/master/tf_agents/metrics"
      ],
      "execution_count": null,
      "outputs": []
    },
    {
      "cell_type": "markdown",
      "metadata": {
        "id": "_snCVvq5Z8lJ"
      },
      "source": [
        "La ejecución de este cálculo en `random_policy` muestra un rendimiento de referencia en el entorno.\n"
      ]
    },
    {
      "cell_type": "code",
      "metadata": {
        "colab": {
          "base_uri": "https://localhost:8080/"
        },
        "id": "9bgU6Q6BZ8Bp",
        "outputId": "714889b3-629f-4f5a-9f79-852d82a5ba17"
      },
      "source": [
        "compute_avg_return(eval_env, random_policy, num_eval_episodes)"
      ],
      "execution_count": null,
      "outputs": [
        {
          "output_type": "execute_result",
          "data": {
            "text/plain": [
              "19.4"
            ]
          },
          "metadata": {
            "tags": []
          },
          "execution_count": 77
        }
      ]
    },
    {
      "cell_type": "markdown",
      "metadata": {
        "id": "NLva6g2jdWgr"
      },
      "source": [
        "## Búfer de reproducción\n",
        "\n",
        "El búfer de reproducción realiza un seguimiento de los datos recopilados del entorno. Este tutorial usa **TFUniformReplayBuffer**. El constructor requiere las especificaciones de los datos que recopilará. Este valor está disponible en el agente mediante el método **collect_data_spec**. También se requieren el tamaño del lote y la longitud máxima del búfer.\n",
        "\n"
      ]
    },
    {
      "cell_type": "code",
      "metadata": {
        "id": "vX2zGUWJGWAl"
      },
      "source": [
        "replay_buffer = tf_uniform_replay_buffer.TFUniformReplayBuffer(\n",
        "    data_spec=agent.collect_data_spec,\n",
        "    batch_size=train_env.batch_size,\n",
        "    max_length=replay_buffer_max_length)"
      ],
      "execution_count": null,
      "outputs": []
    },
    {
      "cell_type": "markdown",
      "metadata": {
        "id": "ZGNTDJpZs4NN"
      },
      "source": [
        "Para la mayoría de los agentes, **collect_data_spec** es una tupla con nombre llamada **Trayectoria**, que contiene las especificaciones de observaciones, acciones, recompensas y otros elementos.\n"
      ]
    },
    {
      "cell_type": "code",
      "metadata": {
        "colab": {
          "base_uri": "https://localhost:8080/"
        },
        "id": "_IZ-3HcqgE1z",
        "outputId": "2101583f-561a-4e26-9925-28960568dead"
      },
      "source": [
        "agent.collect_data_spec"
      ],
      "execution_count": null,
      "outputs": [
        {
          "output_type": "execute_result",
          "data": {
            "text/plain": [
              "Trajectory(\n",
              "{'action': BoundedTensorSpec(shape=(), dtype=tf.int64, name='action', minimum=array(0), maximum=array(1)),\n",
              " 'discount': BoundedTensorSpec(shape=(), dtype=tf.float32, name='discount', minimum=array(0., dtype=float32), maximum=array(1., dtype=float32)),\n",
              " 'next_step_type': TensorSpec(shape=(), dtype=tf.int32, name='step_type'),\n",
              " 'observation': BoundedTensorSpec(shape=(4,), dtype=tf.float32, name='observation', minimum=array([-4.8000002e+00, -3.4028235e+38, -4.1887903e-01, -3.4028235e+38],\n",
              "      dtype=float32), maximum=array([4.8000002e+00, 3.4028235e+38, 4.1887903e-01, 3.4028235e+38],\n",
              "      dtype=float32)),\n",
              " 'policy_info': (),\n",
              " 'reward': TensorSpec(shape=(), dtype=tf.float32, name='reward'),\n",
              " 'step_type': TensorSpec(shape=(), dtype=tf.int32, name='step_type')})"
            ]
          },
          "metadata": {
            "tags": []
          },
          "execution_count": 79
        }
      ]
    },
    {
      "cell_type": "markdown",
      "metadata": {
        "id": "rVD5nQ9ZGo8_"
      },
      "source": [
        "## Recopilación de datos\n",
        "\n",
        "Ahora ejecute la política aleatoria en el entorno durante algunos pasos, registrando los datos en el búfer de reproducción.\n"
      ]
    },
    {
      "cell_type": "code",
      "metadata": {
        "id": "wr1KSAEGG4h9"
      },
      "source": [
        "def collect_step(environment, policy, buffer):\n",
        "  time_step = environment.current_time_step()\n",
        "  action_step = policy.action(time_step)\n",
        "  next_time_step = environment.step(action_step.action)\n",
        "  traj = trajectory.from_transition(time_step, action_step, next_time_step)\n",
        "\n",
        "  # Add trajectory to the replay buffer\n",
        "  buffer.add_batch(traj)\n",
        "\n",
        "def collect_data(env, policy, buffer, steps):\n",
        "  for _ in range(steps):\n",
        "    collect_step(env, policy, buffer)\n",
        "\n",
        "collect_data(train_env, random_policy, replay_buffer, steps=100)\n",
        "\n",
        "# This loop is so common in RL, that we provide standard implementations. \n",
        "# For more details see the drivers module.\n",
        "# https://www.tensorflow.org/agents/api_docs/python/tf_agents/drivers"
      ],
      "execution_count": null,
      "outputs": []
    },
    {
      "cell_type": "markdown",
      "metadata": {
        "id": "84z5pQJdoKxo"
      },
      "source": [
        "El búfer de reproducción ahora es una colección de trayectorias. El agente necesita acceso al búfer de reproducción. TF-Agents proporciona este acceso mediante la creación de una canalización **tf.data.Dataset** iterable, que proporcionará datos al agente.\n",
        "\n",
        "Cada fila del búfer de reproducción solo almacena un único paso de observación. Pero dado que el agente DQN necesita tanto la observación actual como la siguiente para calcular la pérdida, la canalización del conjunto de datos muestreará dos filas adyacentes para cada elemento del lote (**num_steps = 2**).\n",
        "\n",
        "El programa también optimiza este conjunto de datos mediante la ejecución de llamadas en paralelo y la obtención previa de datos."
      ]
    },
    {
      "cell_type": "code",
      "metadata": {
        "colab": {
          "base_uri": "https://localhost:8080/"
        },
        "id": "ba7bilizt_qW",
        "outputId": "9273c9f1-3311-44db-cd2f-629101905811"
      },
      "source": [
        "# Dataset generates trajectories with shape [Bx2x...]\n",
        "dataset = replay_buffer.as_dataset(\n",
        "    num_parallel_calls=3, \n",
        "    sample_batch_size=batch_size, \n",
        "    num_steps=2).prefetch(3)\n",
        "\n",
        "\n",
        "dataset"
      ],
      "execution_count": null,
      "outputs": [
        {
          "output_type": "execute_result",
          "data": {
            "text/plain": [
              "<PrefetchDataset shapes: (Trajectory(\n",
              "{action: (64, 2),\n",
              " discount: (64, 2),\n",
              " next_step_type: (64, 2),\n",
              " observation: (64, 2, 4),\n",
              " policy_info: (),\n",
              " reward: (64, 2),\n",
              " step_type: (64, 2)}), BufferInfo(ids=(64, 2), probabilities=(64,))), types: (Trajectory(\n",
              "{action: tf.int64,\n",
              " discount: tf.float32,\n",
              " next_step_type: tf.int32,\n",
              " observation: tf.float32,\n",
              " policy_info: (),\n",
              " reward: tf.float32,\n",
              " step_type: tf.int32}), BufferInfo(ids=tf.int64, probabilities=tf.float32))>"
            ]
          },
          "metadata": {
            "tags": []
          },
          "execution_count": 81
        }
      ]
    },
    {
      "cell_type": "code",
      "metadata": {
        "colab": {
          "base_uri": "https://localhost:8080/"
        },
        "id": "K13AST-2ppOq",
        "outputId": "2db3a7fc-4fde-4945-8e57-d4d91b1446c5"
      },
      "source": [
        "iterator = iter(dataset)\n",
        "\n",
        "print(iterator)\n"
      ],
      "execution_count": null,
      "outputs": [
        {
          "output_type": "stream",
          "text": [
            "<tensorflow.python.data.ops.iterator_ops.OwnedIterator object at 0x7fb995e3f210>\n"
          ],
          "name": "stdout"
        }
      ]
    },
    {
      "cell_type": "markdown",
      "metadata": {
        "id": "hBc9lj9VWWtZ"
      },
      "source": [
        "## Entrenando al agente\n",
        "\n",
        "Deben suceder dos cosas durante el ciclo de entrenamiento:\n",
        "\n",
        "* Recopilar datos del medio ambiente.\n",
        "* Utilice esos datos para entrenar la (s) red (es) neuronal (es) del agente\n",
        "\n",
        "Este ejemplo también evalúa periódicamente la política e imprime la puntuación actual.\n",
        "\n",
        "Lo siguiente tardará ~ 5 minutos en ejecutarse."
      ]
    },
    {
      "cell_type": "code",
      "metadata": {
        "colab": {
          "base_uri": "https://localhost:8080/",
          "height": 969
        },
        "id": "0pTbJ3PeyF-u",
        "outputId": "f38c17d4-3f6b-438b-c919-9105edb8a125"
      },
      "source": [
        "# (Optional) Optimize by wrapping some of the code in a graph \n",
        "# using TF function.\n",
        "agent.train = common.function(agent.train)\n",
        "\n",
        "# Reset the train step\n",
        "agent.train_step_counter.assign(0)\n",
        "\n",
        "# Evaluate the agent's policy once before training.\n",
        "avg_return = compute_avg_return(eval_env, agent.policy, \\\n",
        "                                num_eval_episodes)\n",
        "returns = [avg_return]\n",
        "\n",
        "for _ in range(num_iterations):\n",
        "\n",
        "  # Collect a few steps using collect_policy and save to the replay buffer.\n",
        "  for _ in range(collect_steps_per_iteration):\n",
        "    collect_step(train_env, agent.collect_policy, replay_buffer)\n",
        "\n",
        "  # Sample a batch of data from the buffer and update the agent's network.\n",
        "  experience, unused_info = next(iterator)\n",
        "  train_loss = agent.train(experience).loss\n",
        "\n",
        "  step = agent.train_step_counter.numpy()\n",
        "\n",
        "  if step % log_interval == 0:\n",
        "    print('step = {0}: loss = {1}'.format(step, train_loss))\n",
        "\n",
        "  if step % eval_interval == 0:\n",
        "    avg_return = compute_avg_return(eval_env, agent.policy, \\\n",
        "                                    num_eval_episodes)\n",
        "    print('step = {0}: Average Return = {1}'.format(step, avg_return))\n",
        "    returns.append(avg_return)\n",
        "    "
      ],
      "execution_count": null,
      "outputs": [
        {
          "output_type": "stream",
          "text": [
            "step = 200: loss = 15.812810897827148\n",
            "step = 400: loss = 15.685630798339844\n",
            "step = 600: loss = 14.720613479614258\n",
            "step = 800: loss = 25.482357025146484\n",
            "step = 1000: loss = 1.8311368227005005\n",
            "step = 1000: Average Return = 31.600000381469727\n",
            "step = 1200: loss = 12.047847747802734\n",
            "step = 1400: loss = 39.689491271972656\n",
            "step = 1600: loss = 15.820098876953125\n",
            "step = 1800: loss = 57.33294677734375\n",
            "step = 2000: loss = 92.71205139160156\n",
            "step = 2000: Average Return = 35.400001525878906\n",
            "step = 2200: loss = 21.785415649414062\n",
            "step = 2400: loss = 48.07857894897461\n",
            "step = 2600: loss = 104.7581787109375\n",
            "step = 2800: loss = 21.354534149169922\n",
            "step = 3000: loss = 57.412052154541016\n",
            "step = 3000: Average Return = 89.4000015258789\n",
            "step = 3200: loss = 60.731468200683594\n",
            "step = 3400: loss = 97.78526306152344\n",
            "step = 3600: loss = 38.47401428222656\n",
            "step = 3800: loss = 11.571377754211426\n",
            "step = 4000: loss = 203.43771362304688\n",
            "step = 4000: Average Return = 125.0999984741211\n",
            "step = 4200: loss = 161.3185577392578\n",
            "step = 4400: loss = 20.849918365478516\n",
            "step = 4600: loss = 8.738733291625977\n",
            "step = 4800: loss = 67.20100402832031\n",
            "step = 5000: loss = 267.0185546875\n",
            "step = 5000: Average Return = 140.10000610351562\n",
            "step = 5200: loss = 129.11920166015625\n",
            "step = 5400: loss = 192.4912109375\n",
            "step = 5600: loss = 138.57534790039062\n",
            "step = 5800: loss = 11.143874168395996\n",
            "step = 6000: loss = 354.3004150390625\n"
          ],
          "name": "stdout"
        },
        {
          "output_type": "error",
          "ename": "KeyboardInterrupt",
          "evalue": "ignored",
          "traceback": [
            "\u001b[0;31m---------------------------------------------------------------------------\u001b[0m",
            "\u001b[0;31mKeyboardInterrupt\u001b[0m                         Traceback (most recent call last)",
            "\u001b[0;32m<ipython-input-83-c09343f7d29a>\u001b[0m in \u001b[0;36m<module>\u001b[0;34m()\u001b[0m\n\u001b[1;32m     26\u001b[0m \u001b[0;34m\u001b[0m\u001b[0m\n\u001b[1;32m     27\u001b[0m   \u001b[0;32mif\u001b[0m \u001b[0mstep\u001b[0m \u001b[0;34m%\u001b[0m \u001b[0meval_interval\u001b[0m \u001b[0;34m==\u001b[0m \u001b[0;36m0\u001b[0m\u001b[0;34m:\u001b[0m\u001b[0;34m\u001b[0m\u001b[0;34m\u001b[0m\u001b[0m\n\u001b[0;32m---> 28\u001b[0;31m     \u001b[0mavg_return\u001b[0m \u001b[0;34m=\u001b[0m \u001b[0mcompute_avg_return\u001b[0m\u001b[0;34m(\u001b[0m\u001b[0meval_env\u001b[0m\u001b[0;34m,\u001b[0m \u001b[0magent\u001b[0m\u001b[0;34m.\u001b[0m\u001b[0mpolicy\u001b[0m\u001b[0;34m,\u001b[0m                                     \u001b[0mnum_eval_episodes\u001b[0m\u001b[0;34m)\u001b[0m\u001b[0;34m\u001b[0m\u001b[0;34m\u001b[0m\u001b[0m\n\u001b[0m\u001b[1;32m     29\u001b[0m     \u001b[0mprint\u001b[0m\u001b[0;34m(\u001b[0m\u001b[0;34m'step = {0}: Average Return = {1}'\u001b[0m\u001b[0;34m.\u001b[0m\u001b[0mformat\u001b[0m\u001b[0;34m(\u001b[0m\u001b[0mstep\u001b[0m\u001b[0;34m,\u001b[0m \u001b[0mavg_return\u001b[0m\u001b[0;34m)\u001b[0m\u001b[0;34m)\u001b[0m\u001b[0;34m\u001b[0m\u001b[0;34m\u001b[0m\u001b[0m\n\u001b[1;32m     30\u001b[0m     \u001b[0mreturns\u001b[0m\u001b[0;34m.\u001b[0m\u001b[0mappend\u001b[0m\u001b[0;34m(\u001b[0m\u001b[0mavg_return\u001b[0m\u001b[0;34m)\u001b[0m\u001b[0;34m\u001b[0m\u001b[0;34m\u001b[0m\u001b[0m\n",
            "\u001b[0;32m<ipython-input-76-fe79a5feb304>\u001b[0m in \u001b[0;36mcompute_avg_return\u001b[0;34m(environment, policy, num_episodes)\u001b[0m\n\u001b[1;32m      8\u001b[0m \u001b[0;34m\u001b[0m\u001b[0m\n\u001b[1;32m      9\u001b[0m     \u001b[0;32mwhile\u001b[0m \u001b[0;32mnot\u001b[0m \u001b[0mtime_step\u001b[0m\u001b[0;34m.\u001b[0m\u001b[0mis_last\u001b[0m\u001b[0;34m(\u001b[0m\u001b[0;34m)\u001b[0m\u001b[0;34m:\u001b[0m\u001b[0;34m\u001b[0m\u001b[0;34m\u001b[0m\u001b[0m\n\u001b[0;32m---> 10\u001b[0;31m       \u001b[0maction_step\u001b[0m \u001b[0;34m=\u001b[0m \u001b[0mpolicy\u001b[0m\u001b[0;34m.\u001b[0m\u001b[0maction\u001b[0m\u001b[0;34m(\u001b[0m\u001b[0mtime_step\u001b[0m\u001b[0;34m)\u001b[0m\u001b[0;34m\u001b[0m\u001b[0;34m\u001b[0m\u001b[0m\n\u001b[0m\u001b[1;32m     11\u001b[0m       \u001b[0mtime_step\u001b[0m \u001b[0;34m=\u001b[0m \u001b[0menvironment\u001b[0m\u001b[0;34m.\u001b[0m\u001b[0mstep\u001b[0m\u001b[0;34m(\u001b[0m\u001b[0maction_step\u001b[0m\u001b[0;34m.\u001b[0m\u001b[0maction\u001b[0m\u001b[0;34m)\u001b[0m\u001b[0;34m\u001b[0m\u001b[0;34m\u001b[0m\u001b[0m\n\u001b[1;32m     12\u001b[0m       \u001b[0mepisode_return\u001b[0m \u001b[0;34m+=\u001b[0m \u001b[0mtime_step\u001b[0m\u001b[0;34m.\u001b[0m\u001b[0mreward\u001b[0m\u001b[0;34m\u001b[0m\u001b[0;34m\u001b[0m\u001b[0m\n",
            "\u001b[0;32m/usr/local/lib/python3.7/dist-packages/tf_agents/policies/tf_policy.py\u001b[0m in \u001b[0;36maction\u001b[0;34m(self, time_step, policy_state, seed)\u001b[0m\n\u001b[1;32m    344\u001b[0m           \u001b[0mstep\u001b[0m\u001b[0;34m,\u001b[0m\u001b[0;34m\u001b[0m\u001b[0;34m\u001b[0m\u001b[0m\n\u001b[1;32m    345\u001b[0m           \u001b[0mself\u001b[0m\u001b[0;34m.\u001b[0m\u001b[0m_policy_step_spec\u001b[0m\u001b[0;34m,\u001b[0m\u001b[0;34m\u001b[0m\u001b[0;34m\u001b[0m\u001b[0m\n\u001b[0;32m--> 346\u001b[0;31m           message='action output and policy_step_spec structures do not match')\n\u001b[0m\u001b[1;32m    347\u001b[0m \u001b[0;34m\u001b[0m\u001b[0m\n\u001b[1;32m    348\u001b[0m       \u001b[0;32mdef\u001b[0m \u001b[0mcompare_to_spec\u001b[0m\u001b[0;34m(\u001b[0m\u001b[0mvalue\u001b[0m\u001b[0;34m,\u001b[0m \u001b[0mspec\u001b[0m\u001b[0;34m)\u001b[0m\u001b[0;34m:\u001b[0m\u001b[0;34m\u001b[0m\u001b[0;34m\u001b[0m\u001b[0m\n",
            "\u001b[0;32m/usr/local/lib/python3.7/dist-packages/tf_agents/utils/nest_utils.py\u001b[0m in \u001b[0;36massert_same_structure\u001b[0;34m(nest1, nest2, check_types, expand_composites, allow_shallow_nest1, message)\u001b[0m\n\u001b[1;32m    114\u001b[0m         \u001b[0mnest2\u001b[0m\u001b[0;34m,\u001b[0m\u001b[0;34m\u001b[0m\u001b[0;34m\u001b[0m\u001b[0m\n\u001b[1;32m    115\u001b[0m         \u001b[0mcheck_types\u001b[0m\u001b[0;34m=\u001b[0m\u001b[0mcheck_types\u001b[0m\u001b[0;34m,\u001b[0m\u001b[0;34m\u001b[0m\u001b[0;34m\u001b[0m\u001b[0m\n\u001b[0;32m--> 116\u001b[0;31m         expand_composites=expand_composites)\n\u001b[0m\u001b[1;32m    117\u001b[0m   \u001b[0;32mexcept\u001b[0m \u001b[0;34m(\u001b[0m\u001b[0mTypeError\u001b[0m\u001b[0;34m,\u001b[0m \u001b[0mValueError\u001b[0m\u001b[0;34m)\u001b[0m \u001b[0;32mas\u001b[0m \u001b[0me\u001b[0m\u001b[0;34m:\u001b[0m\u001b[0;34m\u001b[0m\u001b[0;34m\u001b[0m\u001b[0m\n\u001b[1;32m    118\u001b[0m     \u001b[0mexception\u001b[0m \u001b[0;34m=\u001b[0m \u001b[0mtype\u001b[0m\u001b[0;34m(\u001b[0m\u001b[0me\u001b[0m\u001b[0;34m)\u001b[0m\u001b[0;34m\u001b[0m\u001b[0;34m\u001b[0m\u001b[0m\n",
            "\u001b[0;32m/usr/local/lib/python3.7/dist-packages/tensorflow/python/util/nest.py\u001b[0m in \u001b[0;36massert_same_structure\u001b[0;34m(nest1, nest2, check_types, expand_composites)\u001b[0m\n\u001b[1;32m    524\u001b[0m   \u001b[0;32mtry\u001b[0m\u001b[0;34m:\u001b[0m\u001b[0;34m\u001b[0m\u001b[0;34m\u001b[0m\u001b[0m\n\u001b[1;32m    525\u001b[0m     _pywrap_utils.AssertSameStructure(nest1, nest2, check_types,\n\u001b[0;32m--> 526\u001b[0;31m                                       expand_composites)\n\u001b[0m\u001b[1;32m    527\u001b[0m   \u001b[0;32mexcept\u001b[0m \u001b[0;34m(\u001b[0m\u001b[0mValueError\u001b[0m\u001b[0;34m,\u001b[0m \u001b[0mTypeError\u001b[0m\u001b[0;34m)\u001b[0m \u001b[0;32mas\u001b[0m \u001b[0me\u001b[0m\u001b[0;34m:\u001b[0m\u001b[0;34m\u001b[0m\u001b[0;34m\u001b[0m\u001b[0m\n\u001b[1;32m    528\u001b[0m     \u001b[0mstr1\u001b[0m \u001b[0;34m=\u001b[0m \u001b[0mstr\u001b[0m\u001b[0;34m(\u001b[0m\u001b[0mmap_structure\u001b[0m\u001b[0;34m(\u001b[0m\u001b[0;32mlambda\u001b[0m \u001b[0m_\u001b[0m\u001b[0;34m:\u001b[0m \u001b[0m_DOT\u001b[0m\u001b[0;34m,\u001b[0m \u001b[0mnest1\u001b[0m\u001b[0;34m)\u001b[0m\u001b[0;34m)\u001b[0m\u001b[0;34m\u001b[0m\u001b[0;34m\u001b[0m\u001b[0m\n",
            "\u001b[0;32m/usr/lib/python3.7/abc.py\u001b[0m in \u001b[0;36m__instancecheck__\u001b[0;34m(cls, instance)\u001b[0m\n\u001b[1;32m    137\u001b[0m         \u001b[0;32mdef\u001b[0m \u001b[0m__instancecheck__\u001b[0m\u001b[0;34m(\u001b[0m\u001b[0mcls\u001b[0m\u001b[0;34m,\u001b[0m \u001b[0minstance\u001b[0m\u001b[0;34m)\u001b[0m\u001b[0;34m:\u001b[0m\u001b[0;34m\u001b[0m\u001b[0;34m\u001b[0m\u001b[0m\n\u001b[1;32m    138\u001b[0m             \u001b[0;34m\"\"\"Override for isinstance(instance, cls).\"\"\"\u001b[0m\u001b[0;34m\u001b[0m\u001b[0;34m\u001b[0m\u001b[0m\n\u001b[0;32m--> 139\u001b[0;31m             \u001b[0;32mreturn\u001b[0m \u001b[0m_abc_instancecheck\u001b[0m\u001b[0;34m(\u001b[0m\u001b[0mcls\u001b[0m\u001b[0;34m,\u001b[0m \u001b[0minstance\u001b[0m\u001b[0;34m)\u001b[0m\u001b[0;34m\u001b[0m\u001b[0;34m\u001b[0m\u001b[0m\n\u001b[0m\u001b[1;32m    140\u001b[0m \u001b[0;34m\u001b[0m\u001b[0m\n\u001b[1;32m    141\u001b[0m         \u001b[0;32mdef\u001b[0m \u001b[0m__subclasscheck__\u001b[0m\u001b[0;34m(\u001b[0m\u001b[0mcls\u001b[0m\u001b[0;34m,\u001b[0m \u001b[0msubclass\u001b[0m\u001b[0;34m)\u001b[0m\u001b[0;34m:\u001b[0m\u001b[0;34m\u001b[0m\u001b[0;34m\u001b[0m\u001b[0m\n",
            "\u001b[0;32m/usr/lib/python3.7/abc.py\u001b[0m in \u001b[0;36m__subclasscheck__\u001b[0;34m(cls, subclass)\u001b[0m\n\u001b[1;32m    141\u001b[0m         \u001b[0;32mdef\u001b[0m \u001b[0m__subclasscheck__\u001b[0m\u001b[0;34m(\u001b[0m\u001b[0mcls\u001b[0m\u001b[0;34m,\u001b[0m \u001b[0msubclass\u001b[0m\u001b[0;34m)\u001b[0m\u001b[0;34m:\u001b[0m\u001b[0;34m\u001b[0m\u001b[0;34m\u001b[0m\u001b[0m\n\u001b[1;32m    142\u001b[0m             \u001b[0;34m\"\"\"Override for issubclass(subclass, cls).\"\"\"\u001b[0m\u001b[0;34m\u001b[0m\u001b[0;34m\u001b[0m\u001b[0m\n\u001b[0;32m--> 143\u001b[0;31m             \u001b[0;32mreturn\u001b[0m \u001b[0m_abc_subclasscheck\u001b[0m\u001b[0;34m(\u001b[0m\u001b[0mcls\u001b[0m\u001b[0;34m,\u001b[0m \u001b[0msubclass\u001b[0m\u001b[0;34m)\u001b[0m\u001b[0;34m\u001b[0m\u001b[0;34m\u001b[0m\u001b[0m\n\u001b[0m\u001b[1;32m    144\u001b[0m \u001b[0;34m\u001b[0m\u001b[0m\n\u001b[1;32m    145\u001b[0m         \u001b[0;32mdef\u001b[0m \u001b[0m_dump_registry\u001b[0m\u001b[0;34m(\u001b[0m\u001b[0mcls\u001b[0m\u001b[0;34m,\u001b[0m \u001b[0mfile\u001b[0m\u001b[0;34m=\u001b[0m\u001b[0;32mNone\u001b[0m\u001b[0;34m)\u001b[0m\u001b[0;34m:\u001b[0m\u001b[0;34m\u001b[0m\u001b[0;34m\u001b[0m\u001b[0m\n",
            "\u001b[0;32m/usr/lib/python3.7/_collections_abc.py\u001b[0m in \u001b[0;36m__subclasshook__\u001b[0;34m(cls, C)\u001b[0m\n\u001b[1;32m    304\u001b[0m         \u001b[0;32mif\u001b[0m \u001b[0mcls\u001b[0m \u001b[0;32mis\u001b[0m \u001b[0mReversible\u001b[0m\u001b[0;34m:\u001b[0m\u001b[0;34m\u001b[0m\u001b[0;34m\u001b[0m\u001b[0m\n\u001b[1;32m    305\u001b[0m             \u001b[0;32mreturn\u001b[0m \u001b[0m_check_methods\u001b[0m\u001b[0;34m(\u001b[0m\u001b[0mC\u001b[0m\u001b[0;34m,\u001b[0m \u001b[0;34m\"__reversed__\"\u001b[0m\u001b[0;34m,\u001b[0m \u001b[0;34m\"__iter__\"\u001b[0m\u001b[0;34m)\u001b[0m\u001b[0;34m\u001b[0m\u001b[0;34m\u001b[0m\u001b[0m\n\u001b[0;32m--> 306\u001b[0;31m         \u001b[0;32mreturn\u001b[0m \u001b[0mNotImplemented\u001b[0m\u001b[0;34m\u001b[0m\u001b[0;34m\u001b[0m\u001b[0m\n\u001b[0m\u001b[1;32m    307\u001b[0m \u001b[0;34m\u001b[0m\u001b[0m\n\u001b[1;32m    308\u001b[0m \u001b[0;34m\u001b[0m\u001b[0m\n",
            "\u001b[0;31mKeyboardInterrupt\u001b[0m: "
          ]
        }
      ]
    },
    {
      "cell_type": "markdown",
      "metadata": {
        "id": "68jNcA_TiJDq"
      },
      "source": [
        "## Visualization\n"
      ]
    },
    {
      "cell_type": "markdown",
      "metadata": {
        "id": "aO-LWCdbbOIC"
      },
      "source": [
        "### Plots\n",
        "\n",
        "Utilice **matplotlib.pyplot** para trazar cómo mejora la política durante el entrenamiento.\n",
        "\n",
        "Una iteración de **Cartpole-v0** consta de 200 pasos de tiempo. El entorno da una recompensa de `+ 1` por cada paso que el poste permanece derecho, por lo que el retorno máximo para un episodio es 200. Los gráficos muestran el retorno aumentando hacia ese máximo cada vez que se evalúa durante el entrenamiento. (Puede ser un poco inestable y no aumentar cada vez de forma monótona)."
      ]
    },
    {
      "cell_type": "code",
      "metadata": {
        "colab": {
          "base_uri": "https://localhost:8080/",
          "height": 300
        },
        "id": "NxtL1mbOYCVO",
        "outputId": "415448df-a9a3-44f4-9993-9c1ac21ccbc8"
      },
      "source": [
        "iterations = range(0, num_iterations + 1, eval_interval)\n",
        "plt.plot(iterations, returns)\n",
        "plt.ylabel('Average Return')\n",
        "plt.xlabel('Iterations')\n",
        "plt.ylim(top=250)"
      ],
      "execution_count": null,
      "outputs": [
        {
          "output_type": "execute_result",
          "data": {
            "text/plain": [
              "(4.174999999999999, 250.0)"
            ]
          },
          "metadata": {
            "tags": []
          },
          "execution_count": 58
        },
        {
          "output_type": "display_data",
          "data": {
            "image/png": "[encoded data removed]",
            "text/plain": [
              "<Figure size 432x288 with 1 Axes>"
            ]
          },
          "metadata": {
            "tags": [],
            "needs_background": "light"
          }
        }
      ]
    },
    {
      "cell_type": "markdown",
      "metadata": {
        "id": "M7-XpPP99Cy7"
      },
      "source": [
        "### Videos"
      ]
    },
    {
      "cell_type": "markdown",
      "metadata": {
        "id": "9pGfGxSH32gn"
      },
      "source": [
        "Los gráficos son agradables. Pero lo más emocionante es ver a un agente realizando una tarea en un entorno.\n",
        "\n",
        "Primero, cree una función para incrustar videos en el cuaderno.\n"
      ]
    },
    {
      "cell_type": "code",
      "metadata": {
        "id": "ULaGr8pvOKbl"
      },
      "source": [
        "def embed_mp4(filename):\n",
        "  \"\"\"Embeds an mp4 file in the notebook.\"\"\"\n",
        "  video = open(filename,'rb').read()\n",
        "  b64 = base64.b64encode(video)\n",
        "  tag = '''\n",
        "  <video width=\"640\" height=\"480\" controls>\n",
        "    <source src=\"data:video/mp4;base64,{0}\" type=\"video/mp4\">\n",
        "  Your browser does not support the video tag.\n",
        "  </video>'''.format(b64.decode())\n",
        "\n",
        "  return IPython.display.HTML(tag)"
      ],
      "execution_count": null,
      "outputs": []
    },
    {
      "cell_type": "markdown",
      "metadata": {
        "id": "9c_PH-pX4Pr5"
      },
      "source": [
        "Ahora repite algunos episodios del juego Cartpole con el agente. El entorno de Python subyacente (el que está \"dentro\" del contenedor de entorno de TensorFlow) proporciona un método `render ()`, que genera una imagen del estado del entorno. Estos se pueden recopilar en un video."
      ]
    },
    {
      "cell_type": "code",
      "metadata": {
        "colab": {
          "base_uri": "https://localhost:8080/",
          "height": 538
        },
        "id": "owOVWB158NlF",
        "outputId": "cb71c8f7-ea95-4b7d-80a2-5f2c9a851d89"
      },
      "source": [
        "def create_policy_eval_video(policy, filename, num_episodes=5, fps=30):\n",
        "  filename = filename + \".mp4\"\n",
        "  with imageio.get_writer(filename, fps=fps) as video:\n",
        "    for _ in range(num_episodes):\n",
        "      time_step = eval_env.reset()\n",
        "      video.append_data(eval_py_env.render())\n",
        "      while not time_step.is_last():\n",
        "        action_step = policy.action(time_step)\n",
        "        time_step = eval_env.step(action_step.action)\n",
        "        video.append_data(eval_py_env.render())\n",
        "  return embed_mp4(filename)\n",
        "\n",
        "\n",
        "\n",
        "\n",
        "create_policy_eval_video(agent.policy, \"trained-agent\")"
      ],
      "execution_count": null,
      "outputs": [
        {
          "output_type": "stream",
          "text": [
            "WARNING:root:IMAGEIO FFMPEG_WRITER WARNING: input image is not divisible by macro_block_size=16, resizing from (400, 600) to (400, 608) to ensure video compatibility with most codecs and players. To prevent resizing, make your input image divisible by the macro_block_size or set the macro_block_size to None (risking incompatibility). You may also see a FFMPEG warning concerning speedloss due to data not being aligned.\n"
          ],
          "name": "stderr"
        },
        {
          "output_type": "execute_result",
          "data": {
            "text/html": [
              "\n",
              "  <video width=\"640\" height=\"480\" controls>\n",
              "    <source src=\"data:video/mp4;base64,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\" type=\"video/mp4\">\n",
              "  Your browser does not support the video tag.\n",
              "  </video>"
            ],
            "text/plain": [
              "<IPython.core.display.HTML object>"
            ]
          },
          "metadata": {
            "tags": []
          },
          "execution_count": 35
        }
      ]
    },
    {
      "cell_type": "markdown",
      "metadata": {
        "id": "povaAOcZygLw"
      },
      "source": [
        "Para divertirse, compare al agente entrenado (arriba) con un agente que se mueve al azar. (No funciona tan bien).\n"
      ]
    },
    {
      "cell_type": "code",
      "metadata": {
        "colab": {
          "base_uri": "https://localhost:8080/",
          "height": 538
        },
        "id": "pJZIdC37yNH4",
        "outputId": "974d9b26-d279-4942-9bd4-f42cf0f6b44e"
      },
      "source": [
        "create_policy_eval_video(random_policy, \"random-agent\")"
      ],
      "execution_count": null,
      "outputs": [
        {
          "output_type": "stream",
          "text": [
            "WARNING:root:IMAGEIO FFMPEG_WRITER WARNING: input image is not divisible by macro_block_size=16, resizing from (400, 600) to (400, 608) to ensure video compatibility with most codecs and players. To prevent resizing, make your input image divisible by the macro_block_size or set the macro_block_size to None (risking incompatibility). You may also see a FFMPEG warning concerning speedloss due to data not being aligned.\n"
          ],
          "name": "stderr"
        },
        {
          "output_type": "execute_result",
          "data": {
            "text/html": [
              "\n",
              "  <video width=\"640\" height=\"480\" controls>\n",
              "    <source src=\"data:video/mp4;base64,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\" type=\"video/mp4\">\n",
              "  Your browser does not support the video tag.\n",
              "  </video>"
            ],
            "text/plain": [
              "<IPython.core.display.HTML object>"
            ]
          },
          "metadata": {
            "tags": []
          },
          "execution_count": 36
        }
      ]
    }
  ]
}