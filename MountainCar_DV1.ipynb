{
  "nbformat": 4,
  "nbformat_minor": 0,
  "metadata": {
    "colab": {
      "name": "MountainCar_DV1",
      "provenance": [],
      "authorship_tag": "ABX9TyPSJMmy7GYK8KEMbdlPRfzp",
      "include_colab_link": true
    },
    "kernelspec": {
      "name": "python3",
      "display_name": "Python 3"
    },
    "language_info": {
      "name": "python"
    }
  },
  "cells": [
    {
      "cell_type": "markdown",
      "metadata": {
        "id": "view-in-github",
        "colab_type": "text"
      },
      "source": [
        "<a href=\"https://colab.research.google.com/github/ValenzuelaDiego/proyectoInteligenciaArtificial/blob/main/MountainCar_DV1.ipynb\" target=\"_parent\"><img src=\"https://colab.research.google.com/assets/colab-badge.svg\" alt=\"Open In Colab\"/></a>"
      ]
    },
    {
      "cell_type": "code",
      "metadata": {
        "colab": {
          "base_uri": "https://localhost:8080/"
        },
        "id": "xrz78AqD7VQ0",
        "outputId": "1d0f4f35-83af-4e9b-8bb5-79475cd11ce8"
      },
      "source": [
        "try:\n",
        "    from google.colab import drive\n",
        "    %tensorflow_version 2.x\n",
        "    COLAB = True\n",
        "    print(\"Note: using Google CoLab\")\n",
        "except:\n",
        "    print(\"Note: not using Google CoLab\")\n",
        "    COLAB = False"
      ],
      "execution_count": 71,
      "outputs": [
        {
          "output_type": "stream",
          "text": [
            "Note: using Google CoLab\n"
          ],
          "name": "stdout"
        }
      ]
    },
    {
      "cell_type": "code",
      "metadata": {
        "colab": {
          "base_uri": "https://localhost:8080/"
        },
        "id": "Y-FO5iy-7YdX",
        "outputId": "05e4c244-f475-4c41-f0c4-a7c102a34dbd"
      },
      "source": [
        "if COLAB:\n",
        "  !sudo apt-get install -y xvfb ffmpeg x11-utils\n",
        "  !pip install -q 'gym==0.17.0'\n",
        "  !pip install -q 'imageio==2.4.0'\n",
        "  !pip install -q PILLOW\n",
        "  !pip install -q 'pyglet==1.5.0'\n",
        "  !pip install -q pyvirtualdisplay\n",
        "  !pip install -q tf-agents"
      ],
      "execution_count": 72,
      "outputs": [
        {
          "output_type": "stream",
          "text": [
            "Reading package lists... Done\n",
            "Building dependency tree       \n",
            "Reading state information... Done\n",
            "x11-utils is already the newest version (7.7+3build1).\n",
            "ffmpeg is already the newest version (7:3.4.8-0ubuntu0.2).\n",
            "xvfb is already the newest version (2:1.19.6-1ubuntu4.9).\n",
            "0 upgraded, 0 newly installed, 0 to remove and 39 not upgraded.\n"
          ],
          "name": "stdout"
        }
      ]
    },
    {
      "cell_type": "code",
      "metadata": {
        "colab": {
          "base_uri": "https://localhost:8080/",
          "height": 417
        },
        "id": "u2Go54Wn7ejc",
        "outputId": "a34fe95f-d6ed-4616-c714-7fb0b5529a45"
      },
      "source": [
        "import tf_agents\n",
        "from tf_agents.environments import suite_gym\n",
        "import PIL.Image\n",
        "import pyvirtualdisplay\n",
        "\n",
        "display = pyvirtualdisplay.Display(visible=0, size=(1400, 900)).start()\n",
        "\n",
        "env_name = 'MountainCar-v0'\n",
        "env = suite_gym.load(env_name)\n",
        "env.reset()\n",
        "PIL.Image.fromarray(env.render())"
      ],
      "execution_count": 73,
      "outputs": [
        {
          "output_type": "execute_result",
          "data": {
            "image/png": "[encoded data removed]",
            "text/plain": [
              "<PIL.Image.Image image mode=RGB size=600x400 at 0x7F4F617059D0>"
            ]
          },
          "metadata": {
            "tags": []
          },
          "execution_count": 73
        }
      ]
    },
    {
      "cell_type": "markdown",
      "metadata": {
        "id": "WmFG5TG6ttEe"
      },
      "source": [
        "Funciones necesarias para poder observar el MontainCar:"
      ]
    },
    {
      "cell_type": "code",
      "metadata": {
        "id": "PRHUmG4z8ssS"
      },
      "source": [
        "import gym\n",
        "from gym.wrappers import Monitor\n",
        "import glob\n",
        "import io\n",
        "import base64\n",
        "from IPython.display import HTML\n",
        "from pyvirtualdisplay import Display\n",
        "from IPython import display as ipythondisplay\n",
        "\n",
        "display = Display(visible=0, size=(1400, 900))\n",
        "display.start()\n",
        "\n",
        "\"\"\"\n",
        "Utility functions to enable video recording of gym environment \n",
        "and displaying it.\n",
        "To enable video, just do \"env = wrap_env(env)\"\"\n",
        "\"\"\"\n",
        "\n",
        "def show_video():\n",
        "  mp4list = glob.glob('video/*.mp4')\n",
        "  if len(mp4list) > 0:\n",
        "    mp4 = mp4list[0]\n",
        "    video = io.open(mp4, 'r+b').read()\n",
        "    encoded = base64.b64encode(video)\n",
        "    ipythondisplay.display(HTML(data='''<video alt=\"test\" autoplay \n",
        "                loop controls style=\"height: 400px;\">\n",
        "                <source src=\"data:video/mp4;base64,{0}\" type=\"video/mp4\" />\n",
        "             </video>'''.format(encoded.decode('ascii'))))\n",
        "  else: \n",
        "    print(\"Could not find video\")\n",
        "    \n",
        "\n",
        "def wrap_env(env):\n",
        "  env = Monitor(env, './video', force=True)\n",
        "  return env"
      ],
      "execution_count": 74,
      "outputs": []
    },
    {
      "cell_type": "markdown",
      "metadata": {
        "id": "OJlyHwRo7lHp"
      },
      "source": [
        "Empieza la parte de Q learning"
      ]
    },
    {
      "cell_type": "code",
      "metadata": {
        "id": "d5ijSvYw7m9y"
      },
      "source": [
        "import gym\n",
        "import numpy as np\n",
        "\n",
        "# This function converts the floating point state values into \n",
        "# discrete values. This is often called binning.  We divide \n",
        "# the range that the state values might occupy and assign \n",
        "# each region to a bucket.\n",
        "def calc_discrete_state(state):\n",
        "    discrete_state = (state - env.observation_space.low)/buckets\n",
        "    return tuple(discrete_state.astype(np.int))  \n",
        "\n",
        "# Run one game.  The q_table to use is provided.  We also \n",
        "# provide a flag to indicate if the game should be \n",
        "# rendered/animated.  Finally, we also provide\n",
        "# a flag to indicate if the q_table should be updated.\n",
        "def run_game(q_table, render, should_update):\n",
        "    done = False\n",
        "    discrete_state = calc_discrete_state(env.reset())\n",
        "    success = False\n",
        "    \n",
        "    while not done:\n",
        "        # Exploit or explore\n",
        "        if np.random.random() > epsilon:\n",
        "            # Exploit - use q-table to take current best action \n",
        "            # (and probably refine)\n",
        "            action = np.argmax(q_table[discrete_state])\n",
        "        else:\n",
        "            # Explore - t\n",
        "            action = np.random.randint(0, env.action_space.n)\n",
        "            \n",
        "        # Run simulation step\n",
        "        new_state, reward, done, _ = env.step(action)\n",
        "        \n",
        "        # Convert continuous state to discrete\n",
        "        new_state_disc = calc_discrete_state(new_state)\n",
        "\n",
        "        # Have we reached the goal position (have we won?)?\n",
        "        if new_state[0] >= env.unwrapped.goal_position:\n",
        "            success = True\n",
        "          \n",
        "        # Update q-table\n",
        "        if should_update:\n",
        "            max_future_q = np.max(q_table[new_state_disc])\n",
        "            current_q = q_table[discrete_state + (action,)]\n",
        "            new_q = (1 - LEARNING_RATE) * current_q + LEARNING_RATE * \\\n",
        "              (reward + DISCOUNT * max_future_q)\n",
        "            q_table[discrete_state + (action,)] = new_q\n",
        "\n",
        "        discrete_state = new_state_disc\n",
        "        \n",
        "        if render:\n",
        "            env.render()\n",
        "            \n",
        "    return success\n"
      ],
      "execution_count": 75,
      "outputs": []
    },
    {
      "cell_type": "markdown",
      "metadata": {
        "id": "vAK3TLeZt6R9"
      },
      "source": [
        "\n",
        "Parametros Importantes a Configurar aqui:\n",
        "*   Learning rate = Coeficiente de Aprendizaje que se utilizara en la funcion de estimacion de estados.\n",
        "*   Discount = Descuento realizado.\n",
        "*   Episodes = Numero de episodios que se realizaran en total.\n",
        "*   Show_Every= Cada cuanto se realizara un corte para mostrar los resultados de exitos/fracasos. \n",
        "\n"
      ]
    },
    {
      "cell_type": "code",
      "metadata": {
        "id": "BDSwcory7uuS"
      },
      "source": [
        "LEARNING_RATE = 0.1\n",
        "DISCOUNT = 0.95\n",
        "EPISODES = 30000\n",
        "SHOW_EVERY = 1000\n",
        "\n",
        "DISCRETE_GRID_SIZE = [10, 10]\n",
        "START_EPSILON_DECAYING = 0.5\n",
        "END_EPSILON_DECAYING = EPISODES//10"
      ],
      "execution_count": 76,
      "outputs": []
    },
    {
      "cell_type": "markdown",
      "metadata": {
        "id": "_QwBKY6Pus7I"
      },
      "source": [
        "Parametros a configurar aquí:\n",
        "\n",
        "\n",
        "*   Epsilon = porcentaje que determina si se realiza EXPLORACION O EXPLOTACION. Un valor de Epsilon cercano a 0 determina explotación, un valor de Epsilon cercano a 1 determina exploración.\n",
        "\n"
      ]
    },
    {
      "cell_type": "code",
      "metadata": {
        "id": "BtR6h8s-7xTl"
      },
      "source": [
        "if COLAB:\n",
        "  env = wrap_env(gym.make(\"MountainCar-v0\"))\n",
        "else:\n",
        "  env = gym.make(\"MountainCar-v0\")\n",
        "\n",
        "epsilon = 1\n",
        "epsilon_change = epsilon/(END_EPSILON_DECAYING - START_EPSILON_DECAYING)\n",
        "buckets = (env.observation_space.high - env.observation_space.low) \\\n",
        "    /DISCRETE_GRID_SIZE\n",
        "q_table = np.random.uniform(low=-3, high=0, size=(DISCRETE_GRID_SIZE \\\n",
        "    + [env.action_space.n]))\n",
        "success = False"
      ],
      "execution_count": 77,
      "outputs": []
    },
    {
      "cell_type": "markdown",
      "metadata": {
        "id": "Eees_yXQvbYo"
      },
      "source": [
        "A continuación se ejecutan las funciones y se obtienen los resultados correspondientes:"
      ]
    },
    {
      "cell_type": "code",
      "metadata": {
        "colab": {
          "base_uri": "https://localhost:8080/"
        },
        "id": "y4j9uedd7z9Y",
        "outputId": "9ffc5027-f3ae-4290-c8e1-699fbcf129ec"
      },
      "source": [
        "episode = 0\n",
        "success_count = 0\n",
        "y=[]\n",
        "\n",
        "# Loop through the required number of episodes\n",
        "while episode<EPISODES:\n",
        "    episode+=1\n",
        "    done = False\n",
        "\n",
        "    # Run the game.  If we are local, display render animation at SHOW_EVERY\n",
        "    # intervals. \n",
        "    if episode % SHOW_EVERY == 0:\n",
        "        print(f\"Current episode: {episode}, success: {success_count}, porcentaje: {float(success_count*100)/SHOW_EVERY}, %\")\n",
        "        success = run_game(q_table, True, False)\n",
        "        y.append(success_count)\n",
        "        success_count = 0\n",
        "    else:\n",
        "        success = run_game(q_table, False, True)\n",
        "        \n",
        "    # Count successes\n",
        "    if success:\n",
        "        success_count += 1\n",
        "\n",
        "    # Move epsilon towards its ending value, if it still needs to move\n",
        "    if END_EPSILON_DECAYING >= episode >= START_EPSILON_DECAYING:\n",
        "        epsilon = max(0, epsilon - epsilon_change)\n",
        "\n",
        "print(success)"
      ],
      "execution_count": 78,
      "outputs": [
        {
          "output_type": "stream",
          "text": [
            "Current episode: 1000, success: 0, porcentaje: 0.0, %\n",
            "Current episode: 2000, success: 1, porcentaje: 0.1, %\n",
            "Current episode: 3000, success: 208, porcentaje: 20.8, %\n",
            "Current episode: 4000, success: 678, porcentaje: 67.8, %\n",
            "Current episode: 5000, success: 516, porcentaje: 51.6, %\n",
            "Current episode: 6000, success: 529, porcentaje: 52.9, %\n",
            "Current episode: 7000, success: 208, porcentaje: 20.8, %\n",
            "Current episode: 8000, success: 614, porcentaje: 61.4, %\n",
            "Current episode: 9000, success: 677, porcentaje: 67.7, %\n",
            "Current episode: 10000, success: 669, porcentaje: 66.9, %\n",
            "Current episode: 11000, success: 615, porcentaje: 61.5, %\n",
            "Current episode: 12000, success: 731, porcentaje: 73.1, %\n",
            "Current episode: 13000, success: 977, porcentaje: 97.7, %\n",
            "Current episode: 14000, success: 997, porcentaje: 99.7, %\n",
            "Current episode: 15000, success: 997, porcentaje: 99.7, %\n",
            "Current episode: 16000, success: 995, porcentaje: 99.5, %\n",
            "Current episode: 17000, success: 996, porcentaje: 99.6, %\n",
            "Current episode: 18000, success: 995, porcentaje: 99.5, %\n",
            "Current episode: 19000, success: 995, porcentaje: 99.5, %\n",
            "Current episode: 20000, success: 994, porcentaje: 99.4, %\n",
            "Current episode: 21000, success: 997, porcentaje: 99.7, %\n",
            "Current episode: 22000, success: 998, porcentaje: 99.8, %\n",
            "Current episode: 23000, success: 995, porcentaje: 99.5, %\n",
            "Current episode: 24000, success: 996, porcentaje: 99.6, %\n",
            "Current episode: 25000, success: 998, porcentaje: 99.8, %\n",
            "Current episode: 26000, success: 989, porcentaje: 98.9, %\n",
            "Current episode: 27000, success: 958, porcentaje: 95.8, %\n",
            "Current episode: 28000, success: 945, porcentaje: 94.5, %\n",
            "Current episode: 29000, success: 926, porcentaje: 92.6, %\n",
            "Current episode: 30000, success: 930, porcentaje: 93.0, %\n",
            "True\n"
          ],
          "name": "stdout"
        }
      ]
    },
    {
      "cell_type": "code",
      "metadata": {
        "colab": {
          "base_uri": "https://localhost:8080/",
          "height": 265
        },
        "id": "LjJZDnps89ru",
        "outputId": "81fa98f5-76b3-4037-80e1-6de69e21adf3"
      },
      "source": [
        "from matplotlib import pyplot as plt\n",
        "\n",
        "x=np.arange(1000,31000,1000)\n",
        "if len(x)==len(y):\n",
        "  plt.plot(x,y)\n",
        "else:\n",
        "  print('X e Y no tienen la misma longitud')\n"
      ],
      "execution_count": 79,
      "outputs": [
        {
          "output_type": "display_data",
          "data": {
            "image/png": "[encoded data removed]",
            "text/plain": [
              "<Figure size 432x288 with 1 Axes>"
            ]
          },
          "metadata": {
            "tags": [],
            "needs_background": "light"
          }
        }
      ]
    },
    {
      "cell_type": "code",
      "metadata": {
        "colab": {
          "base_uri": "https://localhost:8080/",
          "height": 421
        },
        "id": "kPxB6zk872Ky",
        "outputId": "774fccd5-6ee6-4f93-c742-1a2bb7ca6361"
      },
      "source": [
        "run_game(q_table, True, False)\n",
        "show_video()"
      ],
      "execution_count": 80,
      "outputs": [
        {
          "output_type": "display_data",
          "data": {
            "text/html": [
              "<video alt=\"test\" autoplay \n",
              "                loop controls style=\"height: 400px;\">\n",
              "                <source src=\"data:video/mp4;base64,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\" type=\"video/mp4\" />\n",
              "             </video>"
            ],
            "text/plain": [
              "<IPython.core.display.HTML object>"
            ]
          },
          "metadata": {
            "tags": []
          }
        }
      ]
    },
    {
      "cell_type": "code",
      "metadata": {
        "colab": {
          "base_uri": "https://localhost:8080/",
          "height": 359
        },
        "id": "rofQGU9_74PV",
        "outputId": "d681b7bc-828d-48fc-e665-5f3698f18831"
      },
      "source": [
        "import pandas as pd\n",
        "\n",
        "df = pd.DataFrame(q_table.argmax(axis=2))\n",
        "\n",
        "df.columns = [f'v-{x}' for x in range(DISCRETE_GRID_SIZE[0])]\n",
        "df.index = [f'p-{x}' for x in range(DISCRETE_GRID_SIZE[1])]\n",
        "df"
      ],
      "execution_count": 81,
      "outputs": [
        {
          "output_type": "execute_result",
          "data": {
            "text/html": [
              "<div>\n",
              "<style scoped>\n",
              "    .dataframe tbody tr th:only-of-type {\n",
              "        vertical-align: middle;\n",
              "    }\n",
              "\n",
              "    .dataframe tbody tr th {\n",
              "        vertical-align: top;\n",
              "    }\n",
              "\n",
              "    .dataframe thead th {\n",
              "        text-align: right;\n",
              "    }\n",
              "</style>\n",
              "<table border=\"1\" class=\"dataframe\">\n",
              "  <thead>\n",
              "    <tr style=\"text-align: right;\">\n",
              "      <th></th>\n",
              "      <th>v-0</th>\n",
              "      <th>v-1</th>\n",
              "      <th>v-2</th>\n",
              "      <th>v-3</th>\n",
              "      <th>v-4</th>\n",
              "      <th>v-5</th>\n",
              "      <th>v-6</th>\n",
              "      <th>v-7</th>\n",
              "      <th>v-8</th>\n",
              "      <th>v-9</th>\n",
              "    </tr>\n",
              "  </thead>\n",
              "  <tbody>\n",
              "    <tr>\n",
              "      <th>p-0</th>\n",
              "      <td>2</td>\n",
              "      <td>2</td>\n",
              "      <td>0</td>\n",
              "      <td>2</td>\n",
              "      <td>2</td>\n",
              "      <td>2</td>\n",
              "      <td>2</td>\n",
              "      <td>2</td>\n",
              "      <td>1</td>\n",
              "      <td>2</td>\n",
              "    </tr>\n",
              "    <tr>\n",
              "      <th>p-1</th>\n",
              "      <td>0</td>\n",
              "      <td>2</td>\n",
              "      <td>1</td>\n",
              "      <td>1</td>\n",
              "      <td>0</td>\n",
              "      <td>1</td>\n",
              "      <td>2</td>\n",
              "      <td>2</td>\n",
              "      <td>2</td>\n",
              "      <td>1</td>\n",
              "    </tr>\n",
              "    <tr>\n",
              "      <th>p-2</th>\n",
              "      <td>0</td>\n",
              "      <td>0</td>\n",
              "      <td>0</td>\n",
              "      <td>2</td>\n",
              "      <td>2</td>\n",
              "      <td>2</td>\n",
              "      <td>1</td>\n",
              "      <td>2</td>\n",
              "      <td>2</td>\n",
              "      <td>0</td>\n",
              "    </tr>\n",
              "    <tr>\n",
              "      <th>p-3</th>\n",
              "      <td>0</td>\n",
              "      <td>0</td>\n",
              "      <td>0</td>\n",
              "      <td>0</td>\n",
              "      <td>2</td>\n",
              "      <td>2</td>\n",
              "      <td>2</td>\n",
              "      <td>2</td>\n",
              "      <td>2</td>\n",
              "      <td>2</td>\n",
              "    </tr>\n",
              "    <tr>\n",
              "      <th>p-4</th>\n",
              "      <td>0</td>\n",
              "      <td>0</td>\n",
              "      <td>0</td>\n",
              "      <td>0</td>\n",
              "      <td>0</td>\n",
              "      <td>2</td>\n",
              "      <td>2</td>\n",
              "      <td>2</td>\n",
              "      <td>2</td>\n",
              "      <td>2</td>\n",
              "    </tr>\n",
              "    <tr>\n",
              "      <th>p-5</th>\n",
              "      <td>0</td>\n",
              "      <td>0</td>\n",
              "      <td>0</td>\n",
              "      <td>0</td>\n",
              "      <td>0</td>\n",
              "      <td>1</td>\n",
              "      <td>1</td>\n",
              "      <td>2</td>\n",
              "      <td>1</td>\n",
              "      <td>2</td>\n",
              "    </tr>\n",
              "    <tr>\n",
              "      <th>p-6</th>\n",
              "      <td>1</td>\n",
              "      <td>0</td>\n",
              "      <td>0</td>\n",
              "      <td>0</td>\n",
              "      <td>1</td>\n",
              "      <td>0</td>\n",
              "      <td>0</td>\n",
              "      <td>1</td>\n",
              "      <td>1</td>\n",
              "      <td>0</td>\n",
              "    </tr>\n",
              "    <tr>\n",
              "      <th>p-7</th>\n",
              "      <td>1</td>\n",
              "      <td>2</td>\n",
              "      <td>2</td>\n",
              "      <td>0</td>\n",
              "      <td>0</td>\n",
              "      <td>1</td>\n",
              "      <td>1</td>\n",
              "      <td>2</td>\n",
              "      <td>2</td>\n",
              "      <td>1</td>\n",
              "    </tr>\n",
              "    <tr>\n",
              "      <th>p-8</th>\n",
              "      <td>1</td>\n",
              "      <td>0</td>\n",
              "      <td>0</td>\n",
              "      <td>0</td>\n",
              "      <td>0</td>\n",
              "      <td>0</td>\n",
              "      <td>0</td>\n",
              "      <td>2</td>\n",
              "      <td>1</td>\n",
              "      <td>1</td>\n",
              "    </tr>\n",
              "    <tr>\n",
              "      <th>p-9</th>\n",
              "      <td>2</td>\n",
              "      <td>0</td>\n",
              "      <td>1</td>\n",
              "      <td>1</td>\n",
              "      <td>0</td>\n",
              "      <td>0</td>\n",
              "      <td>0</td>\n",
              "      <td>2</td>\n",
              "      <td>2</td>\n",
              "      <td>1</td>\n",
              "    </tr>\n",
              "  </tbody>\n",
              "</table>\n",
              "</div>"
            ],
            "text/plain": [
              "     v-0  v-1  v-2  v-3  v-4  v-5  v-6  v-7  v-8  v-9\n",
              "p-0    2    2    0    2    2    2    2    2    1    2\n",
              "p-1    0    2    1    1    0    1    2    2    2    1\n",
              "p-2    0    0    0    2    2    2    1    2    2    0\n",
              "p-3    0    0    0    0    2    2    2    2    2    2\n",
              "p-4    0    0    0    0    0    2    2    2    2    2\n",
              "p-5    0    0    0    0    0    1    1    2    1    2\n",
              "p-6    1    0    0    0    1    0    0    1    1    0\n",
              "p-7    1    2    2    0    0    1    1    2    2    1\n",
              "p-8    1    0    0    0    0    0    0    2    1    1\n",
              "p-9    2    0    1    1    0    0    0    2    2    1"
            ]
          },
          "metadata": {
            "tags": []
          },
          "execution_count": 81
        }
      ]
    },
    {
      "cell_type": "code",
      "metadata": {
        "colab": {
          "base_uri": "https://localhost:8080/"
        },
        "id": "XqG-BlLK8zd-",
        "outputId": "8bb267f9-1eb1-447e-c286-1c10c800b850"
      },
      "source": [
        "df.mean(axis=0)"
      ],
      "execution_count": 82,
      "outputs": [
        {
          "output_type": "execute_result",
          "data": {
            "text/plain": [
              "v-0    0.7\n",
              "v-1    0.6\n",
              "v-2    0.4\n",
              "v-3    0.6\n",
              "v-4    0.7\n",
              "v-5    1.1\n",
              "v-6    1.1\n",
              "v-7    1.9\n",
              "v-8    1.6\n",
              "v-9    1.2\n",
              "dtype: float64"
            ]
          },
          "metadata": {
            "tags": []
          },
          "execution_count": 82
        }
      ]
    },
    {
      "cell_type": "code",
      "metadata": {
        "colab": {
          "base_uri": "https://localhost:8080/"
        },
        "id": "gGhiBS6U83C-",
        "outputId": "99b10ebe-29f1-4439-e852-bd832ca2d795"
      },
      "source": [
        "df.mean(axis=1)"
      ],
      "execution_count": 83,
      "outputs": [
        {
          "output_type": "execute_result",
          "data": {
            "text/plain": [
              "p-0    1.7\n",
              "p-1    1.2\n",
              "p-2    1.1\n",
              "p-3    1.2\n",
              "p-4    1.0\n",
              "p-5    0.7\n",
              "p-6    0.4\n",
              "p-7    1.2\n",
              "p-8    0.5\n",
              "p-9    0.9\n",
              "dtype: float64"
            ]
          },
          "metadata": {
            "tags": []
          },
          "execution_count": 83
        }
      ]
    }
  ]
}