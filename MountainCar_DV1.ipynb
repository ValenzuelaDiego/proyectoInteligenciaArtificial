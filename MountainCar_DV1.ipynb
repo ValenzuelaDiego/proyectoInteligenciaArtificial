{
  "nbformat": 4,
  "nbformat_minor": 0,
  "metadata": {
    "colab": {
      "name": "MountainCar_DV1",
      "provenance": [],
      "authorship_tag": "ABX9TyMaeryKpRPKnp/MH9KzWtqj",
      "include_colab_link": true
    },
    "kernelspec": {
      "name": "python3",
      "display_name": "Python 3"
    },
    "language_info": {
      "name": "python"
    }
  },
  "cells": [
    {
      "cell_type": "markdown",
      "metadata": {
        "id": "view-in-github",
        "colab_type": "text"
      },
      "source": [
        "<a href=\"https://colab.research.google.com/github/ValenzuelaDiego/proyectoInteligenciaArtificial/blob/main/MountainCar_DV1.ipynb\" target=\"_parent\"><img src=\"https://colab.research.google.com/assets/colab-badge.svg\" alt=\"Open In Colab\"/></a>"
      ]
    },
    {
      "cell_type": "code",
      "metadata": {
        "colab": {
          "base_uri": "https://localhost:8080/"
        },
        "id": "xrz78AqD7VQ0",
        "outputId": "9328c014-c2c3-4331-ea56-91a0d56228e6"
      },
      "source": [
        "try:\n",
        "    from google.colab import drive\n",
        "    %tensorflow_version 2.x\n",
        "    COLAB = True\n",
        "    print(\"Note: using Google CoLab\")\n",
        "except:\n",
        "    print(\"Note: not using Google CoLab\")\n",
        "    COLAB = False"
      ],
      "execution_count": 63,
      "outputs": [
        {
          "output_type": "stream",
          "text": [
            "Note: using Google CoLab\n"
          ],
          "name": "stdout"
        }
      ]
    },
    {
      "cell_type": "code",
      "metadata": {
        "colab": {
          "base_uri": "https://localhost:8080/"
        },
        "id": "Y-FO5iy-7YdX",
        "outputId": "23593abc-a00e-4304-fa8d-9f7ee3767693"
      },
      "source": [
        "if COLAB:\n",
        "  !sudo apt-get install -y xvfb ffmpeg x11-utils\n",
        "  !pip install -q 'gym==0.17.0'\n",
        "  !pip install -q 'imageio==2.4.0'\n",
        "  !pip install -q PILLOW\n",
        "  !pip install -q 'pyglet==1.5.0'\n",
        "  !pip install -q pyvirtualdisplay\n",
        "  !pip install -q tf-agents"
      ],
      "execution_count": 64,
      "outputs": [
        {
          "output_type": "stream",
          "text": [
            "Reading package lists... Done\n",
            "Building dependency tree       \n",
            "Reading state information... Done\n",
            "x11-utils is already the newest version (7.7+3build1).\n",
            "ffmpeg is already the newest version (7:3.4.8-0ubuntu0.2).\n",
            "xvfb is already the newest version (2:1.19.6-1ubuntu4.9).\n",
            "0 upgraded, 0 newly installed, 0 to remove and 39 not upgraded.\n"
          ],
          "name": "stdout"
        }
      ]
    },
    {
      "cell_type": "code",
      "metadata": {
        "colab": {
          "base_uri": "https://localhost:8080/",
          "height": 417
        },
        "id": "u2Go54Wn7ejc",
        "outputId": "0e2235cb-d0fb-493d-841d-3ece42aedf34"
      },
      "source": [
        "import tf_agents\n",
        "from tf_agents.environments import suite_gym\n",
        "import PIL.Image\n",
        "import pyvirtualdisplay\n",
        "\n",
        "display = pyvirtualdisplay.Display(visible=0, size=(1400, 900)).start()\n",
        "\n",
        "env_name = 'MountainCar-v0'\n",
        "env = suite_gym.load(env_name)\n",
        "env.reset()\n",
        "PIL.Image.fromarray(env.render())"
      ],
      "execution_count": 65,
      "outputs": [
        {
          "output_type": "execute_result",
          "data": {
            "image/png": "[encoded data removed]",
            "text/plain": [
              "<PIL.Image.Image image mode=RGB size=600x400 at 0x7F4F61997A10>"
            ]
          },
          "metadata": {
            "tags": []
          },
          "execution_count": 65
        }
      ]
    },
    {
      "cell_type": "markdown",
      "metadata": {
        "id": "WmFG5TG6ttEe"
      },
      "source": [
        "Funciones necesarias para poder observar el MontainCar:"
      ]
    },
    {
      "cell_type": "code",
      "metadata": {
        "id": "PRHUmG4z8ssS"
      },
      "source": [
        "import gym\n",
        "from gym.wrappers import Monitor\n",
        "import glob\n",
        "import io\n",
        "import base64\n",
        "from IPython.display import HTML\n",
        "from pyvirtualdisplay import Display\n",
        "from IPython import display as ipythondisplay\n",
        "\n",
        "display = Display(visible=0, size=(1400, 900))\n",
        "display.start()\n",
        "\n",
        "\"\"\"\n",
        "Utility functions to enable video recording of gym environment \n",
        "and displaying it.\n",
        "To enable video, just do \"env = wrap_env(env)\"\"\n",
        "\"\"\"\n",
        "\n",
        "def show_video():\n",
        "  mp4list = glob.glob('video/*.mp4')\n",
        "  if len(mp4list) > 0:\n",
        "    mp4 = mp4list[0]\n",
        "    video = io.open(mp4, 'r+b').read()\n",
        "    encoded = base64.b64encode(video)\n",
        "    ipythondisplay.display(HTML(data='''<video alt=\"test\" autoplay \n",
        "                loop controls style=\"height: 400px;\">\n",
        "                <source src=\"data:video/mp4;base64,{0}\" type=\"video/mp4\" />\n",
        "             </video>'''.format(encoded.decode('ascii'))))\n",
        "  else: \n",
        "    print(\"Could not find video\")\n",
        "    \n",
        "\n",
        "def wrap_env(env):\n",
        "  env = Monitor(env, './video', force=True)\n",
        "  return env"
      ],
      "execution_count": 66,
      "outputs": []
    },
    {
      "cell_type": "markdown",
      "metadata": {
        "id": "OJlyHwRo7lHp"
      },
      "source": [
        "Empieza la parte de Q learning"
      ]
    },
    {
      "cell_type": "code",
      "metadata": {
        "id": "d5ijSvYw7m9y"
      },
      "source": [
        "import gym\n",
        "import numpy as np\n",
        "\n",
        "# This function converts the floating point state values into \n",
        "# discrete values. This is often called binning.  We divide \n",
        "# the range that the state values might occupy and assign \n",
        "# each region to a bucket.\n",
        "def calc_discrete_state(state):\n",
        "    discrete_state = (state - env.observation_space.low)/buckets\n",
        "    return tuple(discrete_state.astype(np.int))  \n",
        "\n",
        "# Run one game.  The q_table to use is provided.  We also \n",
        "# provide a flag to indicate if the game should be \n",
        "# rendered/animated.  Finally, we also provide\n",
        "# a flag to indicate if the q_table should be updated.\n",
        "def run_game(q_table, render, should_update):\n",
        "    done = False\n",
        "    discrete_state = calc_discrete_state(env.reset())\n",
        "    success = False\n",
        "    \n",
        "    while not done:\n",
        "        # Exploit or explore\n",
        "        if np.random.random() > epsilon:\n",
        "            # Exploit - use q-table to take current best action \n",
        "            # (and probably refine)\n",
        "            action = np.argmax(q_table[discrete_state])\n",
        "        else:\n",
        "            # Explore - t\n",
        "            action = np.random.randint(0, env.action_space.n)\n",
        "            \n",
        "        # Run simulation step\n",
        "        new_state, reward, done, _ = env.step(action)\n",
        "        \n",
        "        # Convert continuous state to discrete\n",
        "        new_state_disc = calc_discrete_state(new_state)\n",
        "\n",
        "        # Have we reached the goal position (have we won?)?\n",
        "        if new_state[0] >= env.unwrapped.goal_position:\n",
        "            success = True\n",
        "          \n",
        "        # Update q-table\n",
        "        if should_update:\n",
        "            max_future_q = np.max(q_table[new_state_disc])\n",
        "            current_q = q_table[discrete_state + (action,)]\n",
        "            new_q = (1 - LEARNING_RATE) * current_q + LEARNING_RATE * \\\n",
        "              (reward + DISCOUNT * max_future_q)\n",
        "            q_table[discrete_state + (action,)] = new_q\n",
        "\n",
        "        discrete_state = new_state_disc\n",
        "        \n",
        "        if render:\n",
        "            env.render()\n",
        "            \n",
        "    return success\n"
      ],
      "execution_count": 67,
      "outputs": []
    },
    {
      "cell_type": "markdown",
      "metadata": {
        "id": "vAK3TLeZt6R9"
      },
      "source": [
        "\n",
        "Parametros Importantes a Configurar aqui:\n",
        "*   Learning rate = Coeficiente de Aprendizaje que se utilizara en la funcion de estimacion de estados.\n",
        "*   Discount = Descuento realizado.\n",
        "*   Episodes = Numero de episodios que se realizaran en total.\n",
        "*   Show_Every= Cada cuanto se realizara un corte para mostrar los resultados de exitos/fracasos. \n",
        "\n"
      ]
    },
    {
      "cell_type": "code",
      "metadata": {
        "id": "BDSwcory7uuS"
      },
      "source": [
        "LEARNING_RATE = 0.1\n",
        "DISCOUNT = 0.95\n",
        "EPISODES = 30000\n",
        "SHOW_EVERY = 1000\n",
        "\n",
        "DISCRETE_GRID_SIZE = [10, 10]\n",
        "START_EPSILON_DECAYING = 0.5\n",
        "END_EPSILON_DECAYING = EPISODES//10"
      ],
      "execution_count": 68,
      "outputs": []
    },
    {
      "cell_type": "markdown",
      "metadata": {
        "id": "_QwBKY6Pus7I"
      },
      "source": [
        "Parametros a configurar aquí:\n",
        "\n",
        "\n",
        "*   Epsilon = porcentaje que determina si se realiza EXPLORACION O EXPLOTACION. Un valor de Epsilon cercano a 0 determina explotación, un valor de Epsilon cercano a 1 determina exploración.\n",
        "\n"
      ]
    },
    {
      "cell_type": "code",
      "metadata": {
        "id": "BtR6h8s-7xTl"
      },
      "source": [
        "if COLAB:\n",
        "  env = wrap_env(gym.make(\"MountainCar-v0\"))\n",
        "else:\n",
        "  env = gym.make(\"MountainCar-v0\")\n",
        "\n",
        "epsilon = 0.001\n",
        "epsilon_change = epsilon/(END_EPSILON_DECAYING - START_EPSILON_DECAYING)\n",
        "buckets = (env.observation_space.high - env.observation_space.low) \\\n",
        "    /DISCRETE_GRID_SIZE\n",
        "q_table = np.random.uniform(low=-3, high=0, size=(DISCRETE_GRID_SIZE \\\n",
        "    + [env.action_space.n]))\n",
        "success = False"
      ],
      "execution_count": 69,
      "outputs": []
    },
    {
      "cell_type": "markdown",
      "metadata": {
        "id": "Eees_yXQvbYo"
      },
      "source": [
        "A continuación se ejecutan las funciones y se obtienen los resultados correspondientes:"
      ]
    },
    {
      "cell_type": "code",
      "metadata": {
        "colab": {
          "base_uri": "https://localhost:8080/"
        },
        "id": "y4j9uedd7z9Y",
        "outputId": "76643c9a-1bb3-4634-b16d-4249346199b1"
      },
      "source": [
        "episode = 0\n",
        "success_count = 0\n",
        "y=[]\n",
        "\n",
        "# Loop through the required number of episodes\n",
        "while episode<EPISODES:\n",
        "    episode+=1\n",
        "    done = False\n",
        "\n",
        "    # Run the game.  If we are local, display render animation at SHOW_EVERY\n",
        "    # intervals. \n",
        "    if episode % SHOW_EVERY == 0:\n",
        "        print(f\"Current episode: {episode}, success: {success_count}, porcentaje: {float(success_count*100)/SHOW_EVERY}, %\")\n",
        "        success = run_game(q_table, True, False)\n",
        "        y.append(success_count)\n",
        "        success_count = 0\n",
        "    else:\n",
        "        success = run_game(q_table, False, True)\n",
        "        \n",
        "    # Count successes\n",
        "    if success:\n",
        "        success_count += 1\n",
        "\n",
        "    # Move epsilon towards its ending value, if it still needs to move\n",
        "    #if END_EPSILON_DECAYING >= episode >= START_EPSILON_DECAYING:\n",
        "        #epsilon = max(0, epsilon - epsilon_change)\n",
        "\n",
        "print(success)"
      ],
      "execution_count": 70,
      "outputs": [
        {
          "output_type": "stream",
          "text": [
            "Current episode: 1000, success: 311, porcentaje: 31.1, %\n",
            "Current episode: 2000, success: 730, porcentaje: 73.0, %\n",
            "Current episode: 3000, success: 507, porcentaje: 50.7, %\n",
            "Current episode: 4000, success: 300, porcentaje: 30.0, %\n",
            "Current episode: 5000, success: 742, porcentaje: 74.2, %\n",
            "Current episode: 6000, success: 846, porcentaje: 84.6, %\n",
            "Current episode: 7000, success: 664, porcentaje: 66.4, %\n",
            "Current episode: 8000, success: 233, porcentaje: 23.3, %\n",
            "Current episode: 9000, success: 598, porcentaje: 59.8, %\n",
            "Current episode: 10000, success: 339, porcentaje: 33.9, %\n",
            "Current episode: 11000, success: 460, porcentaje: 46.0, %\n",
            "Current episode: 12000, success: 381, porcentaje: 38.1, %\n",
            "Current episode: 13000, success: 248, porcentaje: 24.8, %\n",
            "Current episode: 14000, success: 65, porcentaje: 6.5, %\n",
            "Current episode: 15000, success: 174, porcentaje: 17.4, %\n",
            "Current episode: 16000, success: 745, porcentaje: 74.5, %\n",
            "Current episode: 17000, success: 833, porcentaje: 83.3, %\n",
            "Current episode: 18000, success: 475, porcentaje: 47.5, %\n",
            "Current episode: 19000, success: 329, porcentaje: 32.9, %\n",
            "Current episode: 20000, success: 442, porcentaje: 44.2, %\n",
            "Current episode: 21000, success: 712, porcentaje: 71.2, %\n",
            "Current episode: 22000, success: 811, porcentaje: 81.1, %\n",
            "Current episode: 23000, success: 950, porcentaje: 95.0, %\n",
            "Current episode: 24000, success: 614, porcentaje: 61.4, %\n",
            "Current episode: 25000, success: 473, porcentaje: 47.3, %\n",
            "Current episode: 26000, success: 723, porcentaje: 72.3, %\n",
            "Current episode: 27000, success: 956, porcentaje: 95.6, %\n",
            "Current episode: 28000, success: 1000, porcentaje: 100.0, %\n",
            "Current episode: 29000, success: 1000, porcentaje: 100.0, %\n",
            "Current episode: 30000, success: 773, porcentaje: 77.3, %\n",
            "True\n"
          ],
          "name": "stdout"
        }
      ]
    },
    {
      "cell_type": "code",
      "metadata": {
        "colab": {
          "base_uri": "https://localhost:8080/",
          "height": 268
        },
        "id": "LjJZDnps89ru",
        "outputId": "8fffa165-d1dc-4d20-a4e7-b9f44c49c4d2"
      },
      "source": [
        "from matplotlib import pyplot as plt\n",
        "\n",
        "x=np.arange(1000,31000,1000)\n",
        "if len(x)==len(y):\n",
        "  plt.plot(x,y)\n",
        "else:\n",
        "  print('X e Y no tienen la misma longitud')\n"
      ],
      "execution_count": null,
      "outputs": [
        {
          "output_type": "display_data",
          "data": {
            "image/png": "[encoded data removed]",
            "text/plain": [
              "<Figure size 432x288 with 1 Axes>"
            ]
          },
          "metadata": {
            "tags": [],
            "needs_background": "light"
          }
        }
      ]
    },
    {
      "cell_type": "code",
      "metadata": {
        "colab": {
          "base_uri": "https://localhost:8080/",
          "height": 421
        },
        "id": "kPxB6zk872Ky",
        "outputId": "408f9776-eacd-4082-ef70-6034629b83d8"
      },
      "source": [
        "run_game(q_table, True, False)\n",
        "show_video()"
      ],
      "execution_count": null,
      "outputs": [
        {
          "output_type": "display_data",
          "data": {
            "text/html": [
              "<video alt=\"test\" autoplay \n",
              "                loop controls style=\"height: 400px;\">\n",
              "                <source src=\"data:video/mp4;base64,AAAAIGZ0eXBpc29tAAACAGlzb21pc28yYXZjMW1wNDEAAAAIZnJlZQAAtxdtZGF0AAACrgYF//+q3EXpvebZSLeWLNgg2SPu73gyNjQgLSBjb3JlIDE1MiByMjg1NCBlOWE1OTAzIC0gSC4yNjQvTVBFRy00IEFWQyBjb2RlYyAtIENvcHlsZWZ0IDIwMDMtMjAxNyAtIGh0dHA6Ly93d3cudmlkZW9sYW4ub3JnL3gyNjQuaHRtbCAtIG9wdGlvbnM6IGNhYmFjPTEgcmVmPTMgZGVibG9jaz0xOjA6MCBhbmFseXNlPTB4MzoweDExMyBtZT1oZXggc3VibWU9NyBwc3k9MSBwc3lfcmQ9MS4wMDowLjAwIG1peGVkX3JlZj0xIG1lX3JhbmdlPTE2IGNocm9tYV9tZT0xIHRyZWxsaXM9MSA4eDhkY3Q9MSBjcW09MCBkZWFkem9uZT0yMSwxMSBmYXN0X3Bza2lwPTEgY2hyb21hX3FwX29mZnNldD0tMiB0aHJlYWRzPTMgbG9va2FoZWFkX3RocmVhZHM9MSBzbGljZWRfdGhyZWFkcz0wIG5yPTAgZGVjaW1hdGU9MSBpbnRlcmxhY2VkPTAgYmx1cmF5X2NvbXBhdD0wIGNvbnN0cmFpbmVkX2ludHJhPTAgYmZyYW1lcz0zIGJfcHlyYW1pZD0yIGJfYWRhcHQ9MSBiX2JpYXM9MCBkaXJlY3Q9MSB3ZWlnaHRiPTEgb3Blbl9nb3A9MCB3ZWlnaHRwPTIga2V5aW50PTI1MCBrZXlpbnRfbWluPTI1IHNjZW5lY3V0PTQwIGludHJhX3JlZnJlc2g9MCByY19sb29rYWhlYWQ9NDAgcmM9Y3JmIG1idHJlZT0xIGNyZj0yMy4wIHFjb21wPTAuNjAgcXBtaW49MCBxcG1heD02OSBxcHN0ZXA9NCBpcF9yYXRpbz0xLjQwIGFxPTE6MS4wMACAAAAQ12WIhAA3//728P4FNjuY0JcRzeidMx+/Fbi6NDe9zgAAAwAAAwAACNCLwW1jsC2M+AAAJZAt9C+gGAAN3dq5XHPUJqMQ9STIE4h5i1p0ovAz2D6+0y6GAp6iGk03o7xeeJnNFlP7pyt72mmO8alQPFkcQS/hupH7h4mJTeRhtQk621kLNt8RFPKKRW6wQBeqa/bIUz2QUD/5/AKR9JghRtwUcbJYDG+GJMPfc0Z9+Ky2ZULlDK+ObhIm0waUlSDFaiGatI7Cv9YYX3GwANdOvfJULx5gqPt4GHqavREAVJQU2iOKP5G+WttIUpCgmsc99A8Dcsc4NyqwXB/Wn1HghqJQQTXBhrqdl+eCJeXRZ8bhBdBnr0sWP5YVPan+zifC1CRYcA7fnq256iVjYkyvp6grqbaJSiuDI5DbujXnFly7nle/W7NR/1S2Vof4k+CO61XnSIdtvxgWBwUWA46h0k1oBtMIQvNUXU33AM8G80Ey7IIx18o8b2mKF3zbUTMnFoBoXl6eDPvaN5fHuWZowtenf+WYDl1jSre9SqRT06h/6ZRDv7xTAHJNq6qxYSI0NftlMttSAzKr+nSofw/95u7GewZDF0yP7yLs82zMDY+0kJ1m7wus3HJL/RKeMZXAAAADABOd+97ZsfU/AetTFlL3eGUPI3gGHjOnAH31e4cNjmvsmesMTTM4eiERjIRWvHAU2TClT9QN4TxKLEodabOQADnwf0FnYOL2zQOiHdi3H/i0RT8Z6Q0OufexkjrfnBX8Ml+QdWQhPTOOVmynP2U537Z3NDuWSSw0CZz/THyMceaGg9XQ76ezrOt+G1EjwsVV9mb+q47cAwK/MLgHGq7Gck3N7ogAwAQ5YaQCO+lmuiUbPjz/Yd02QKOIDdL3mSY6VuxGFsKBYO8f0SRO+qjpT+Cm0RfoXnFLlFhjelV7VI7Aj+kvvWhqqdvsZh0oAjDuA/KteGfgQh2a4TwEB+IGv2Gkdqv3xJ9lIxX/3yowxySFuZ0+f1VUxedtXp5HyDwABORx1ZrGd+OIhIS8oWUL2EdmLP7P8IXICbCYmyEDV1ApwDnEiEFKoBVI7Zjll3KcVGMmcEDgBRlXZlJsPyA8JyP6fGtElmhHQ+E10HJ7Thld6rVLs/sbMDcspT4yhVk5V/cdobTn/kQ4ShBbsn1mFiUmUBjTYEwVOB8nRWYZ+fZRorSg+VbVzJwEziuojDaBme+4BQmK6S3hmx04jcjPXejw839OdX/0emPwxp6BBehtubLMbrrq+Kem0x/eRuI7IEeO9nvalmIHwarzjaNA80eco7v8zrqhCDQXtvbIBJZdISniHDToD9Vp42mUm6kHhfrXqeY8e5YvE+3q1aw1I3K58e2Q79VN900UgWF18QdfpQIPLBATdwg9uAABXVn0g9eAwYBDKBh09jReeRz/kgP9MBDPYe8dOVtgfULjZd9klC4VecBUoXp/+/Nxr25nUt3LNWyjZXfLHXhCqmA9rATdu88/aPY7n4+AGAT+ND337i/gEtQ4dRrGlDk61v16gcPogjUgVwKx1S3Zx+KKpV7WAYRfFTmnMBoGh+/rqA36lUBu8wIXFD8KGhlAtdrRoTlTqwsVDMspO1rMsY16Mzy9vKOik5cvigHNWkJYSI2kzf5xeYjU4G1qNAAAKeEh0P7f6H0DmPODvHjYSys6p7vhKP5r9wdkl+uV3Z6xqWa6/n2i3CaCbnaxxBF7rWQRZG7cyiWHlKfnkVk/FPmeB5yz60PqeexBVHUedbqSlUIFFn46vItwWNB5mdT+0Hk5XiCR5N6YJ60eWMgNuZunq3KmlwOgSF9IZFvTE5YmP/E+DqWFW25g+H8JrIC+4qVZU8h8qoFOEntb8Gan5nCwzXh2Cf1XJXipmQgC9UwMeE6iorSLm3mlsdcv1bA+L1Gxc51Egh7PKoDfoCfAMSh51NH/4r+nsBfaKnmjiSoxlIz6n6NnLJ6GZdgledksv2OEQ99NWzpFDN5fzOMEOoKSkP8iP1XiTAEosYw6eQtMq51ui6y+V8oEUBVHNLLXqOHl1oi/oYektmOyxg1Hd5eBPwgMQPWCYVYBQ2me0z2N0q1CmVfXrRQVszshaKzTxwLV0jPYm1Zlc8FsKyCo3pWKDEzPfx1B2sPBA4PZOmgMkq9HGsKIc5Sh8FXCUq8Iyh7v8ectcPz1hINsCBKl8QDSpbpcn5tIQBudtD7yaSsVO8xw5o3W2w8pAMcq/1an/tPs7NuJBW4O7gS7Ell7CnYIIZ9MO0OP1chcSVMbY/7+wVQ3c1Ph0CS5DvhM9iEbuhggBGVX1/BkWed0g1XrynA1m7mAWqZ34Clk+OlFhF4Xr5DM+q+Df2FUpysy1PHwPWh3Bd7Cki3d/K+SIDBJFHYxHM1tdUQ9P8ACdSHBQ42cYV6Ner4oK0o+2bcghkAIyh3zSC/X7GbWlLV95QLuvuZBxFSdTaYvSj0r2uByPQjOIrZHfhskOhfTZLNV5v/I+31vwyL4YwQr4BKE9JWHmxPEU2NFd2AQJNUpReb92cAt6hVXu12udLBXx+UfDnO6NARPTnYfwOZogS2uprKQGAqrqBMz0s6xAOG63e21z3p5AVddb+mqmUmelJz7GrVSz4MX+3DAav+U4IzJ/vfFD4V8bMz2iSD9RfPh2hBJaEn2DVku7rloC52Bf6czw4OegTryGK6hHumSJSD0VEmRRDqwj1W2uEYxgZ5nWiiZAnV/dNw4FBpjDYnGf0eoeCdV8Pf3H62OcAeLd75SYQFu1GDX+cMtaUuLwZMDCOr27Rb95Ax14Ok4yS9rVDbjdn+xXIL3aPCmFwpGiWj9X0IAjxkwPU5Q3DpSKwtnn1hpQAHb7VRd6vLWiquGKNsKhnYAmqdfD848xffseLvyWSPeoFhgZJm7pWnP7RsnlEVszor19i4JaG8SpB6oHAma2sZ+5mZ3BentE3Y5BFC/70Fg4nzcSfH+WEgaTz5RnCIwdZS7qXK484xv2U1QNyiL4lRE8MTm9Z9f+DsLRbSH44Xu7NU7itPXcZR73YXvsqQ/M7WMRp21Afj81jrXodsb9Q04y5Z8/rfzIxuP2ir8htD4I3KKxhmLWsfJjcNtd2OAF+Zu0Xk5asplaF0bDEq1Cl4fZFiqHaNzYqF9z81GWGdijm3fz3qPOQB5NMyT+R2ZsL1jGzD7mbzD3bLkTwoyXEZ8V1q+bZIn7RKYn1tvfVleNiAljTjLegyZQFap55cGC4xC0w3QTTn5yjqNeypmTUB0Nz9/bvk0H1fAwGyw1TC06BFNQedySTkKA+xEaB1s+OtPf8vNkXpX5Fjuhbil/Chk3aYjNnXkLbBhkP9lap4E+ihO27dcATbxoYiZBkNewn7RMoyWyUZnA8NGvJK1xqqCzC46d/zvFAVORiJ3h7T6vpgcDN3ReYHcNm4Rs7EJoFd+h+KYOvM6/67X1RthlbF56AJvIQ+MajL/GbaV3P6jGocoZNP/yk29MXcOXyHSixHZN7O+LQEGV3nun7YTf/97b/vo1VOAa4IsQ0lk5KlWt5o/dSGxhBOYEiIUYvxJ12GcFcx/paQ7paP87MjAZap+P+83+Q4VS3eNSfqbgdpP6K4E/0bqQdF5dJR7BaB6+Cfl/pHAAGnvC5dxSwZQ/USFks/Jy58WdOUDvVew2S7RaYhka0f75w83bkOjcm39m1XJQs3Lwnvyl4LvXNLo3SQqH+kv90wBF82nuYhuT/OHnWDEiTJdr9jPW5EXSuCbhiYI/7ArKem3YqEtcoepyX38xzCcOeWw/b21FwV4w3AglAXiU/HHy3XP8Q30ulmp/dZdr17Sj7Uo5H6AniyLVct9H/FefJjOO9Q7V4rRBuqJhnYYka0DT/128VnaPLbpAyM7UmoBjeWJOV1FC7fnAAEUC8ebGlie2A8ttljQRa9853NtBJo8TzOAGccfryT/RCX+KuNLf1VnJWN/yLjBCBSQqE0y0evfvtRXDUgcSFd0Z1L4atfYXv8p9KnMn8kac0oCRnc5ELxb5fJ8Gc/BLRpnngei+27SViuoO18rmoZfZ5iBqDb5wjfRoEmsHJq9l0M3sknD+wGgoh9Pxwlfn7XlVLp06U1Ov4sN6XwdVlBAx5lEncPMU7+3yyp8e+2w3swMNS/Ht9iQDafRMhcMS3TpXHEq+u6LWPgQQsJ+tKKveh0nE1VAane0pwAAAwDJcOncLabHXUlFfRHTRL+WhSMwBdXYu8O2Ov4ekMwvvreDOVy4/Lz0SxsHAVvJ7221VuUSOU+4Ah+XHUTW6+l1dI/CQ5xl9XTMdIxrumC1+NRBwOor58YN/BZb8JflGmsNYp+Zah9noKUlYOu7rP/6MMPuKUgJNs9ZxX8+zahnBkpHqPVarQYcbu0o/2oOKxsyCwOnP7/65MP6WEHKYZGHHtHFwFypRtOuCwPnnuxCSr7jtGYwnH/dcOZY2nZnSKTQeTYJfPzhWGhmNHOX3LSV+9Ln5GpJc6dOZEMYiDjCAxuEETuEPLEwzRsXissw9Qhma/XCqqxoNhJH3JVQ4Gxk8hhcBMmSx8eNbS1S8HnMXGKWDQxVM/+92d7hSPguichHFqQuEMKWIO91Anb8cBF5ghZmQelTi8AAC3Q69zo97OLoAYRXwv26A3MveeExmml0JcbZFOy2T/xdwMK162qMP1vGUYQP8eNq9h0fD7m4rsvV8kGtN1veRsHQ7OEZcdgA93Li411ktWNV2RuO9jNb3bs/7j2pSasNcunnQf9r+lco0K9zvwClUyf4/V11LLU3gYecDSNd8gF1yiv76r7/46ZpIT22Ore6DTmTE6LwkMv/Z4hm0hm7ojgeRHwF9/fbGwqCu0wTR4m99bW8sbR0B6Rll+4BiMdr+buEG1Ic/915RPcbSDx6v5kesiJdGAw/r7vh0OESYp9+hDE1U7xey+2QlX+66IK8UbbEvfu7ErpQKsMReQ53VLsOv1tjus0G/j85UAyoqoyDSGyIVd4janUI8keX1cnK0JhpCKaTfP9t0tUIETmoQqYzs8zOY9v4c0xQ85xFXTCTFqHAaEqpA54AOd3XNllKYSWcLvWpF+RkYezpWC4qXhNkakcYRuVpUVTSPZ9E6r0YJkgS6izKMSPOEOEOdRnIEBoqFlKB/ype4X84f7xob5PusgAARPYPwFOsFemOiqTk9+9Ab7vO43QCppagJfC3qdhlB1awa/2x5AnEO5UywVqJXQ5SJD7KoDqeiRXry5dI1f/egs7Rwpdga4eUUGnVHnxX77kWV1bGKWdF0HbRbffltnEoJhbFrCvjHTxYzVhi/sa6PSop0ZM1kMaA6RtNOMyZUlCjc4rzX/Ncr2LDkdfiOSHom27mF6cA/9S2OQjX9SKEdzc311PzgoE440aw7KeaohqsP8FLgpWhRtyrimGMBqvH0mwkyB2Gi2DdwYedpHeER10QOR3qhRiABGyFgRgu39rXI6tXDAWuWvZ+WhBOrpBAFYh9JeQJDrGG4Gf1bQtiljz40wdge3AyQ+lGMsWFsu25mSzb3KDnpHGhG853atcFe90//hntO81nWUs+mqF0YaDAEVmze7Vv4uT3eDaVjRaA3oclDU8Zje6o5KtYtmf1/jnSchBzIwCIu/WEb5Cffn3TxRarLsQwu0KOIMv+w4Rc7riA7IVbPP2dpB9+mabwKX3ilyowUSGObsfYQMN1MKa4AARdJIR2g6438WEA99EcQ+9BJtANfFNYu0Oa7VsEVg3gOG8SUdRQqgCWgQAAAkNBmiRsQ3/+p4QBHZrhIKYA4AFh1xY1HY02mT3s82lZEwQSCwbm4jgVARfhVmdYsuqeXNPtcVNDRd6ms0v9AtMYLh07UyqTvyR1Gtxbx03ptk+1JNrb2ZClwblnHEGDksJNfWoM6BbLqStjPIGHx4Reg4v46WdeX2U5deBVBwYc/Ef2zN9/p3OLxA7Il00C7rGaytDximsK/nCzlqnBE72jf4s7FA1X7TiLQASgBAh2b3/xKpd/+hDCpXgo2d09Pip2kiEBIQi4g4cPSbhLwNONGrjUK67JC/cJcocD63WfT7Ju07LQf2hvonOslMvkQQWDaKa+nGDVjseSFyjIArC3bu5t6h/kdEbrUIiVLYsgV7mpz2CuEyRF6m5CTZNJVrQ5i3LdR61J+v/4PB6ThKYcC1OPWy3AD27/BYxPEb+MjTEXGKt67JNku71Sd/Y59b8R+gBy9rMT5ByLbwB0pd48W7g8nd48mYmIp4GIAdEnnsa6qNlpcMsf2IXNacePEL9o/jPgj58Dj2vSagZrxutyme0VPCf9dzHxiHHFFmA10fUQ/GkoPW/oClYP3b5LvDecXt+QdygqGLm/pKb8bVnfSlWg+3a3icGGYLIycjc5F2Z60UdFVIPPJKSp+4OXRBjeGa2vjFpevWtlLvKAwLoHYfZLVxSdm8vWCQWPT8xRDe08F3O9pPkFqkB+qIer+HhJ61qXHPAOBdNAC7XP6fqk4FzIWoQHGc7rSSpQOEGA3duvWd8WAXlAO91ne0QrhlTa5ywAAADLQZ5CeIV/AA2A/5XtrIFcQ4xEp9kO8Owwt9r42Hprhe2cte9xkybK52weA0NZ2u/l/MkZw0P9vwxZ5ibYdO4AQ/M+rSOp5MMl5EZDh5iqZK5nYkrw2viec3m2qh4jN63XsIr1URw9/GL/aiwRIKK8ABfmn2eZjYvcA8Y6DwYJon5Nq40Oivf14BP1aEc1H7udPayS8gb4Et7eqzmSQ/ly0iWxqjqUrmLxHy/Zd/9L1N9w62DixGs+IRUa50Qn/H2bNO4fKOhb2iPnc7EAAACfAZ5hdEJ/ABFWk9vkvsLdwvYxgwZGXgw6D521vGfLnPULiJD4j1XQJ8nuGqO/ccpfWgj4f/61ijAAvmczQcAU1jq0tuySmR7aObh9kUgf4q8uOwqx6dFDilrVi+G/l1/2WI2g0dY05OC0H2O4z128OFU/eFCcn8jLP9Wl/+I758K1DVAIIfiHGsAhc+cjjMTi9rIlOG2Y17FjTOw1VKFbAAAAgAGeY2pCfwAGceAmd50a7wPjYgVNJ1+VNxSgAdeyuh+1EidtH6tIU1CuigO16V/LIAtBhHL5skJbhXZbuBVunWIxJXUEuR7kCdllotQWl73Iz+aLfvOCce/gHMLx4CNXpVwPM2aMDNCTzDlO8wGjH2fQGxvijpAW6FsWEMJHC2/hAAAA1UGaZkmoQWiZTBTw3/6nhAArXvCf47UF8Gm/CgAIt3dzdtiNRTfoAEPo9gVv4boLsfuMh87LMLDfavGjeqbDsYAsnFFPAzYdbHq9s+3rPXNTrT5hkFllu5r3KyCSmUgn1k7NprlmY0EFefuq5bFwldh50EbFTiMabo/KnMfpaaVZbwjlRl8hZUeJoBPOJbFtBXmku9pKrwzlQYotr5ldtDE1cFHsuMz/G9scXCKM2OyNJ1IrUQJJCHjK9Uj4IQPXqO+Xnn3ZIfN76kLW/VPXItFs0xs54wAAAI4BnoVqQn8ALWzNpORRvQ8UmY2iYB5lxc1+kTYuV4rz0AGic2cfQfwO9VHpKhjUkvKpEhXQeWM+EfEsDeLDqb7Z9L1kK6fi9E0nbttZKrpTV3mqFsHbVMKeWMRRQGpw0aZ6tK0sz4TxrR3meGC0owyqa/XY3USKLqCjmBJXx4kJ2GuUSh1Jdv+UizvvwVHTAAABGEGaiknhClJlMCG//qeEAAADAABLUwQqR/u6tukAAaNrDTjTqgN0PE6lJ/f9a5JzGDrcaYI6a408G2r7Dl4Iq7U9OjX4qvmqb8buZGzs0e2C7o1YFVJXz+bT9ZxT/dwj5nOnuxFqFIdZpqqr8GHxCA4+KeUo5OXVVedXGcaKzKe5vS0MKRlS8k5M96SUIzlx1L38us+X71hGFsIRBbjoXivixhfWsTZx7myigAM5tv9/rKdUktYqRS8p7W7bFxc7uD+P24UhxLaLwcjsiRWJy05G4hfp8JnApfx4/tELRX39h8/++E5mBHaTJK9Ffv3z62J6+4g6AfvCD0ZYopKGCDIg0xFPc/cwsBQ/pKotwGOAlHvPKpI/LOEAAACjQZ6oRTRMK/8AAfGN2A16wyBlpTdEZGt3UZQEW2+Q5tSNVOZvSIbysAAOBNlx40E77ZQgZyWLJxTWr3ILTzKcVRB7hwrB/lxc/DDAONJTbQvk2JCeUgdC3t2m4H638pyra3tDS9LoiWzf2QFWB1QIj0e+qHtYLvOiMteYjBG1Ivukdo/XJvVxCyjA0LNkWC13xzJNOaAWIcp9ogwQbqT2jggxoAAAAH8Bnsd0Qn8AAo6MavuxtghkQTZv5fo958Saf2vs/eUQAc0VfctHQqFhT2wnteOCGpydLKSVTe5Kb9OdtIAC2ugQsFsg4NlOAomzEQOgzpfEs3KVlyqEo6kKLGbDaIdgdXUgUg26PuC/3pxihntIL3KpFqMJprDzxRa7TYDNeknWAAAAkAGeyWpCfwACj2/ga6YrhMbWMhl7rwSZJ3um76Qc4ABz3p6fpjehUz9pnQzK4JFNgtLlF/dQ7mIEMxcOGoqKovVNDf0VPCTBF1iZKAvnFTbmfhiYWE/fZN5tJEpdtWN2N3Y7tqGGAFDnLYdmiWUNEk8/DkduPHBfj6m4rOp1XzdFftd9scoYlaqkXWb7fG2nOwAAANtBms1JqEFomUwIb//+p4QAAAMAAEu6b2mCebay2F8oxTC4AXa4AC4HOs0653m2ZTfWAZ5vf+PEMa/D2fCiNhZ807w9MJCXQXmM+oPlGHERzScEoUpOFG/PLP3XHzCieyrXtD3rI4IPx+yFEW47FKfW6/leTTAZP3i/OKnSKzMnSMequQXQfMydBcoRHzQZ1DdlayWryDDFz6MbK6eWNMvf0IlJk/75npDdQlqqDMElJvn/PUBeqcW4EMyzf7x5nHVNKZMvLieTSunEWNLcTrrRm73e2Jcpvv4K9eAAAACUQZ7rRREsK/8AAfGvRF+ugbCTCs29VG/l7igAnWdX1U5QQBppGF/8rYTvzAtg3qCMHXrlwzhh40Eq+fRDMQRHgEtf/DpR3mmU1PGv0dgPa25LFs8Mp3CfRAjjHKqSOKz6b/S1A7FpiOfRqQskBLpcr9Kw4aLEMR0zYBYyZ/rTwsDyKyp6zI68lBKSm/uVHrxeF89A8AAAAJUBnwxqQn8AAo9v4GumK4SR6jsJFVCIUDw8RcimkRsLsQcADrPjwkrfYdhSpXZZT0LMq8cw+9XiU46PrcTyDyoDVLapTk+f4RJTpPpqv0WbSCoOjpwEU5bJXh8W7q9F9qErZaAni0QRYzryxp6toPQEVPWhvXLHiW/k2bMMVXDt8p5VkGvEkZWNLr09kTnVKetT1nA/sQAAATxBmxBJqEFsmUwIb//+p4QAAAMAAE925IAIwuh//7+Ag5J5eV82Cj8+U2QX18F5ieP6OoimOXsTixGb7wD7mATU63ctq6VJU+0dmB2YhMfn3ChgKZYDng3eLNGq29Eo/Rhr8GwxADwOOS8fjp2Bu/bLzh9TUZLi21LRBE++bEE2JVf0bC4kPoYgX/UhsoD09Kifd8JTgA46lEQOUqgQgjZR0Yxt0rjE4QSPcAKUpLYY2XA6FxH8z40dCdpnkrzg8BC5WLY6OKvMXuXW6gAUk4oSKwGr36dwJASoVD+3Nu4jZBo9EbOaML6MJujhBwAd9jvBc8S0d905VpQ2A+wFKkqQzQ75xHA6buECYuSEIGfQpqu1ktP1P1h1sst1DHkCympqcXCio9iiTozDu5c4XXRO7z/bH/4YX9Is/4e5AAAAq0GfLkUVLCv/AAHxr0RfroGwkwrROb9RQ6uJW9s+NTezmrWkJOAbdlG1vMAIU78wZGTYzRTUrG7HBZtLruEcdjCV4UKbvMT7dgD5t6/6rHqoKdBYuYnws0inEZ/goAtr6rVwY/zBKUXOt0A8C5UYfI1TxMnCuPjOo8wQqu7gCoVPvq4f05BoVZ8cl2Bqkv/fzaxRadAHFDjTPLcIXugTIM2DjA09iHf18UGUsQAAAI0Bn09qQn8AAo9v4GumK4T6d+aIeyTZTN6iHuoADn5v1gVgKuPJlpXewMwssedXMpmtqLvnt21dNADwLqR/PsUFpCEmr4q5heQukg3olFV5HKO+xj+GIvmS4n8FNrCWXi1RZnIGSJdFAzyR7GVpbvsB3EUJCREMwd7XGg9AeRLXkqWZ5nqfVv5vA5XNb7sAAAEOQZtSSahBbJlMFEw3//6nhAAAAwAAT5TT9eLehcgBCnvM5Xy/F7DmNx3nVJED1sjcbZLGatZ9tWEEiuMcD3WTLYxx2poBUpFLK+xyTaJUNWlZSYClvZ5wfKDC6JwX7vRZgsfSJ+2QkZNHZPFXcc0RSOpMNoX9ohJLgryIvXayiQnD6ssc/N87nBDlzvDphbKEiARyJ7tAoWK5O6tglRYDeDv6SOdVqzMD7jP2fw82MypBQyfcVqLABk8LCyFPkFznbLytjXf35ShVUfEu4sYpld7ISN3saBxBGDJzZbh+64QeYgErNkrARp7krv5GkUeM5WPeNRA3sUuo5o2182YZiPE0QIaPVdwYaVi/0WLcAAAAgwGfcWpCfwACj+b94uVFcVDa3B7Fe3KCKaNPJLIhcVurFyxelZoQAC+BNlG/v0GX1vBiS1qtZkoV7UZWJwPbebD4if+3Y7Welpz59aepwA60+CYPISiAuuzV6mRSYia0BbSRuOMMRfKO8NdTFXmuezpIWbPsmS6KWUcq/Fv2Jv1auTRxAAABbEGbdknhClJlMCG//qeEAAADAABRoT3s7NO9dBFx19D0ABo0Xv7koIclHm9TXFmRF9n12tKzGiKebn94jytko69GUNCjg8JRVu4tzFSEiL6yqjqM/5qGQ1ue0hGVNs+8np7IfqGPrOJ/nS+E0CoBG0yl/c8QMhmO3aA6YZsC1/YtAiO8ymg9RusABP8Fyt5c3OSzuvtj3MsI7PSe9fb/jxrJiXwHK7bcW9UNv8kUiySDarhWGU7MLSdqCU/VZKyuhVcuVAD4xNHiiU0eGsIAomQIrpBQ5cZgTitSD56lhloLDfP2mO56VSLXyq1f8yNMWjp1Fng1rYUHZswvH+cC5qcU3qfjgORukLWPz797Txl3SsWmhoMCGC9Yb+oYbUdTYa01s57zAIBkeazs5QFXIVPYtflErn5VNmM3QaWarZ4SqW6rfID3kmjOpcsaiQLn774d9mcVdM78p1VMX/Mg5tOoiPRPn1UyygQRfcAAAADfQZ+URTRMK/8AAfGN2A16wyBlpTh/BTfGpAB+KWVpYpfs2rzeelZSJis+v9RBVuzZ75yF+mdSs5DWb1dBU85AORx5p+oo0FQsCaLXBLcV+Lmff9pgo9//Ljb31+/sYIf44T5PW9r5ZO4qw81jRMQyHBO6EIpT6OXKushddYk23p9jpQwAjuLv7hZVW1RoCjmjScNrdgBsulO0OYlZOs5xyGZHSANXxcV1szBtPUY2bOQnkT8hMHTMKu1xUZ9kv4sMHrAAyerW8Il7BdzuXE1ST1dmt5hpPNbDNNAUjX5BgAAAAKQBn7N0Qn8AAo6MavuxtgjorM4OuDCQITAU7nkAEskLomI/5NW8f/SU9cWUtfqQKc4u391wYaRLCxqj1vK6qoz/ixsca8cESoTr87HkkM1cOuQRp52Em0MD0sZAvDcP37xmzEQ3yxJy/GAqZGFPA5wsbxsBuThEN4GysznvRPKZHh2rUciyMbBe50nCkVq0IECXxSIsnasm6aO1+ZJfLGZlCt/mgQAAAKIBn7VqQn8AAo9v4GumK4UZduThsIRFbk0siQhjwQAOnDBkN+Gflk14HYN+t14xRtrzVQg5IuVXBm+IAxUQibZoXuoRJpvQBnbu53vtzbMGUzrZolaMaMh9ZidVSGi3URTabPi4zCaRPdqF0bRCcRydhE/OzWsZsvYaPefBgv13W2qpu9NgPdLOs387jMdw+Au2UkHGPK7t/DNwpJMiuFGv6IAAAAGTQZu6SahBaJlMCG///qeEAAADAADcupKLbxsgBb1X8f9ZKSss4rQ/F2YFwsN1pbJKNzmetESqyWj4G0QXP4Edm/geCiiLB4+5vYB/qtL9iULr/68Zd+6JCUciSHMF93Y+XveX4rT1uHvw1XeTr4qLEfIsOVd5n3psteg+Sl+6L+HhJJUvI1CsG0OumYpPmHFAicobIAawYZuM8gbSev+UgY+d/FqwqaFfZobnhGEIhfM8gfpsEdzkevYgtYACVZ7tkkszqLYSvKPcVL2dkO/yQWWEo5W1yyLr1Q3Uv0U2oDSuUQ61wvgdiNve7+bG+4G3YYOjI/0AT4AETz17i/ue0eRwAl/N5fWsK38Y6P2ZVXkbtahz7ZFoRiGBhYhta+WMsZUEK8gsmgjtYRQi5OQy9GotAj68NmEV8TxnKoxeXmchv+DbRMsMVUkc+cCkgef8njtgYf8htB0rXR/eL8eIzx7bA9R+VTNdK+0Nl8lOwul+sr6h22lJnA6xMO9NG8+B9e+/Ij9UdtXXke77E+CWU9x7fQAAANVBn9hFESwr/wAB8a9EX66BsMQxnVbOCqPqZ7JThmWOAA2ZS7+H3sbvQEyakkiPgJDnTHMnAPHqTBQovD1n5RxwZlxMJkFxpIpnVdKEBgi/rhqdWku4hY2W7NQ7r2ou/FqLgtLpqjA4ObP5250L9DyLNDPkvNbmOILGkGuLXPKsq6NMulTVyrGKPErRq8TMI+KA29vhsOnbTtGADCunSroLnQv18Uz435hQ5zj6I/sZocf74BTWgmD/lCR6lP0hhoRTToTGsk2Non9KwmshgHtPH8jLNy8AAACDAZ/3dEJ/AAKOjGr7sbYX6zITk3dxggZk9saWMx9TuBaiGw/xBL9tABzhyXtCiqQRVCXdbHtvBobPWRn4UXJGrXTYzVmW+Rk0hDWXHWnR+cxUlncinyJtQE1PU/1ZunELHd+1EUbW1engrLTRKGMp5vTRDGJv2L6eMU6kj48djJk1QdwAAACSAZ/5akJ/AAKPb+BrpiuNzXxEXggA4zMZ6NENbjJ0A8yYUArO0KRFpDyA60KKweyhBg9kyvLUz3GT2f/Q4iQzfcyDi4z9Zs0ZAQ/tR+we7v1XCWr3ZuiqJBrZpsR5BcaoAmf1lHCzczMXsTn47Be4qYpp7Jgy9J7SETbTn3FmMJGR8IKPHW+BwKdt2a6/eNzXGzEAAAE3QZv8SahBbJlMFEw3//6nhAAAAwAA3J2iQqicn7rgA4ZL86RzMzzuN3qsAu5SbfB0f5kmf23t7bxfP1HS/cQ/QLEOVCyV/xIHELuuOcGQDZUWFhxjdMZ9AZ+Ua+b2OPd/fQIVPpb56obW1S1Hl6pdWVFY3BIVRmX9mpIoKtReMG16wVVmom7XguocgbAt5j3kjM+6f13AC/Tiy+KSqgYMAw8IzeGXPBZEfVQ1cVrABkESDWf/iJKTn54XWvZT7QtCxTYBwEE19fKC9XASjqD1E358hoq5YPZYo/T61lJkP1HqRWc9RrPGh9BDIVQECmHA0Fx7rQuPdke6SyxqpD+sV1q+TCxoJHSm3y6zMMYBV/9FYJ48BV/3+CE1jJwbEH7FjcZu8/BJE/kW77YIRa+DfRXk7T/ixeAAAACHAZ4bakJ/AAKP5v3i5UVxxVby0YpMK/JEXdi3wAOswZBfochODtLlFNU3tLQnNCtFU3KYapbNM9fQVz33nPqAgaQEa1SAMpXqDO5KrKJk8Bbc3760hKPRBFHzmGr2X4IwiycyJ/ksnND2Yxp4TqhNWMm7/J/rkN73ktUikc1WN+QWcSlmXpUZAAABLEGaAEnhClJlMCG//qeEAAADAADh5ejjVSp2TJnNlHgBB/Vj/2TLDstg1isNfKq3dgdRqqD+LotPc7GRVloFsIxJnJY6BUIIAF7CwFo7eg6eEgChetW08CTPk4u9xILYXSmrLu72e4DhWlyO3FyPbmcC1hqouCf4aX/CFplX2Szpv7OOQz82UZfsUgC/2ef+Js0wsjSuAeQJvtF0Bd6rbOqVmv7bPCI1LxiL0z1fs6jVIMwGGhPjvr1Gqpg02BVlWQWb5c1L9YpYK/P/NDVFRJcN8fVSRg1aLqsqbwAj9fmF8ZNuZ6uQPxWlvFTrW+BRPxs8KCqoj2epBOVGy6RxZ5GJ57Jx/kj64glFvqg/b8zBNs+xMwcDMKSjku5fXLwCBgCeJlOX6Wihz+W6gQAAALJBnj5FNEwr/wAB8Y3YDXrDIIhCGXxRkZae89B8ygAdfvqR9kL7FGcAq1wVOrjW0HWF5WJKCqVie32rkNsbC+qPGZg2+IHNJOVa3WHLMT9hr5iwppUoG/m2zF5dwrKGewb+XMACv/I6Jf/ipPSg2Rt1J0c/Ujsn3vpL0oMcVTHlhNIB6a5Gez9GC3efTM6kvcqFDL22lMML9HGeY6/RNELHW+cFOvq3csVq7JOF7xDleupAAAAAnAGeXXRCfwACjoxq+7G2GSit8D+QviCA0m/4AOYEBA8L9DvwFj4FVo1QjPfjCDqniXwLgQkrnuo+NW9D2F891K8TdNaav/gGzl6a7Ba9OCd180BRczAmKVGirzzXNkeEWc/Z5iAtVdf03JP+p3cxghaGGpxjqjIhHRh59RhtpiYJARGfDIf4OC6roqF0VkR0j2t+MBn6JBixHKPAWAAAAI8Bnl9qQn8AAo9v4GumK44kmeUKgA5oqiSRDt1auv1VsXQpMG9lkIOHSgNBZaEODrU4UWyHqgs9vEuoScPmpIgHmQ+6y8gAzCcFi9S0SPh6Hp9bV2XBZvXay5QqG3jALl1OPofi3F4fwqaKhTxVyEyDJVzkINfx8aUp06dyibEE+IWflYYV6xK591rYRL3L9wAAAOBBmkRJqEFomUwIb//+p4QAAAMAAOIF8ycAF7IIzEtyI4yDGIrd6RxO4JbbY6B5JGOcysjqmhSVznuSdiejEwNNtFX/9ZLQzBcTG8ofdG288pS5cLm3enq/F/99+XaA2Zmbd9QM901zOYXPJA4lZ6NwCIh+TTjLChgDgBvOd94cJ1aDWAXw2KTTeL/IQBNXv2oD7RiBa77U2NKTkMTm2qMsaEIv0orznY+6+pVVKP3l+fIZuywHvkNo/nAN4l8CV2Fpj6j+4cCYkEexSiiiTBE7cS65dUL18Cer5x2H+7L96AAAAMhBnmJFESwr/wAB8a9EX66BsfxLFFcLHKdxLgCsTDQAQjO7Ui2JNO6Qu65U7ajtKem6/bMSsmziQjw6rRQFkpBUTtPB2BXZNpx+giM88b07D1RX/lm3cyBihxpFKs+NfABfx+GEBauIjHINMdifdLCcIcQyvWLkjP4EnnPgSjH5Z7+FTi0tH/XpN7KGjVnYuaWwmvK3yVnG8usVLe7eq+aXsMQa2BNYySIUfsKlAMMm+s8ZLVtAKUw7+8EHvO5EkmwF4g7aUg4BdwAAAFoBnoF0Qn8AAo6MavuxthkQXWjWIgAdjK/RoLXlyEE78PbV+jfBST2qU8OJBYIAaQR0u+WQbDUlLC3QYx7lfrSBiA68GeAjr8QECb1ppMLWvX8tZH8A38M1zFAAAAAsAZ6DakJ/AAKPb+BrpiukuMYwFtxMFGYE5sACEY7SF6w2Ivr5iqU+MhfYh1sAAAENQZqISahBbJlMCG///qeEAAADAADjcJ5IJd4g/8sqN9iFFAA6pDNf9ZwD5PeaOGu+F1n1GvNXyvX/2iXs2dfTPIAQ2qP/rs7pT9E2hp6aFkQmGMQ6M+Q/1mozXZgdL/qAd/Oii8TB4lNyT54at+lrVLIQcRdixemGhFqD2nSJF+NX99TCPNqD47K+kJL1C/cnjrIgzfuVhuPBpW3k8NbFDV0WxU/Pt0O83uj/q8lb0rc2oLXlxPbh6JGuA8tRWu2K2QPN6BTvp8vtYeoJPWuJ8RKFjoQw2ZfvBoKenxE2+W+H13jpqFvelIPoAyPq194AxL7eYjta4M0XbFJ1SAFQ99ti2Bis4AVIQ3ZWm4EAAACbQZ6mRRUsK/8AAfGvRF+ugbH8whMyPAQvdKBYxf9dhgAc/aOxPyTnVqf7HIBpBDi92EJgXDEVzOq1ZwarZG2g85GZXuB7QsbF5PN0ywnU/tKJCSeYUrOTVzzmWqiX99b8oggDzlkIG9SM2HETwK/DwVnXX6NAE6axKnBBDLeXYabplila2T6xNFECoJBY0AxacrH7Mkl2OeJjO4EAAACZAZ7FdEJ/AAKOjGr7sbYZDjoqsfLwgAdPmjFQcGYqy3N7jAoboIrJURpp9IiLHX56/ZfYMpedyeXBLYUmBHk+chgKAzgQ9kUw1MvPV5T2zN05bep5DIMdczsoJ5k3PZKy1RSATVLbD9Xismr2IEmsBCq7qLoPLMBlyQs3G7RWIJ8DdmpQgpQvgx6touPoDI9oNjmuMpPb5AFLAAAAoAGex2pCfwACj2/ga6Yrji5eV43dEG9qnokyAA5wt80egDvtMsEC+OEUiWe3i6rPJXjWf+a4UiZ/j7XX1LLcohvjONjZlHnilXOSp9uZtNl2D5L5/DpIeqo2wNx9bwZFhnHs62iqx/tC227IbhPJzR/k6CY5Wvx1aV8YMSXWV44T35bShgsyMx08exh3omua2Pe6UWxOfuHAxYQjDNdoLmgAAAFCQZrMSahBbJlMCG///qeEAAADAADd8J5ksQ63eXbgEjHJuPWe2mJn0Rt7vzAwAC6npz4FWpSN+PSE4SH2sFxPO5jcY8oJl9NyWevod3V6rZ8nkAEriHTUmZvMddagzTWMYm2PNMlzmaMGpKI4BaPRhoiVusFK0wlMHenSvFoGOGea/qc0UB0ncUl0QcyzG8tOAW85gzW0iy08duzgdlOCnh8H2aTnkIONG5xZa6csByqKLQmBSREnTKzRvfU+Wu1VLB4hCozC55IZpg1pvcobGCvEoavUDwBgJ3fn0ZpU1pgY06RVg/69SOrtjk7oqIxjLKZxS+m9b6bnyNNbz1ZRy64AmeUUGGk7PcqnGfEgw+P7XOmEc4VaFytY0Pxlzq8N7jp8a2aVdHbxRhaqO38YAMILN9yQgGQ0X7+1EI/Jx8SSgAAAANNBnupFFSwr/wAB8a9EX66BsMObJ7Aeoivm6zABxm38ux/KbNydD2QyGY7xVfxY3+DVslaHA7E9nNyU8/p39scgwK8ybvp437rvkGPtCccXBfSPynrY7JCAETvVe14psAbPRmBwf1/3YFL6WABxZU/TtRodawoFtiJ9+h7I+ZP1KJhGkrpSfRRBsX955kY8hJMAhJcYRh5sQAAZudhsfn3EQF+1AUQgEVHr1/EkWBaqUrIBgdz1rmtw8LOx2ePScs3nk///f6inIkkQNA6Hj74+uwcFAAAAogGfCXRCfwACjoxq+7G2GDJKRLbw2AKhABCMIGlU6hhLBf56wsTkbMzThXlAIwgy8bJUEfZJZm2Gzl0Vbbu5HXXC4yB0Pm43vNfYT7+Xwk0MJevRjNbcL7uAxoNanomukZnSKeHW7M+07e64SYRB5kSdFOiXpeudQd9uOcfGHLEaMaNaQ/U/zDrNS4m2qOnQ7mulErz/7XP4O1C/WjG6/t58WAAAAIsBnwtqQn8AAo9v4GumK43PKNjF6y6or25l0BYFWTIFbAggU6Ursbnzw3L3PTR/oAHEcWbtFeluCVbCzEbGrWlgkzoVoY9DbW/9X4k1csakfCK0Gl2Pb9b94mRgDtPpW1er1ST1E4WQSd08fE1tTU5krRrVOKfS30Fh/MOLu0KJ7piePvYXt6IMAOmAAAABI0GbDkmoQWyZTBRMN//+p4QAAAMAAFISlNoPHP+kAGUfjmzX1UaHaY4G9coEtehEc0tOoaHJMkrNxheD/eR2ZrIPSymZH8P6lH8CKFVlKX11pF+21vkzoMx85Nlo+/ZMaDi7ib+oKKgFqHOWvPdt/O17gE4ChqlrU7T2ClUVLKXwxqz4GLgx8o22Okx2dZ7VMDT3m3LNc03nPf71D5mENJmgiuiPs1Agbi+5JHGbNnxM1C9EY9q1VPjPpfiVY1Hy0XaYiEIuP40ZydQ5wk8I2cTbpAqk51/oDYwqQVl8geUAopX5Y6qYug9BU+MPKOV4JLhmw71lS4Cs5CfRRA5gD40xKWn3/VKdGR4Ul7c2V0dCzU9///8FAu/zCujoW5AVZQjznQAAAK8Bny1qQn8AAo/m/eLlRXFQTAxh/pP2oIkt0hoPX81tmWuA+ITAZMfL39QAA652QvzlYj9aCPGBqq2CkD61LXFuBFdPS51G/ziS2VeQhbspOBVePE+rhSJC3sXd4xN4W6Ruk4G5eLROW/YSV0i+npjHeRkQr3cMFDbuacBdCjxLcCYyZHjhqN9pLymJ96bIJgt7vacFCQRC3A1XeakAReeYQ+EvL8a+Ku6g5CIbCLspAAABM0GbMknhClJlMCG//qeEAAADAABSPeEt38WT+aLDAvI3jxap7YbqACckTOV78+TkgpXMMDVnPWyydKWTaVj20MDV616F7CQ9ODmRVfPGdCQCx2oL3TIfbNpYmWTfwFrT/yr+IwBwTjtQW5Khz9NzQgEgMsBQ8HAfvoU7SB3P9yGe9rXd9GRchDhmvDnQCqvfinAn+CyWu16Z3tAd8/OSk7w0mloGoLjbqv8jlKkyTOjBr20Q2iAJz81VZ/9NUjppb7n59wcs28Ca1G+Qi/K7fr4pVLZ1eaefd71ZH0TbavVt2wqCZ3HRgeTOb6z1bVX9n4wrvkuv4mC71H0opj5hQ/NhuVbo/yDjf/Iq84tEPEVGJNnHnY5rjM13EYwUTJQVTh67okSzKwMMFiJO9YqpNO9R/sEAAADHQZ9QRTRMK/8AAfGN2A16wyBlg+qfbIBXd6UAJq8xU3i4oOaAiR4Xpl/vdUF7GGKh75kxdBw3Y+CeYjBnZ5KVtyt1PUSlupBOIvm2qPNUw6zhPWe0XFGZSIKqbceivBdTiYG431b+TyScHTTmjRIMHBw4PW7jejNHKuMjgC5GkVGqGdTp40sw5D5s0iv0XBzfe9MDfElLLqM4bjwCsW6DBcJf5h9nXsRSQLisKmI6xItqKUyW/C3D5VLsIEAPBD7R6CsleHa4BAAAAI0Bn290Qn8AAo6MavuxtgjpneiiL/XSrggAdj2IukVGIxmn/p7B5oS1GjIAWQ6SHIGk/v/50lDHLVNFH6oRQqJU4+u6egR6PPK9RwbeXGzgWDgD09QoURWxTISf87Bx4q65ZcWD6YnlehnwUf8TAKexQmaPBFAbw1lCcacBsedwNn8R+39rb/6HjqrGRH4AAABuAZ9xakJ/AAKPb+BrpiuE+EPyUBVVxCiOD+to1tTTugN8SlYr3+gAdZ7v0J9VXLVjYZlwE0vCkfMeORJ9RVFLHF3SuK2XazcfcPSG1otiy/iPR25rPAZlpt9QqjQJBvVMxs0MJhmKVv8v3418rckAAAEbQZt1SahBaJlMCG///qeEAAADAABLaVtaZ0Jy5Xs906AA0WtZr9rD8Z8pG1P4QP2s7MR57lcwEI+/fv/SYGcXO2gbqFBTf8tdO2voD1C/onV67e2fhYz8Rk1o6nGVnQ0u35QCcZoTON4VUOKSr9dOYUGt8PvmgI5x5w9GggpwEoBXS2bhMyWg72x0KLjrQF+fqeQxH1fygRjm/G/BI7CHCB8c6zGiUN5Cu+P/geElX79WnadMrzBehG3uHLtYjrKojVqH+8DT9/AldxrOjrgCCHENBr1J//NmnULQNKHc0woa+uRhpmwRys52DKrW3IOjmEk3UQUZkIBwRQ/IEB4v4XBDAwQa7H52nS7qQceBL5mlzqhXGw/MIFu49gAAAJpBn5NFESwr/wAB8a9EX66BsJMKze2v0R6aYOumWeK/WaA06WRZ5dAfMv+XORdd7ZTACahJO2pRzKwA2AuUdiUBpWMsc7/rC0mtjlSaY8fn/r6PV6GFxc17f/c4b65CLzVJMtU1OWQ9S7s0Zk2SI1PQKON2diUm8RTjI8G3cNZYN2HqYmfJxpiHSgOHd0Vhk5uTmaA/lWR1iLpYAAAAqAGftGpCfwACj2/ga6YrhLh61G6Di6sYYl3it7W/sk31Kj5ABynPREoFms76d+HsrJeiF/L9w7r+ejMd9U3CtFLQOSkIidNvkUj5Dj8NV8FL8ySZPk3NdZAMkUGeWjp71e+p4BR52vGgS1b4c4+FLpgbD7agCDHJV0md1oLJC9tiZwnI2ouMbWQszzcbafh+UTXHzrt2hbRTlTXRex7OrD4W8NkCWdMuuQAAAWJBm7hJqEFsmUwIb//+p4QAAAMAAEtIvHvgBAotWAABEHvM5WLVQyNSCvccbe0hBfa2p7d/SoyHH0cXdLwrLkkpnZslKIPL3aeWOf4gBAKaaWf5znmB4ep7eIY24aHTbzK8i0RORU/RSSAL6re+GGfc2+0EHLdUqTy+jTnnQBZknDjA5AN5drX6poYp1Woapc/uhx8QYh2x3VJogVGyv/rj8jNdErrBYDHlFQd3h+9foyF4CEAQhhkNSqvLzYobr16sNZdvPJcYtlsJNrs3kgdaExc922i9PI4ib5hquPDaDG+icP/8Ybrpnakm5POi+hUsP7+fBD2tM+8IsA90lS6BuhrLraTP4tPgdRjCDKlvc2Ef3fQyypgeQSEl5/p3waDo17byOPfgnG1/DO8HCPpyWhti7w/FVTxIIMSC0wbkuezx02XfHkAqUn8B1VYDkMqaPHCUrjJmblE6uU2pgtbzTOwAAADVQZ/WRRUsK/8AAfGvRF+ugbCTCs3tEh4IbjrXYa1/wufTNfJtAA60AlZ0f8Wrtuqq28JpoAVhr9DaBk4RdjOLkIoqY00pG2nKsWHwg+LxusfW/1YuPEpEIKqejSgrqEYDQEdH6PcDgsmYWMM3YonZcCML5k+tPQo8GKlwBy1unJ8d4/rqdBW0XGfLVSOrQq9ICDZgc0gQ7lX27G5C4JR7vNB2jSGxBt3lkcwKRe51bi4sEBHT+IPa5k9EZso549Imot2xVByEHo/IlDXULUm5PI3k36XhAAAArAGf92pCfwACj2/ga6Yri/PR8RpIvxNGswFb+QADp1qCWyAg9FEvlQUlRKCjIxOAvURzECO+ymEl5YUsDUf8k0V7oSJSqIqpMwi5v4lpcdvB399kNzvUVU54IdgvX6ZPfCcj+MZKQPV8X7wyXQSKZ3dktJv9T44b1+5ZhVkmMXbi0nerxhXPajoHTU8NCl5KfFy27MbMtz0FUo12Wd/tSZWqIg1HfjO/m9w193EAAAGEQZv7SahBbJlMCG///qeEAAADAAC/CgzoTBsgr9cSy7pC9vuEDAsOkY3L3eE64hsVFD7YmmzzZqFt8c/48TasQjydXpuz7k9QjUxNSmzGZEQr2b1lYVyjifInuPh9hgK9dhv72RXCze/D/MycG0Ocs7wI9Zj21YTiZgr4rC3fP5SiX0pMSBFHrS7zlcaqRKDg2CQ00bnGdIrZvz+wgL6ZPt3DHjQSBRdLhs+T5id+q5vssLV38G0FS9i/lqExATNGwjlJkLx/vLJ+M4ahjEFyarispxOY0NR7uIDycIeeQrBdnAdsMzfBtMHNk05O7x30fFyZIMnoDwSLZVxqsizKS+aL3h+76+Io48uEWRVQVjlA/tfupcxxqSXTg/bHQ7aZv6UaEjl1BKVIH300MqWZfjoFsh8MaaO4w6YMPTIDmbny7kz8d5RVjxCGSwNNHiRQxQHZnXfj6ie35BvmdwQZVoiDQh+O3tz6YHibao+V4nhkCmDoF09/sMpG/B52rhXQrmPzWAAAAMdBnhlFFSwr/wAB8a9EX66BsKh6aKfQAsPmKnNwYPZLFM+dFtwta+eRnJ/zq22sxjhBCP8SxAFdGTkAqP1NTA2JOVyDaVZNcIIRjG6eQ5t+Jjef5TnLPr9PpcuJfOt9SYiQUoePpw7Y52pMDA0Zsc2s1OqtjBreaa/x4shcWGY3H5ISqEEQiVm+vPd+aIlpW3hmLt+CAdHglMSe2BiCoXrtbTd5tmZAEfSKloZxbigpF75Ofbq98IcRIAAAEIUO/ytVu1Gc1ndBAAAAowGeOmpCfwACj2/ga6Yri8yq+lAHV5ACIPLfrAs0R0VW6Rv8xvS19N+eJuNd+LtRqiV/NOxWFGr433yQOlhTaBeoJ4z+GzvWIBkRTCOA0F3sLnkuaABUE5aBscyb0ATNIrqUpzLqwP+wDMl4pMRQyPjs2i+fLGOM1ERog9DKopyvPCyeTJH6/ZFNrnocul04/Gs4e6QMe/6mtWMyhQ+sakQtpWYAAAFkQZo/SahBbJlMCG///qeEAAADAAHaB0tsqLuAE01WW0yYKqB4NvNSpiIxEp3OoEwAeWZfgvbJWs101XhpBnLnljEURHNRPpkJD/PAfAU+XsQvc8bsX67YL2UsYczTgx13SDCmYVc1uOaJ5uTVQO4poqfctqRre5mgUif/vcK+IGcD4GUbN8dcxGHqGFN52jPAQ1XYpLpqT+jdKgoFOd6oWRwzCkENw93Cu3ZgB6MJBuPULJK7LrqMOYduDqOx0yscHLTwDtprk5pbBo5Oq8gl+s/SoOv5p2znxgoHIZxX2NxsVXKtW1FRxdi1vlnIaPL5LuBve2qv19Hq7XzCVhWbtj4967gPWDMHPFWrOPRWrZBfTMtcQGvxP/UMwDsI+2oAeEt/H94QgB93Wt5NtAdJ1Jprd5J3bFtCFURKYAFU3459tbkPliJiP1qXT6IR2pwg0a9sdJdH2BCB1d55ELt9vbxxSOEAAADYQZ5dRRUsK/8AAfGvRF+ugbGwYznIe1mVJApBxxje5/ITPMRer4q6bAAuYNizz8iRS06n12DOQxVyiHPFnVgWGk/B1TXhA0ls7C70TTHeh5TyflyQsLGHMnJv+M8mkO9GSSCQN5M1sWXNEwk6/AM+cXu9nOuoTiBnjL4Wfxu4LpH6jURgOgFudTV8EZ7KD8056AycuDTmCudjXN1B+lT69hOMisv7djk3dd2KG0awQUfUFAqznnfykZMvZs9AgMgIRopgfB1Lua7R41Q7lWzi11vwROdG/GxxAAAAoQGefHRCfwACjoxq+7G2FQw9F8Gn48VS/MAHOHUeeVpy4BC3oL6EuHZ80N3uzqp/Iq3WS5dm6qwDgD6psKxp7t4a3GsrbyECzYjAxIPnWsR31flOkKY1Gzt30jncdvEgMV+mikHhE8bwQK7GS5thkM/0OhrDUpxdZu8Ot4/QHcaXiPEaUM0b88JB8Gd3xFvftNVBR6rqO2GnX2V17gPyUGnAAAAAowGefmpCfwACj2/ga6YrnmYuoIjuWfoNzBIMezNdt3PfRIYKvIAF8jlNxcx7tQpk7phix8XdWOe/GpX5iGDeJZ/R64t7B9fpWAa6xiLP9GSsEcAgw8qhec6ivVVdzIaf2xZFTqtTJjIsO5d4ftcd3hMsui5GGLRIWrnoo0pumJ69fJL3inKw50OKxZ/rKhhZoMRBSG/Okry2291lGItiv+g074AAAAETQZpjSahBbJlMCG///qeEAAADAAHaBZIvjIALsozlfxij/ftK1ol9d+OGz2j2+xJCRL5l+FdqmUkD7qqzYvmE/AHVA+3K1YvaF0cj0BGmXe6IgdTkVa2p9MVM6NNQCHHUmaI6OYoeiKoZpdHjloi6+8MzR7wPjCgDs/GxHXpkxRKKu1ROp/EOeC2Bf6yGARExIoZbHKp1Iet6qRDOOuVzRrxybvyEin3Fw9ho7+v8f4AsTY+t0WjCQmO+zimCqIOh8MHL1RuARtgTICSH14KN3ZzivWQ4Dpfe78EGwwetaWvyghWYwHJubdPzW/Rf/YeZSwCEnFFzk7ZDazWzWISbsm5o0aUYmJUgx/0sXvrwaKDX4u0AAACjQZ6BRRUsK/8AAfGvRF+ugbGwwnF8wT9kE5ABpcm2AWjK0ymDnXUnGr0bUWVpRPgYoL71poYCAfK4ZCWJ1ys7rckDEfqu56nOGjRNWtHG4aGKYmvawrTX8vopTkUIFPv7HiH1QMok+FGPERL6ALfMXkLgBqPbnoj5PEGJt41Eq9T50WNdPfbSmS+CoW2kmQoq4GWraTGSYoPJT/xaHjZaHCH0YAAAAJUBnqB0Qn8AAo6MavuxtjX5hJCySABAsjxEXfYijOZ2nodegWSabLrsUK/iEmLFkRJx4ULzc5AqYzJao94SZksP+y7LjcRo/bOVcSVYs/QP33/BJ/Vxf2yfp75XTosje6OwqRM1EJ58FBD5xdFAN2G3kl9oLnyzSX18p4rDY4bWcBABr9lS+bh9eDvYEQbdMEOA909/8QAAAHkBnqJqQn8AAo9v4GumK55lzHshlypVLQAOE31s/2VcvRQIsqL7nb3bQrdjccfZsGv3h8xwpEpBrQLLDF6t2DhDjXJaGlAi/7UUfW70D7AknImMITi2S15kzIJ+ZRGaXlLzprHuQggQeXOvkm/Roj/A2tS7cD/oZKSAAAAA0kGap0moQWyZTAhn//6eEAAAAwAHQdjXpNOJCr8KwZVmgjjfQAg/nBVP8hPTRjouuwr3LC1kFlFwqbSXUiliePHzLKhfxuipOXUBr2WkN9ixVtPxoUUHjb17uRnloU/g/1WHKTQjMN6vGDPgaA4x+eXgmNLb71zisrfw4AWQM9dHQRO7cAMyeiAMFfpm6sW3J7DwOjQLKjOmbJ1Rin8prf9ZFpJZkJfkrVhjK38hhoY3g/AQQ2KmgFue2A3+H5GpRpHSP9dq6APbZ1u236jOBO4D0QAAAFFBnsVFFSwr/wAB8a9EX66BsbDEl9JABzhSComxeaEShdcdgZlCQ7xk5E6zmR1daDPHS6rpJeHlaYbIEtV4LoQGdrFMU8xIHfC7BUZ3Z39ALukAAABZAZ7kdEJ/AAKOjGr7sbY1+MS+xNQPfHAALkEK2ETjHC1Mi6HS9Ff1/9sSr2jRegCLmjZzlKB4YQbScN/dOTZCnxj2b3hTNaecIQ35dufpsf1ORWYRvvb8oIEAAACPAZ7makJ/AAKPb+BrpiueZkNU5paACDeKIlIib7onyJ0ffxXdvR7jUioHSF+EqhUWbzqvV04KqeUznn+w+uCEZiQDoa91v/PCKqO25eZAttjxzxzXW/NPC0w9wcd2bNY9es+UA7A2YkmYhST9ZkcDRVb37tTXGHYsR9NY1NTnr4SgNtP2Y3jPb+YLBv3KD5kAAADhQZroSahBbJlMCGf//p4QAAADAAc720lxB45Agc3pwaTX9ZsAF80uFgoV2UVhrvCht6xaAhUP0aY2pjtu8P/DOoCfZ8yew9geufiMaU1Q+gqFt0MR3iaX37NOHB0FmXK9bdPHTDv5M9a2uSvAY9yq4ISRnS9tsEdlOUc4fd6JZcsHwJY01GPZ/VY+aLf2Y560uMx8zQFrCzV5g3DRX9zoit3PgrQ/zhpSJH+HO8A4W3KKlzeOCjsZEVj4yAhpKwxHNMId/MSF6z5Ay0XbTZ1WxQA2HvDu4e4uyq3HamtMU/6wAAABEkGbCknhClJlMFFSwz/+nhAAAAMAB0eE6SeUNpLS64zXispt+8dQAOshf9pYU1ImgLqkTpF+RD3tveuHfUgYzmH7Vo+JSKkat7LxiihQ+SVqfr2KSyFe156WK52XWPZ+mLjKtCzr6H+ZHetnCw6LAVbf4nxamdR9xuDgh+kBuzi+oU16He1W+kcjhiTUhftWt1Vyq3i5FUb2I5q/x5D/gQdHfZTgkLjdKsibFEfNGm1+nDRxTCnIqi6SZMHzmfukTp+rxrkLuWGBENOOq9RxPJLlqE0zHNKXCmMjV5xLzzCmUmZ4B1WCcgEx2XiB+MQTM47i+xDm56ACXDiBaW/NCuST60O4QN7Fizcr2W8ATGtpzuAAAACLAZ8pakJ/AAADAAHxCTe6c5nw20eJGnxLiboABdbTxC5viym2HMvgz7yvFNotSAQrBzNi1kB8M9SXEFSeZKsQGH6H4vbik1xRuQfKezmgTHUJTojqsA2orppCbqkQGCz6G5YjN+mqfuKWS2WnZ5FxWl+LJW29TTQj5U/Hbe17ctq+L6/m8G62KAkaeQAAANFBmytJ4Q6JlMCGf/6eEAAAAwAC59y9Zvu/rqAmo5sCsABlfjV6FYGFYVK49DK2aMQu3FIcc8TRlrXmYOKAJZDBLzBLVg/0Y2e+KU4OsHYuFy0pG0ahpuBkKxeeAWHbbQ5RC18BteYGEt2YawSF5yFRotXvWZV4EARky86jDghodSqjQ7DCVvAmKC69Yhm3W3TRVRYlI/WpANUVP/EEyW32SYbtDBl8dfaAI4Btz/I8EhhLW2wnliseF4ebOS19JYr9urjgP/BHRFKOP1H75IxS8AAAANFBm0xJ4Q8mUwIZ//6eEAAAAwAC68y57e+pwJFgwgAZRuvhlpSva4pZdMV0hq8NICjVA9qHq3n7oNgfXr4hlAoCtbPdCJDTDJZuE9SmXPYLkIPg334ELOW2V8on6F6UMOFRU4WZK1Z4N7zVQVoH7OL+ilssinPWzyFbqqo7kGCZnYIA9qUs/JDNlQK23CmsgEkhDuCWDbjRMQMIusfys9Q7cqbGF1oXBZzkJMNJilQ6wm8BiqY7DQKAOYv5BoUgIiWnvVYMsRI2a3418fwc/+SmcAAAAP9Bm21J4Q8mUwIZ//6eEAAAAwAC1Vr6M82ABdBpC0VI6Z+2YSPFS1QweLvM24FdvBsgovQjpUNCOJBuXxzeKILn/2/bIbgbSTY7MgOOSqpAyiCGszTnVEnNybIRJprAVcZ2NgSFioiMxuIlXI3h6AOjWRqqGYQB777EKJPOnJzA24kbvD9u1o7SnSu7wPsA7W72hhMX06v5nFHW0w615Pas+Fn/fm54FmeKDD7kdJ2dRh9HAZ/EjqdYp2Tk13P3OgJQnZuIgutF08lV1sCQeW4JgPKwmlgHKNRGnY7O2n019qcDK+Bd4C7gLxqA25u8Y4r3/VS1sYhpfoU7Eazfr6EAAAE6QZuPSeEPJlMFETwz//6eEAAAAwAC2fGAH+8n01xmAC6YbUmpc3zvFzhqtlv6Km87wL6mHqcJEGc10osuvq6WqKLeQvpD1pDnNlw2hPP4qEmARFZVEEICT0kIxs5fAxwtojPYlh+lEwUSASsPIFNwz6L4PzU+rSIfdDQv9OZSKVXahdpMyNRmXMbmVM8HElWKROWcpCwoEzuKzz5bX73lGf4UxSNSjAnhDhTRBQ5CaWP1irRa9tFTvEPGkgbM33pIy4eUHj5bGb1g1pDiNLlnPbhofFU3AzPar9EQcqfPFQLxIENoGcMGSZ//6r4Nm01B6uG/DPmvps1CMieL6B++TRwoy2mDmVN9v/jOeJTqV+AF53Y6jhB1FWkZADe4R692ZGqhEtbBB2rBAHu8oZowwzvR+NCgtUBpwCkAAACsAZ+uakJ/AAADAADHCz7llU32F4CcIgAdodSi8YbhncHpc09OACwwEh6CPLrBHVYEjah2QkUhFpCNOmp4/5cf5l0Uq7MfHt88Zqe78n7hQDBhZQ9dDkRkF/IXYAf1AaXZQgQ4n2vjW1Dft/Rl/ZjDcUB+j6tJhfAfDe1d5yKg302x5enX4Gu9FKwKypD/sp8rWcu8aLRSG8QruTF3cjWKG4ib54sSyer4ejsfSQAAAUNBm7JJ4Q8mUwIX//6MsAAAAwABKAckSd4z99Y0A3qADmjJRm1Zswuep0JwgSwR6RTAyoCYYecejg2XAxqoZo62bo6rGacuXSGS5OJXg5WyRzNV//4IbbACLKsBGgyUVvz8TzdZoSaQ7xuzWVXXhhHL6nL6dhXjBdAzYvDxCQfldF/xWEf6/ld5rIKo7Inh/9xYFU/jsedMUOp2qztTQI8r0ipgPwmOIfGXS/NfKsWZ/frrAFSU/eU4+CH72qsnZ575+LMA6u1txoH40y2ASLJtbIWTlwyHkM4IXWYEBk8wwvMquIz8Vfrn3jB1hsIW3/H4qopEVbqt+QYlRiOmj4NyLPxUQkSnQgks/V05Ct7s9JdWi+bFji1St5B3ZpU7f8htK2PaNEkvxsXYO2zg1OjUvJb/RECEvF1DHWJi06FJjxeOxwAAAL5Bn9BFETwr/wAAAwAAmsj8jVEnRbuZLP607LuO6cTYpQ4g/oUI0ADfY00p/BednJ1Z4b7I3LcKgiK/L3RjTqE9jjALQ9lUe+p3Uq5fQBwWN0snGHL/uvlM3UDg59+OUCmBmuG4dQlKzEbEL8u7/D4MGOOT2wOzRnOqTE7z3MTMN+15M9vuLEZnNNo/qQ02BAoHC5rqlm0WiIRtHNjJJ487n1AMFMCRcC6yxUMd9MtSDImP1R8bFZolFyH8zlqwAAAAngGf8WpCfwAAAwAAyQqTKXwchkGt1sZbhBz5wAE0kx/PnGODw3BXTDqFX4F4lJw6261G/LoZ0jZLY2cwrZ9BH9N3vv9nCyFFU4NKBEX57XgKiLGHk9+GpoZ4VcDIFzwr8pa6te3qvMXusLhG2I7J884QBj7smM/QAnJGx0mYL5bUHXlL8d4vIVyH95pV//1apmu7nCUMtcQpbL2L662BAAAAuUGb80moQWiZTAhn//6eEAAAAwABJviw1+0otMkzso9dRRYzC+32QAZWGDhmb3mAqVBPJrLlzubs96Y+msQglBgM4ZtB0HLOAj1AFAGGABap2wyDcCt2HIksJrlKJY9RbKw4YqIvRyLSPFzAReTUQyy3Dcjz8QcZdd14uuK2fHPgrQmchQJpShYpN8KLWn/wNmNHSZLO/UifSrHC9T5n3wqMdw1Toe+zNLEe7seyIMdM1UbARJWzMFelAAAAxEGaFEnhClJlMCGf/p4QAAADAAEu6b0k6XRl2DXJBrgAx+uFo4DVmn72b+Be4O+CRBi5/nkZCmv/8YhihvHBi0Km+kR27xxbOaYBr5l6XoqI9bU1aD1+J02GzB6rrAzb+rOTK3GlO2qlrDNPVNSNKbBbTlPJ35+96Ex+AQnWflq9rykZTpqo9Z+1Y8bv9Ft4y/YPe2MhHfilks6lrdiLKy7e2uq4NExTL9LvXAWSxWc3kIIHTQueYmuvUoXweBA7uDlIr4AAAADdQZo1SeEOiZTAhn/+nhAAAAMAATWQpffh7lpACaaPqUa8rgKXrSGgrn7T65cRIbJSyyfS0gswg5bCWhxLFU32E6a3CL51yC1g4bc7Sk5BZZTydYfeR0ao6Hc+DFFZ251OAZDE9MvkiTsT5SfzBHaONTYZCU6zr+teEMf0aNMeiJdD2Eo7MhFkIatX6YQp7tch4TS4O+qkSGSAp0j0GS+1rZNfg+ShRIztyNCBxT5F/cNTjRl0LefRhIEQ+zB/Yg/CCdwOm/k6tqAmZ4bkaedyPzXMmP5Nw+VSjT9S7BEAAAEDQZpWSeEPJlMCGf/+nhAAAAMAAT2uNz54aNV3gs8uwAJ29WqSLfAy1W91KppI4mPOYverURXVpwrlQuxTe9iOy+tOWkrLZXIBsUiyWyOS/9llkUEP4lyV38pre1BtR9BaAupd3fQ9e1F53oRJiS4M1y0pl1Ri5mJLhPOxFHMaLvwQwE4AljAJ5EOBRm+/5D+bRnBVb1cwc1CzLTT7SPnr85BMhWNHwxnAZjmTJnbdtNKOsoGzi7yTXajK6UKkFYPrqrnRmp2KubeP6li5plc9ktVP7fu1AhahPPl+O9skyFvVY9NDZuw3DawAfEbnkLaSFWyIlKOkVhAAAEPKVV/ODMFNCAAAATVBmndJ4Q8mUwIb//6nhAAAAwAAUhvl/0GiQAauZF8K1j5kYZ4DoTy8SMWoMPkR2DzjP1SwggqU8wrIyrbIxGeWRiTjRejsxe5vbUNxeEWMzz2ZovGLwjPEW3UrfGQe/uCq9eqfN8031yfpz7e+NrH0qfxtsBqEMPsSlg0cbmtEPTFFlaOAa3OvBUFShlhbPkNY32h1mwG3txbHXPfsJ4HLJqhdqD72KJZeCIt3Fwa6bqSc2yYXlfsjBB4VMx1ZlHqLTdxGhfNd2YioJhuJOfv3j6daJxQdNB0HIpq5F9llbNGxROOYfTz4esxyjUFpVZi+QsUj72sRavvnEDqOotobGqpFp6MMLyhqN0SAC95DfpLaRl1jW4I0BGSrbtfB7/M8/YQYGd3V1FWjtUVCkSOzAzyRLzUAAAFtQZqbSeEPJlMCG//+p4QAAAMAANyb+kk2utCLmw4CAAdd/1RsaBytnkYQIz9G5piiGtSi/AaGo74dx+IX35GovzZBpS1paTcOiDG3QxTBEtSB5XgwAhRmx67x3bh3o08gKq6BF3RWgFx3yL3K9wxkdZkMU6FmJd+Sy4Cw950UiJsPj+GIGIJeJIBY0X9aZo86w9ag4lpI0y1beQ5LvZOA3U8DDcalyoACn7QGYSHtfhN45GXD2azj1SVJirWL+B18uzuuWApcXkshDexVRKe8R1fnTIi6OJ35EowgbczyzuhbsO9Ap6BxDMOIdDyegoydJqU3F/GSaK4lvYBeGl/7oOjplPaLQGLAH4kKIRKOxdEo9msBAIHRY6jqwwaN/uhuxWAvg+HsTNVpGk/52sDq1krZqL8MemZKBbO7evj3VAulfB0kBnZl5kIUrfqz8Sd87ul2G0/47QQRzYFzEZ0sNAT1lG+3+P7AGFheSeEAAADvQZ65RRE8K/8AAAMAALXXuX/auKATn5SUsG/DABzgGHY19D+n8Pl/JdhBLu1l0xZPVq0P792AIlW0rus8+BH8pNMRxW2aPTBBpzL2kPBJeZ7s7i/qgdm9Twp2B6wJnXFBpBgpu+J4/rj4qk4Q7xFXudl0nuErS1RIZM58ot1uX+Ez5TFWkmR3DDpIzcG0Sem3Wqx+cJBIZfZGpIQMg8olQz0bwujcuKkBKidaQByMObg8nC79G1CW6+f+OKaE7rvuAIsSYXMcB4PslJWdUc8Y3KPMnvQgmmXrdjswKR9g6gfT/gslMoH1eHk3qRcos8AAAAC3AZ7YdEJ/AAADAABYs3F1GQ4RxZMz+cKDxtdWr4AOb6zxUWaAgeSIDIzcajbQR06zz+jFOwM54InJVSgIOtoTtlod7mp3G5C6+Z9TSmZJ0PeaSODfDMgyfkWM0tP7XnMx/NCko+gMK3NSo5q4WsvIbAXuESLRbdgKmOZrrEAeJa0Eql+VVUNBn/PXDuWpsPlUKN335Unz9bOUlU/QhrVb6MuznmD6XUKISzdGOeMlyHoxWbbs2vQJAAAArQGe2mpCfwAAAwAA5+yA+xF4ATTMb1ijCeoMBOj6uJ3n7+Fzuzy9NE8Ii9bmK0l9Jb8SlhJRwu+MOzhlhTw2NYeG8VUbUNjksYPv5WBrITnm1npPRhr14cdTshYMErgyMgiqLLCTHsTQL1ZlO0yF14XJjMeJISFvNNEIb7RMXJc9A3bfFZ/6jQU6bE0v3R/Ok9GgD8x1ZJ+xP3XsuF/rXHDB88NC4IZVsfAs+reAAAABZkGa3kmoQWiZTAhv//6nhAAAAwACWj3/3UEcgBNXvM5Wq6Y1tfVAZkrUm1clO15M7TnOYqYt/aGmCxkpuXNLMghXXiuXFCxh059VG+J52atq2yel1V7/0pGBbzLaL2Hs+k4SUEFbBS77qmiu6Qfmg7qYDl9b2mcHCn2zacx/4OFaylf3Dgd7HhCvKi+WmX6+iZNteUQWIZ+Wd5EmhH/8XNyxQlK3WPW98yjYLqA2lXxY7Bl6iB+FGqD5LdeKAl+diJJZPAm0h+9LxwSBVRUvREUoik2dEFB4mPpI+A3JgWD4yyzLYG8QedkOH9c+oG3nTYLr8DjI+RaMiiZo9c5DqxD+cAkyRbucs8Ih91ofeyqGHLqXMNLQ47/b0AdMWrSNI3yf1G48S7OiBYArEUu6wpIKZETqa466sgeJhyzdmqQ9AJnuD+3mdusXDJi2vlybl4V1iuTbxKb3bQzTzE7rF1vUUvzN610AAADNQZ78RREsK/8AAAMAAeZisHIyeOkP9dj+ADsi6OnNcD+5hXZK4E+wlf9eoAB0QDCKUUwbJJMJRm2fzy84MJYz0NerawA3RU9bDpJ56QDhkgMvceQ6kM1EUx9ylJZdpmAPRMLc367TGjQFKpsG3JcOWywVj1LhSFTYpKHv4YQShCIBw8iZ+KU1gj74hrp7+Vz0FTr9icegTM4Opo/Lw9AbzfugsrHbU1etQPjOpVIv+Xbp150v2zhdM/O6GxqSuzsmfkDIriPGpdf5CrKW0QAAAKwBnx1qQn8AAAMAAn1utMJMKtFN+lhdAABfMx0RKAFuZ/ndG6IMIZbTUmSfRBjBrTC4GhHXeTs+d8OwfAk2SbiTOIuoeX+Q46V6uTYuSoVEyd+6W/FeTIumkx6JeQdkGIkE3nLmXL8J1FSJTtyh/eby96Dza1nUZkzBVPpMzvZqnBGO4k8bUGihgJp1QVuopkhWgLGoDlFfIuepeALWqsKEazhUdAL0CSNVqumAAAABF0GbAEmoQWyZTBRMN//+p4QAAAMAAmy1QqK+MgBLFn1E9+001yO5YvAf/ZkOxVkKC+Yf4uCm1Z6JtVnbPVIygGBV3FIIFpcQfCKpUNUBBKlOTL3YF0CpSbhBRRDFhLiP4C2+vxUKWr5gUbmN31zktW3aFocP3209NMUFzu4FANZ5/gMachsQV8iGXhUF0svpJgco48JGO7ZAtowLXDxi0KGHCVEppJwtfXbdoo9HtxbBqyNBrqKIHCToupWsM7CKIBSStViGh2c1U43HSvFTWcz7eyjXA0fOKSIHj45SnZvVxUCaPw29V3gvHF2VI319h3cg2NrzHBFx0d0NnIOHqJ33hu03SGe/i3IVtToXrQADUDyw9SokFAAAAJsBnz9qQn8AAAMAAo9ttyp6KXWADmir8KcfAB9lfeldbpXFkNhYcu5kPIWQmECEMlIyoO444DcoIZ+3bxjSqwrUWwhj548I/gGC94qU0xke9zcqH5GcgL9zPas1vb/gMOLkaYkZT6fenPtUJVJLQ15BBKxdoydCLakZlgojxmMQOHN7amMRpn7Ycz1e7qPcN/aSWG+t296I0PqC6QAAARtBmyJJ4QpSZTBSw3/+p4QAAAMABnde/A1CICh3Jd1f/fe/5g8cEfJM/UPjd6Iup6l352XrcPyyWbimiyV9N4z6ZuvQ2XYGoGudMUVw4PRhmqtwAagoVvIyvqF2Cy5ArHXtgYy2Yl1C40T+Tz1AcHHY5E5LKA6o4ietwlixiP0CO+bXqDHAUu0F9PjT6l7JAAAKjj0Oa1k1BKnRaSQfks65SkGbNnDXad4cFEycbyQVfqPfYYi/lXMrvtDBlKRJznidPCGGawA8olwq4SqFyAERDcbmGDRG4I4txbnfuTGqdLEHZI2ATWKktLePOmKRxc1EqOsV2wFS/WZbUoDLbneAJYHG03wByDCbk57PSL+sNcLCvDNpgmMoPlhMAAAAhQGfQWpCfwAAAwAGweAoP9X06h742kBQLzH9CxL0iY2/mA//oAG1HU8JEt2qOVdcpQzzMh7YH87WrrtpEyUFz53YR4MiPCQj85CB45k477ghPKb23cbrG8pUNui4MG3j/D3xRpH+FU3YqTfp0929iDzygc7RA5lbiT2ywyz4EpBwt34dJrEAAADtQZtGSeEOiZTAhv/+p4QAAAMABm3Yu/GyAFvXJd1fqJe8x0je74QWLrHqCT5otMqE4b9PpV2raZgAje7bzVvF+2vg7payautn1tajVCZs/hxHf9EhgNIsCTcA3C0Eds6VfpkbpvGdOHxoGGpleNYCDyl9MITdcX8Hp1z51UCM6vyO9/a6YX2XeKmGvz3pEtwLKxJHU9qhl3x9dsFAEBmFohy7rRrsBBIQzWk3+5z5iVythA5nxk+a5Hzxe/Kuz3xjSbbBnFkzdSKuq/FQ1wdYSIDcfG2VIkJThLAGMrgKjuburblqP60/y4YDsfAoAAAAkEGfZEUVPCv/AAADAAU+RF2AIATMeiiNiFJEB6k13Nv06JjPobhycV78sJT3tWbPL+LPSsK0oxtYoSikrcIZVgpkjIhuEt2pSHoQEOyXbHpTXU+Lq+eNwyGPoLTyoAxIkulh+De7zeyQ8sCREZW29J3F1IMqKdTiTslbJbzlfNsT/koGxltnE+56cS9wY5ugZwAAAGQBn4N0Qn8AAAMABsICfyEAAuOZ33Pv0ouE5fqLIEijI5Ej66dkaK8Bt5ijkWlIzuXH4izAw9PTOrx6IoQw3VmsWcOSGb0Xl2eSZRwk/yowYUZTg4kUztjL3SgUXxVIn8N2NNfBAAAASwGfhWpCfwAAAwAGwEyRNbAIAIg4lIuSSv9251X7/5qBDg2i7GB5iezbHpamGIGhXpzPv0do58cP+xNxSOr8iEr+jkaCdCLFykvNewAAAQ1Bm4pJqEFomUwIb//+p4QAAAMABneE80Uzvu+YQuWLQCiQ+xy6t3mMADszuvhEbnVSOmwBG2m6y3POzEeAnTnvBEIqJHRqjbfScPW2iQQQe4I4YVemrFNfd5Bg4gw3+CFIZ4Kwlt34QMj2mP7o7DINcKMIQd96JXn+bpCz9UwRbgk00VBaIVSKgXKMSdZwJ3lx0NSfJlwaiAZNQ1O8dYQ8c/U7kF5ViEs9xzDc9B7avnTYXZ2oFwFx+nTBSycwSuK4iX3nkkYptjtu2PrGL53wIf0mjotODw9MzJtrLVM4hreW1GPuAn7KF5M1pmUdPNLVPMkEYASSqkNLYuZqjL0ipwhfgNiNT3tonjargQAAAGZBn6hFESwr/wAAAwAFQzY1umNODVdV/dgAdVMJCeyHkDmx6XAOEfMA3mR9+MDjdxjBsoNqG1xb3/Svare7bBY0e0/GjTQUId3x1xymbKrhKf9a6n03cn37Fuqdhs/DBCMGMjvzDJAAAABcAZ/HdEJ/AAADAAa/mV8hAALpaElioJdv97jZj1l9PUPnu3SIdoMY8JTsF1kffkaz3eK1L46JZ0Pd77VK/AGpU6Kp8MUiBWq83KIIzp3GZfTX95Qr4qBA6P6UmzAAAACEAZ/JakJ/AAADAAbATI6TmU63veFagA3k808lLK+VYMr4puDq909xV67eDBxPu+pK6gCl7JTZDvStBFiVkvKkUFuID8k+6szeSajsSxoBn+rterf7a99w754lANZzE4aq/4iOALWuGRckA6rVRkPBl4yHFS0ia6DRH6oEr8Qi1SGNz2SRAAABXUGbzkmoQWyZTAhv//6nhAAAAwACbfI0v+fEuHBcFLVe5GaaGp2YBQbku6v/VvDwmccJqdzbGnYjtP/grMD2MhESNpdv3jOX3aBISXIYRlMYKT1m/a6UNqiW5kf63uRhEVpQbdP9LUZ2aitBj90dQFGgSB5RRBausbllsyG4aVh4jaG0wDTmWanGTP0ipWQVBn3KKyG1prSmzAoqIzzY4Xl/8zHc+XZ4LdDTBh3Iv7CyfVKa6vO2a1DPsOhVJ3qLG+GM6aEB3UOMV35DkOVGksMu0QBskX/224oeqxH8R2I3w5GcyaA4/KpVsieJ5s9p94UOOVxNH0WeaNhmXKnU4LlxWWCC6vbZgYvtUkC6h7pQEIciJZr6WUfAi4qmlcdL08DLTNQRmx69pl+0A5gCP1d2BOioDFaBmKyAM0bGTcGBkx1tdn/olpi49PFVMRgUwQf14eb82UjBPCK3XTgAAADfQZ/sRRUsK/8AAAMAAfECJfdo2TQALj3DgOv/fV+/CK2p30DkyikewOvUXfpWBd4W2yVG3JKF+pHLYGkYR3fpanaWD7VgRezjn2FYgdBuN77Nxz5IQXsmny2KTE9B35otWgZFWpnlshhbSRkcdr5V6RYpOjRgBUi6wuUJGriMmVHb1WexpNx5p1qIGq9FMikLNYvciMk9yIzW3vSvJgPPD2da34rh3pg+1jmsFedQlaKCAJmre3hU+dJuY19gpdlH9g3q3mnUfHX6McRNF9HjR7gvg2U0rxnzTcGJFoRUKQAAAK0Bngt0Qn8AAAMAAo6LHYcnXYAOU+OsJsw+RPIxp8ZSWPz9U/PYa4LtKvGloGvblVM1E1XjkMSxscg5RBEb01erB65kpoqMjXO4YDM7CpYRggNIVJP1YF5oMt4FfOVVnT3/g/LW1PLE6To/eVLcvQhcDVOh33/vpS32DLwB89GL/TRCFz7aVbm7aAEdz0X46BRktQ3zZrkWlHNqDA/9obSbMpcQQup/ws3UxPpVJQAAAKMBng1qQn8AAAMAAnzJhqojjS+7yzb5FS1b6YifnzBY/Ytsw3K64L+NmmLpxABsMHuwDEAfL1kfjEpoag9VrNm7dpRx40/Lk6Jish5htJ4EHzs7WUop5y7M7WtUy4bfzILYo3JArwzea4O9MckojX5LfY5k46URfRIEHAJmLNolMRMf4lhsFgWoF+ZQfpd5uGgkWngwwLlxvKt0/rMkZoFkkMrBAAABF0GaEEmoQWyZTBRMN//+p4QAAAMAAON7Jv7ipJnUvkqA5ZXgEFTPqdppKsYot4XoXCqJBHrknyhwVfyO4ud0IWBAAL+D6NuO64f21i8YRjebhHalLmBDOIwbkHSlTkTYmoqXQALe7LBwNYN0FTkgvrB34gqqdiYavF19HAQnYRfPPP6pLBvOPQ2/rSfMcpqcWlXISOR/gSggl8P/jEE833lOQblK6NkzIbQigGTi7x2nUT6S34Xf3MC8eaoyJNCHjlkd9Vn9/xmWUup/GyCpzxHrMG+fEXAefc2pLmsXaUPJSIJlv4luCMPGcRHJl9jFjGsGJWWn3z+GCsgbu3JOJZWwVbHR5JacelHz6zuaF+R8TVQ4UNlTfQAAAJgBni9qQn8AAAMAAO1/nWtCNfEFBLjUPuwAcfa5K7EtllXwnY27Nm4PcSD5BbB3Kepr5zbkRbTMKPnY2sDv792Am8ESorMpnS/z0AFVBk9b+2NRtRUpEIKm3++ibJ363OXiwSY2bWHZmSIOOgYFogG/M3YWIx2Z+GJMTVxfGty8x+YBGMBco8p2m1605bVELBM+4YkKJjFA+AAAAV5BmjNJ4QpSZTAhv/6nhAAAAwAA3fspwPWINkcxMY7eDSCiD3gACpxd/JRP3q4r9+ZxecKR1sXs1alY7X3T2W4Cu+Bdzr9Y9+imul9SQxs+MEAP08YoJ5/0W3bIJRE4GbvJ2A4I/E9AnJRlFe3eJnLlt2oo9aHidlt8sBWlrFDHtqPQcdai7YO1aymS3/m2lMVpfH8ILWwXXoA+K7K/xFiQ5Z2LJvrZcrNpzlPRQRuBLmlW+eA+J67O25kbY69CrKVVZ1c1nEJSr29Suj0qAElXCQaIZ7qzU6quX9HFMJJMtrog9n7pA3d6Po/ZSW8UpZf4iZjDQZwVmTLXTQdCT2RPMsbc86wyd2p4sf16u5Msy2sDOfefNClCbkaBV2ak461yd9kPZL6nv4/Gt6vQ1/1ihxLWHpdz6RNQnG9d7oVWEBO6U8fw97YIMc1HR09seE3HNsRja3f8ZjDQKkxvgAAAANxBnlFFNEwr/wAAAwAAtbRPAWE/cCpZ50eJrpgAvVTrzSaB1/MhQm81K7Dq4iqqtyW/dUwdG0hd50sAs2QVTN4NS4v0R2rbvG6j+dnsHcbSFJD8rSSxPOIGifVovyQz74+HID1NUJp6rHHp2JceqKnqf64dOE6o6QUWt+kk/d1ftw07+ag9xMyyczv2+wxjwNLMtf/upsAexcYdCskY68JB/UuXw2UgSQ0G7yEVbChzez7K19sGKVej9rPCS0G3/vHO65Yhi0NebGgdPvY7NX9H7AGXnKxnF2HGnIX9AAAAogGecmpCfwAAAwAAWKrp9As+AE1eBrkGToIKp/tINHTP/fK+u+kaCteeKQdw3zA2zDAW97x/cobqcZ3DFjwbMNXs6ZiLeALAnbaSRwOYTu4NmzUeiigOed+J0F1nLoZLPXS4BiSr4YJMQY7Euk6xNEYm3cZxwEfffusc3ctT2PQ/NL6KaSavMMQAcysybVMDyiqGOmW1GTSs0M396e4cbBTHzgAAASVBmnZJqEFomUwIZ//+nhAAAAMAAT/mXRucFzEcQANGwCv2kEdFywvq0R4GHakM8/K6xQn3GbNfyn7gFKH0AT82M3LPcSoSVyZKzt2/uFqRetZZnxjh2e3V/RrCjhT+4rYD1kJ0PWzHDsMYv46+A/JVH9LWqWHNsX2LcV4M/D6zK14dHDuk2AG7rww+kYt5z5cnVIkAhBhLnd+uUCGrMw4rzMyL+4Z41FGctcIDpGotyt51kY2RAz946xXmzE1pYJj74PBe1Rhv4HhXaAMd9yxYrslyivlCdG/PsfWtghJn9DUqL6yuJw45s6PyKU/Hr/XqI/MSV8X4DDAJjrgq6jAyl3MZW9piinwyQPJhxNhAcQQI/rOyYt/6mYSUTWB8NkyQdxZbgAAAAMxBnpRFESwr/wAAAwAAQSvAFSKVgAc/aRWqNEJk2JNIBji//uXvNQCn2Bagp1wtYOgg6QNhs8kMrXECTbC3PizRF5HJtHOblFWWaKKDvBMxWwBOnEruzMN5t7Fzi/Xkvz8XuGFo3YBxa+XtNB/pewJhx5iyIYetSOVnMmHG5snNeEE/AwwDy3G3OwLYOcpUPbLxbR4FR5ucM4b0mWhbTPrFafqhaj4IQGf3vynyedB+JyffJ2m+y4+vu6qn7vFBFUdPotTW0PdLB2aYErEAAAC8AZ61akJ/AAADAABWUWGXHwG3QnAZPYxp7gBbO8WTBDmeV61oO9mzanQJByy8xl/BW9FEIOqWSptMB/Qp/ATOOOS/v5vLyH/K+fw7CEPAxi4BtoTtOTwy3hfW6weuytRTIzdkJ09gPvC2z6JEY9CpxjHCNIF8fArHyvuySTfUgW92j7YhlY48hxjWHCte0Zf1wIhLt6FH/gnAYnvqKwv8anlRv13jxxFW9VjE1ZTWDaOzAl2omMIGmNYsrcQAAADrQZq4SahBbJlMFEwz//6eEAAAAwABNvixMGL+GxbtEnWOOPmkAHWEB9WO776hUzdWAa38+mJa6ky5olOa7yM0th9aadCNR3Pofx9SRn2AcHvi3hC7ul9BhVoNApqAm035P7ODkiiXtPpFIcn4eqffoKTSLl/+mGJkG7Xj3XHnEZ2DSyvJhOwu1RpsVsdinqA6f7EVLluS3wrA2tdC4TxIWaj3Ibmr3LuqDY5NOkM5zhPJNvbn9NUZmV5/atvyTLIo1IZC2AliPfxyb4FBxp8d80S9HtWeMNx1//l9+Idd5REq/kqt0OLqjm5hgQAAAJMBntdqQn8AAAMAAFelazk+MAT0FaxyYjOkg+ojXOqcQ4RGfLsda642W39HHB3HvskRQX20StwUqEZakrEHuSgShnGLl1u+RQhBKotUE1NGOmeOGWKjj0EtIcwn+0gVKWrzJrO3405zhDU+h/rAK8zgYRZD8wueyic23rWRF3JCaKxt1jRjxa53yupho/Zv8qm9t6kAAADxQZrZSeEKUmUwIb/+p4QAAAMAAEla/mLluAG5DDr/e4+QTfmerN9/k+R9CQAQVCS14MgYDc/LLwnkuBlXiP15ZWKVJvtg8lXkLHlRWe76yW0Hzrl+VA3L4vnzGA2dAvP/j3lnHzaI7bUxW2sdTGCXzp1l0mYo+E3d58lieia8hkT+avaFwE4gDN521bpTwWZwia3AlAbuCuN8nbf0l7zhGSf0FBi22xiw67I7uz4R9xM1u8erAYQDibUuLVm7sWZqFQyuY2eSrE4AftRGJuStSOPdGQzLhZqSaVuGJ9WombcFs/G6dYzByfYm2xy5tO5hgAAAARRBmvtJ4Q6JlMFNEw3//qeEAAADAABLlqPunvVTH99pSpACE61mv+9v1IwX9zYDOg0sE2dCNqK7fQc6Dk30iB4LlRM/XCOXHyYJwV7X/FKHMK+PPtsj/a5LAgtf76U6AFXIMjrBN019tCAiaIxViQXWWrlMk2yyf8LXUnEfoHXtR1dMJIh9/pfzeAu2LP403EBZGWlzGgB7ASNcJjwjHR9RnBVCFumfYaQ724QJMbV5x9jLYugZAbYAu/nNmuLlKAIi025sTUnbeXoLvzq7pZiOTsHOG3S278E7drwcb34Q8lU02o/CnzIsoF9RTT3CNi4WixnbPQ87uRVWfpHNfFN8kfZ99KoHgRzDhaFHLzAQEpiXh7kAAACzAZ8aakJ/AAADAABPlCEkVENK6Gc7qGGe3AwADnrhv8ZmQbJw16O2f2s1rsfiTGepvFQu6XKv95vhdvOvViVW/tOAnfMvUeOg+wGaDfnpV82ItNrh2QidyAh+Bzmidd2DFscnG1HXlG4XN5SyLVjHhJZ9SLwPc4WWrYvMGDtgqJHuOvLV7oTnxTPcqC4ZMh6XVdk5eAqZIvu8RbqXa45hsEOWTTRleBlW0/9c27oSlxHa3MAAAAEgQZseSeEPJlMCG//+p4QAAAMAAEtIvFOX6/vr7IABo3vM5WFscxCTyXGB0Pwz0yw17GhwK7O8CIGBBp+sWX2RE6Y2sZxq3XWDVFOgtv5fH5DAewmpTBp+F2TwS92w/ddnVu8u8o1HYKl9q8U+vXWpfxvxZYB7tSvq0xqV+1jB049cbLI64SzuYj+2fWO4d33llssRpixyB4AvkWov05d2ywPX19cko6fuOcJDDFqL28rPstMfKdvbFue+YyBmB7gf6AQlwZ73kLFBV9b7Yg0XFBMfRXjgyLQmSWgOsfRn/Kd7Hzk26gDTh5+jc9yYDZGOH+xwCWkwlwze6p5w5aMv0lhVMXWhTvQOksPcuYngkg6cSRM/mCDpOmCiZjMyAV49AAAAvkGfPEURPCv/AAADAACa6/5JXnwzW6K011EBSiAC+l/UfXj6wzN3A3JxO6D/vCOUs4He2ucOzrOV2Qmpq/7woebvqCcE50rtoG0Btz5Ek+uxpoOZG3kGwGMdJcAQmiQxdfDxxKYXVABnvDvs2dyZKM081ZRf+kVXsw6QV360KtlUfshYNuyxfnEpIIKbMbm5ze/5c2a1L/UNJDzCwfq0ywE1aPkVSpOCoq+TRk0Gyqo5+6xMtWd5fxgdK5nHTFUAAACkAZ9dakJ/AAADAABR7cJc2+dHpAAdmhrrOK3kxYQZVvkuIlbSMkoqrm07GG+IPIMfuaoBbupsrkLoX1onAAD7LXeS6JzA88GLscT596YoavQ6TitLuWmxpAHNe0vwRIb1CWie61hEcIchTkyZ0tunBPn5+Pc557l6LhNUrHqEx5YhkWnvq0E2a20xI8wJlwOPWTTrkNbFgIgF7UK2aDxokWTUnxQAAAFmQZtASahBaJlMFPDf/qeEAAADAAC/8J5XWgVLXlT5xjyACda0u2uqzJuLOPfAJone3Dk0F3FSBhZ/RlnYHGeNXR14bprGQ+KJ8nqAaHk1Dgz3zvCREutIg69D4I5qAshR+fhQJR/XgwS8ldFIOiw+0kzR5YD9Yle31UFozzI0VEvp0cMfQtrdm6ndNcu89b7xgUgPXUsKyfZdNuSeA/Zuk9wa3KyEqs3NzxuAOH5h67bJ/MUWkxm6BXa/t1KB+nBdxqyzxT3dyvGEdj636Dn/AuLzY3Nd8DJmtPqxnU3ifWzKoe9HPxLjErIAAVyaCJ0t1msPKaKwQqwhXqa17PFRetfp4he+TSjGjwe5ii44Hc9czJQ593DMUy/eFABH3EGIOinOEDBTm774lNEvZkf0GQIp9VAjHNmWyY0iI3gA4Q9BrfqUgDL71DEu1cd34ckzxAB8oGOzAbciQOFC32F/I/4cJzS3gAAAAJ4Bn39qQn8AAAMAAMGNRv8odZ3ADdeW/GO9z92hXr5M0yyyqcLWvGQKEVMrxK1qGAHu+CXRGI1t1A9P45QZ9JtqbbsCp3MZ2Nw45AjBkl1PL58hXNvVr6HWvYjS21+KLmIJrbZ1ZUKqf6EWD5GnASjpOsBfQXKgIvi3a8CMn4TKZWWX+SaWlVsz9sFfOHWm4MeOiMgFYRV2H1I2+xmECQAAAWVBm2NJ4QpSZTAhv/6nhAAAAwAAvrnFnXNieGWwtNEgQoG3ACaZfnq9PNx+HgRORTMheBO7hqr8644XA0pzNgHJgXjKCNHaHEbgdccHYXpU4Er+orpbR5CCYqUvwAVVi2SAMs+8jpXIQ3E4Mhg2Kw/7BfOJ7wVQqEjIw3DYZRoVlCrN56xLN6w7in7UadVeSm8wJqudqS9GzzSLoY9ECzN2ELxTm7o0TAJBCi+PqRfZnIJYEgfxLQ7wLye1TwxTuEr8M3A8OrTfcYjboB5GUJvAjd33q+Lw+bYXJvVuyAMkKomX9Rr+YPqhPfJm3j+VjluQIaL60JpnTbFzgC17HhI/LMvTSPa52UKd1I/p2ccB/37OZdg1CdBJPK2+JI/zM2OjolMkDwHQg9QkG4Zdr+9kGy4mm2f6iw3XTjz5Mu0a0yVnhJEPlkhe0DbUa0oX11BmJVgDLj66XoBBb12XNA/F81a0M3AAAACfQZ+BRTRMK/8AAAMAAJrmv8ZLR+q48AG8qSrZaBKKT8N5FxIoq/bAqZPPfg+OGQcxdr30kBSsQwIHIjwlOb5ZMv0cEqoAWKAHMb48KuE0JeeQGxSEN3PGV0Cip81O+ciZxZb02gCHiyFxizcoth78rQcbCg4T21OhFiaUK+xtLQLPmE/pqDgHjsgnzKuxn4lMCMQGzyW2jC1GD0g+WiclAAAArwGfompCfwAAAwAAyTZTTIn7ffcRxgqe8XtaABzGookCVxnKkiNN8ZzJEXA1TyzKTFhz3uxxtuOWxDHpuf1hoYkkki4NuhXYV94JsfXNm3TiEv84OCHMa8ZZSNpxtOtUriz7FwaE5Dms8oqAXI4sw7FWEX+r4DzbnDrqHMyDjqusPA895k8H0C2FNM1zzxP1lAFAGfO+MNR4d5joDQotjmx6UC9SJ8mtxN7j3tIDX4AAAAELQZumSahBaJlMCG///qeEAAADAAHaeXmestAATrWg/PWWZa+/NnACX9bZulRyWfYOB1yHIfPOx3z9eSG3jZt8f6u+9Uz8vWehNn+SfZ1G4f8So7eirANoZnTtXjeFno5iwnHvVWtaj5ebZ4f6Iv4HZ9WGnAKPIFRCg5IacmyhsMlSZuZRhrhgesR7YH/JvRT/8bwLHSJb7TMdO8Tze/b8P99w/C2bGu8mtbZOrvy/Wmjmfj1jHBFCntgWkY9xtZKlr2Ws5qDr+mzmUCWTgAB8qNbDRCcYYiK0zCuDWXbnpgpYrpB1pmlxm6gAZH7qZtfmb2NuwvkqHjneJrrnkVHpF6sf2u+7rt/6yuuNAAAAlUGfxEURLCv/AAADAAGOK/QAS7yKEyVnty4pXEgAynVHYhjm8SNuWo9+UmdY+KoYuHMrqK63jqCC4zNWEu0QdSlJiUZbTU0U9pKgn038upyNIXorVL9pStQYXAtSBltmXddI9qFf6+b/8U1gwQ8ieec2J/Qb3Wu7J3TKRAaqKSizfBnGcxFNgVuFwY3t2SQZUQrYTKQRAAAAngGf5WpCfwAAAwAB8A4fhwV3l6+TrCUQ29mAECMc7u0pQZFoQvRvDrbgR4dqvZmOlLijac80dqqwT+uiq5ewYh3SaP5QSSNtn++rVjP+wevfD3PmxlAQibs2sUIll/W/3nYdmR4pUcPHwi8fVGOcuticRYxEsSPGXfaSP9RuScBlLEwA1O44svTfC7j6R90txoekoEabakIWPSK+po7hAAAAaUGb6UmoQWyZTAhn//6eEAAAAwAHPyi0AAnUaZgws6xZEaR2JevCvuhCRK8dYL6p56bEChTTT2IoEb6IZjEhKXe18C1hjzVMO8MbPfGQH8EO1YtGN4Cc7XRI+C885p87PjjAeLV+4iI3wQAAALpBngdFFSwr/wAAAwABkrCtaXngAfupy69S648A8Z1FC4tN11WEOtO2ShMrBmyasnwxagdmKQbu+HUd0b7Neo42ctkebhItDQLF0JUe9PM08kdgHlExFO7CAusIe1uv/tNNJLDPkg59VKNyUIi3Xy5dhrmirwzyLVLbTCHuMzOYumC/ajU/azWq70EMKoQHyPBHiJ+bSl2f0p+cUPIVQUCQm80YGB73ctGyrF1p6eXUIN4P7QG3WobhqEAAAABVAZ4oakJ/AAADAAHxdbC/yW69nXFA0QATrl9bG/pHEi1ovSAfMhhCVJE2xqLuk37W3WDe9PtG64FQaE6P0FzDyh7bC1W+aGFsITJSJPbttNeJkLi+DAAAANFBmitJqEFsmUwUTDP//p4QAAADAAc720lwJPCsFnOwolEDEuvoS8ACIPXglFI6DLAX5uFvvik/mLYPfFYXfHLphpzF+KWh3MlUDfGZI4NihFn9OvW7eleIomnV92EV2n9VWek6ecVYUr/utHE+vvLvBe0nXPRcTSVEJSjHngSfwn+M/+BA/2ywbViaWKAfz9HKWpR1V1JxglMImzIWngWpYm2d6d9VJQvtGCIEAgfucy/UFlSBh82ls+mx933lsIsXQvrue1jnfdIflBBe4ftbHQAAAHUBnkpqQn8AAAMAAfcncU7ty/JecgA7Fre4DaWTQEiERW4xg5YXhEbFNgXiQaUdehtZf1vL1BPmAzhfvVTu9/oupIJqlqLCAqXYZVldxnIxwCyWwdJrchzNPBzuuDzhevzKLK70z6ueSdRZHAg7J9d5VjFoq8AAAADlQZpNSeEKUmUwUsM//p4QAAADAAdHhOknlFgyOwK3ZaPL/jvr87QAcBcPpNcMN+vl5W1aQ28wWBvSKZINwnyyU15HMgqxrwSL22SAG8uHoqNv8vtLzCFKT/e0Ic5sPkTqvzFkUfu82dcuni88H9jJsB3kF5bxulh6Eb0i7ZvDhsLgTEsClCuW4ADd4B++3M6xlAukzHkpawQ9nY9BOMuHKn8+ES5E24Mx/Vlp6Gcbq/h48G0xu82JaQ/lUv330wv0tp/wOkuWQfaPrSnlrPqwwv7Huiq11CDG8+tf9BT52tbSft6z0AAAAHQBnmxqQn8AAAMAAewnfs2w5anzoAOyK30aC1zKuV0lEgYjPTMDxaTzae0DM7BIhCwsZUXpnGHu740k7X8nZLmrrG6B3DqM0kbOLjIEoAkYVn9yuGYWMJ47OEaLagk3slYbnQWTJJuKKp50UoZjIY5nHOqmDQAAAQpBmm9J4Q6JlMFEwz/+nhAAAAMAAudn5Bs2SUnq5NmAC+aXCqg8i8137nhdRtuXJRFiefA6eyKhftG9piiWnM4LnwTsH1HRvRauHql+0zAEM+PQAstSPDJ/x571ERmzg3iqB87i0XAKArXapd1EiVtb/jmmquHvF1i0gqkdSqRlzXmHMx1NXLLm2PMK94XWhZXZXyZapWBGnGu/rsCY/epSg3jYSHLTJMnHj7O8V/ThANOztMc6ob+fnJrxqYn4hehjyp4Ri4yR2Ddd8uf45/U9yhQagMCYr6qIYWGQziSjgz94JX3mkydsiStqJ1g1CnzY+Yn9Oxhe7AC26DUL17KkNkAUYEZVnB+L9QAAAIgBno5qQn8AAAMAAMlczwKtOBPWADmYmg5SYn6Wmt1Qrr4PJyjOEvq6OWXKSCA1uSOLOXyztxJGXpE4i+WV5epmdXAW4WgcsLoPwISwiJjYvIPVjGfoO5Q49uZ+0l5ebEyZXaGuQa50NB/JEt/rBIAmtrlrOMc2N3tYnFNCj0Rf9mJ85ovU22mpAAAA4kGakEnhDyZTAhn//p4QAAADAALrzLnu2FBAXdABUdCu0kpCQ4iXZTQufDYSE76cmPTeqHLmx1Kqt6jU+5IEFEqw9jXvB+hRbXCuKJQvahgIYEoVk6c/4J1WzYxsrRHDhZqKXq4y8sliTTwCOir3YeHOLthEm239CHZOGmNPojGC7ySOC3ZnQ3PH68m9WyloZBrBSssmCl5eFTFwQlUhjUZ3nuFJNFFK+tOaYLKbRZNgWl3ZVj0y1P4FpBOM+6CQ12BK7dwTW0uBY5hDc3+aNv+ncn6KesmVNJvH83VyQ2iEXYQAAAEfQZqySeEPJlMFETwz//6eEAAAAwAC1qNIPQVPMIAd/5GRAAOoDjqCCtSr/cij2ArkRzFOADcu3xW9lTZWkAuAS3L19q6dZH1lbIE8PpW8ihaTCr2oHHyUhHhlomB7JFIAxdgCZ95AV2RILkITgJryAi/fU5hzs2roK1eIegUXqtsqsaBYcfQkmjPtfcA3OdMkrMXim/aRxHdf1d9WClQB4IHG4oCZJ5DjpjeQgk4hd2bwsg76k2raR0Qx0mcJ3AdRwIIVPqJEgvE+qYJs2K4Zwg7C13G/NOMzthimBarIgctAPNweURqeyXJZulpCAt+gBt/VtFZNemfdEruPaQn6RoA7aHAMfnmlL+OF2MFPQzm2yqiv2+9pF/qqnLbdyaYAAACLAZ7RakJ/AAADAADHCyZAZizxpdku3N2b8AHN9lQtQjt9c99b9v7A/gN89dxWsXLljPLy6SCWIqV/gV4xuzhDEhZHrtO+dHirrfHxEfVa8HW9OAiuW8bX+MZf38hJFmMUNldOH81Ch8dg+6g8h2baYFDSatspbsvrfbPlqv7p9xjOGQynj3LO0M7UOQAAAWVBmtVJ4Q8mUwIZ//6eEAAAAwAC2cy6SgbHAuSgAjH7y//P4HQj3fMNSTZGJyjPzq61vLgyP1gMCD23BYwxdikpgOdqNLGIqbox7XrW6ScAJ73l/nibh2fzaLCVgJlPY2YJvvtoPeo8i2qz9ZuiUfXH680QATcJJksO+9s+EybY/mRyRpcSEDbWT4O+/6KCrgDSf3E3Y2PwmkSL4HHt9s6mM+g9plPV5rubtGzjkL5Qbda0q9IlGsngZemJemrTN1kU1tdc7TjWCqjcoawkrwy7P6QpAPYFLuQjizyaZZu6JsCM1cIRwyY9UfG2n5NRAaIuQls73yIHR8dPJIVyMNl+87szJiinrtiqCU8XIMw+dr6qUBcw0Zj4rCFoVwwdZWwDnM1cpeTYqSMvOOzDmqKANePjmHzVtrw8BGOYOUQQkcfjVzqA+DxpM0HgkfVSZSLBw5aNacKjkIsROAA/5IMzfGNvbuAAAAC/QZ7zRRE8K/8AAAMAAJbI/HfRqE1YlaqADm/ti6ol+al6kW4iw+bNK5KOBMkUPvDSk2LxVcp6/4O+biorud4tc8j5VO+xejfjqV1LFVusQUFsSoeRLfP1xZQj9Lpw4Tawqa7SorIe9vCY6yFmlthC9CJzwU1oGN62tqIt6fibuIaV2Bnol7ggQMSPGn8/qe2PjF8awNP5tFg3/+XIEIqwvIjGQ8f8zgQCtG7p6dP//+oQY693jHdUH6D6a569oOgAAACqAZ8UakJ/AAADAABPmBsaPDpvWADm0Kg2/gWtdmxytek3xDC6d3tbIF4hYlmRT0uUtL7JEO9mJ4SzD2/GRzZ6TFFKdZfYD67+t5kpVVL7KVufDCnC39+oHXbu/C+saDXZ/eEc7vVzePX91vjSKtHmoZ+eOY64ekB+Ht+guMBu8zmOXtWTUETFSgGDlr2REvi9zGgAvsUpirawLyHj+zDpSX5aYQksUf8a9JcAAAEUQZsXSahBaJlMFPDP/p4QAAADAAEdkVOhioLwHgANG9cPBOzjls2gpZ2HBtVCoX+BoQl55+7iqN5uOIgij79qKC7DGmiZzOySJ6P/+bX1LPvsvuUxj/dl7rtUuZn59SbtKfeCZf27xVuXRpfpNRAHIFDbnrGhcusBRl45XUN0YsYNMBzhre3LxdZfTvlt6GVVm5MkFznQ/clt5jVX61ouWWm89AH0j+98H/j7NMJlqZhEBSzT5wxR8Y3dh/EZe05h/CoeOeee17oInSrw7iJUf4CXHcx8q4dK47AVYwXmyoPzn504Ut03MQt8X25btOd47MFcMh+zddXfvzRy3IOoeb4VzxDarI5AB70rtjuOFJvP31AIAAAAqQGfNmpCfwAAAwAAxwtHcXTWb2HKBJlIh/ybQ+0AH8Nl2J1HFpKkdy9vcCHE5T7biTyNj3rDJJRi8ioDa0xAAobH3RPUvumV+6vicT/jxW6EMgGNLMO4dS3Sm+MWyyuQgnSyGen/VaSudSON/Gc9/CBy1R7I3L6UwoRC83G0S40pnDMfsTQjeKDuUM7BmJVULMBR0M6w6CB7WaDmmvdaZZh9Oi+mW4Y3sEEAAAD4QZs4SeEKUmUwIZ/+nhAAAAMAASVSmT9QqA6OodS0ACox+X2VxvEgSQVArd12qnT1FoLA2iw5b2ENuQv82D+9B+H24ko9oLMLJEg4VCLTnbffV4KRgvBqpOTaPT/XextN0UqpQL4prDANhUCT1/DfXkIwo74ciltU2TmUjPGyh35UfBU0zL+f895/JyJmi0zTrHZdMrjiA1YDiBjhTYa3yjTgkTEzGEhvozzsfzrTEX543rT0Iu2IYMAZKEx+24+SN9YIh3dDfT2wwxArl2pXxIyhIcNrptmhSGNxFibDLI2cnsqpqeQ31CCBghp01GdRiruX9Oe+fr0AAADeQZtZSeEOiZTAhn/+nhAAAAMAASb4sTBsgYug/qSZs7wCVrgA4fWcbUy6Xq7IbKRDLwFE0XHi790YSV5+2lEztG3R2FoiUL6xki8JGsAOAT45/GkmA8TE7/XvBB2BsLJbDe7Y0oce6Y2XQO6Dn8m9rEMwazMjPpEkhzZT7v+kr29g+6oWg+VKs9ix5boZZwIwJgS7QXx9S9oZN2z7TmcSGVd9SHoORB71KL0asf0dPWi30ddh6797KMmmft+0j/tI1ymYiqekpUXmE6B7H5jd3QhBuupkP50V7lhnUFevAAAA0EGbe0nhDyZTBRE8M//+nhAAAAMAAHO9Stlo1ABj8qSfoHoJGCY8qze6XgkZ+tjWbRlBk6KkgPM3pZhYCIg0whuZPeeH/EjanuatDCZ8ApSW+mHEfPpp+fMPINy/qSaCv//GMlSzgmCjEtijteaUfK/uwkyGtBk7/Jz9OSpWSgAVfVHW0KuTqPmZmtHA81tZKmCpkI4C+2TPpQ8o0LpcK9ZqzD8WEqJlmCxl0nhZObZSm3pLWdZSQ8azCrQANQ38YKcerADOrwjW7bS/1ag/PXkAAACIAZ+aakJ/AAADAAAfCETtZe16ABepNN/Kq8u4Z1q1RDX2tnEfK5zWWzHdySuZOx1Z73b4cxrVt/XMBMgXplo3G84D94NXZF1P7zgRaqU+5jaKPAs2p5w658j/URBZuctBE5zmoPT68kvqbuLbFsH7ANe5cchxVx/CBKQuQbTjUI9I22cEizViYAAAAQFBm5xJ4Q8mUwIZ//6eEAAAAwABNY9UI72UMrgBLN+K7I9nzRWaF/riNoIm5jxJiVmThioHLz07Gbq/xFMukThSANeRo6z6bgKiFsil7fD6/lCwMJkJ0lmDEw0FNUZXFCsa/D4uuoxcaX0R+95Fy73lgJWiQiEkZ0GE5XTt93ZSD0S1RB1ZcUGRv80JaGbI6FxWwTem1bwKecybX6xOn+3cV9hmqQfENPk835aWsSRYfGaZkFFwG/FuUvuldNJIkm538QjacF9dzZuJZY2rDQRfUNo+xI+QNwDZIXdgA0HymL6XOHKS3LqNPlq4Lz5Nl50H5n8mDjWiWL5blT+rF6YI4QAAAQBBm75J4Q8mUwURPDP//p4QAAADAAE9rpd++pADYn1RFRyxo5G0NwOaIGuGUFvVtvLe69gCbxXfcdrNWk6ihR/ofS1rS5WImcn+87HXebqbAmdcBBKSwcmEwonY6yr+qMwV8DtLbPKOPyrBdZgzOeaeJ0iVt4FrktuLzcS6QDpSiIEvPAF/6OI7LSJzBLologOz8gNh49cTh+MUBmAuwMIlWFjdPX1M8kLobblblhz3OYP3ZfWZHINghIQ0XtlZFWQKVdtVqQQac/7BH8B7At9zD5sTisFmYX00qRtjYNiIcbSwPr5xASTILuFvcYfY/ACH7L/3KYa3pS1atGftArzZAAAApgGf3WpCfwAAAwAAVm04/FROcElwAQ/GhFKQnHPR7dy7dkeSuGngmNpzmC78pHMIBd+iN8Xa8bGGaNdg2rjAHE+Z6hW5DLWakVITOyvKt7ZWBDCLrfK6OeuCDW99pJAEzuDunuWrFNhLBT+avItN+XLWIE+ZywodN4RZGV7qQkTfFy2Uj+99T9AYavyBCZ3wF94GGyAQdnUW0MK3iVDda67l//3KN4AAAAEzQZvASeEPJlMFPDP//p4QAAADAAE+UaQEm9mquJHEu3fu0AD4S1ZjulZvZW/NwD9TL4g37nnuoki5S9f9BDfhHKYdbzJx5VLKKyxeexzDIrCyohfTg3YbsfrZcX5kt947YfyTuSKj3KOmCqjo6jL6EJyfP8AbYt1I4x1Ta3yiExbgjuBqshGHiGcRJCYKYt2qkqM2UCzZaiS3kqB6sMpbHBtW8BMFsG/TPIGyhJbyQoVCkUTfZQ3H2wqVhD8g8sNqyn4Abk+S9HN5yDf2l/sF3oPnjxCsPbea3E6+7wP4SzOEiF+kkdQ1pY0+Etl/9S1Fp9358WC3GFoeS1ugn9dtt/E5kiuFRa3JhJKRLCYxD2J7KXTs3WV8peYqGH6DhSdaARAb4GyU95qy0d9zW6W0xO5bgAAAAJEBn/9qQn8AAAMAAFYjaf0uIABB8V5FMrrRCewnThLCxv2hBU7HuxBUni1UWOYU3YDNAuSCOoACQI4d/3Hi3wGZJDMIKN50wph3xZ4aQFECUPSrD3+VufZBegy0ShKKNippQZFnuv3wMN7Xsx1Bw6z34qV1VsLMzbMDvo31GKU+hlpjaeFU9U9CV8eLcvLCSAqhAAAA/0Gb4UnhDyZTAhv//qeEAAADAABSCn5ni3vlpABUmuBpf5RfwZdGk/FnSu21oKp1fJAkMXTvwDz/oP7ppSGiafhuysRhzU3TOCf2Qd6D7eOLd9WwaqviRRFe152eeer4rOyU+G4DsqYQtBnzWK5RBoLymDUvkIWIqgiX+rBGn1uctl9azIOQYSNOOdwkWYWZYnSjV+HtzbS3AAfmvz7kBLINlxdd4HX3k2MShbH7Q8CLZRljbspCAF6ySGXFJlun5MWSP5MqRfQbeDS+9W9Q1n1Xrw8K4wO3bsnKFg8qXe9E5wYZP/XCZSek67BOwErmmTSaa8mAxGtE1SPjX9mbPAAAAO9BmgJJ4Q8mUwIb//6nhAAAAwAAVE8MrWQAJutrAW2OXoSXRQ8P7CpcwCilWYNPslv6Vok3zWJpz/1MmlO4q8SNQIpPF9E6k7MpVgzSXebUGHiiHFOrhBoelIpOvFBlFMwJNK9GN70/g6Loq3vqszT0LGn9U6ZB+xGb+ErrlMJXgxgR7vFuXDAEZ1/+zwrdz50EIQm3VUh4pU6Ok1XSCXsSPdYvQEqGUOoDy/muaM3f/KiZAIbMbPJjbcPst/rqbUUbleTLlKqkhZrtvndXjDoy1NfhI5MIYjMkloVgHbLKXM1SYR8mG87j23YhCWlCwQAAAVdBmiZJ4Q8mUwIb//6nhAAAAwAA3Jv6QHxA+VDmqAgAHUqa1lKhvW9qfNNpfBcUPZhuXZX/6q65ab+xQN6S/vyNQ8PSMAhPx2NI0sBDxFNuhiyCl7OlqokTl/+iYMW+UKRrkU+2ZbcO863sbB9+gAIRzcEA58XQF28XqiyGoLZ4beqOxvvpqdWmT8pQWxUD11F8ozIaLuqo1YzUTdgONPPcMHfvmZoj7l9FZz4AeCNsf6aEqUvdZXmvtA7LIQLNASeiXHXL6kf2qCNCRBgOpMLLfu2wElmUZPh1Cfm+uNL/YqFBYWaHOhazm++4oLPZnBbJB9hqIiDzTBxeHSP9TFVkdxBLv6/NjuQ0ALURIir0eKlnnPmXQWo5cqNaFIOBe9NNstggC8Rr/px/KqwADvSrz8okGyp/5w507qz/F5M3OA3x7Sk+KM9fr81N2lZLC9TeaOw1H9lUAAAAxkGeREURPCv/AAADAAC6V55gAYysvVZ7SfoBJcGqEMWIaKQAOzW7PkPbKW0UhmfMiEFxIRcimHGtfNvMYgAW7Mawg4hGTbj7ilJHMY2gl2B1sEJ2mkabayxGmdIT+NPbd1hfcs9q0kMbSZs5N4zriIu0JXFxf8/ujze9el6QtNoCM+cf5/77t1d+PMciWez2IM51fSRZg8gmF7gdnvqgZy/N1/H9KaT1ex3kpr8HR/Vul8gWE////gjtk464HVKLcnSwNRyVQQAAAJMBnmN0Qn8AAAMAAOhJq7CN+UtnkoFEQAOnYLZLF7b/KuRfoST/tK3SUcpv3zDgYNcXLRfmWMf7OqJNy3vj3xz0ExeqmCWTzg4HiTclkqyu/l1xOQWXv01HZe4Ey49WLNSrdTYsXpwSwaNUiYhuPoY67gAP2u+kRAcZF+NTFi6QGhnP47u6ycyymYvkyID6F1hum4EAAACBAZ5lakJ/AAADAADtu6QlO8O8g0ncdHL75TG7EAC+Xd0by+WSJf6WWrG8ls8xru04lroTTmGMV/Xj6ssK89aCtRecvQ0KiJNKg5Xn2TXU3T6sOGqw5Tgv9KN81OHrdBAhPtUEfGIC7jxQRRgzfAunpRU8BCeL0TAQJvdDvKrtFjetAAABRUGaakmoQWiZTAhv//6nhAAAAwAA4u5sYlJh2nI6ADYEE6TcGjqzja2YDLO91NnZG5Spp6ZVXHP9U7WzXVCKOHaGEFuxNzNZyHDRvAtYKc8B3uBAzWPXKgd98F5xvL7to+ECdAajTgkGt1eubBW+4cU492mE2UVh3p4fFuL7Ysb9YDV5G7PC7GZ4QEwA4KElWOVzIGkwu2XPyl7IjGsQ2kB6UPr31ELCgs8qM8fx403eqmFqZK0rTKuinLJOPUGn8WKrWPhKK8gjdEQFknO6I8WthL6yZX7KWo8rhib+ewsWl1BxiGlPMKaCuysj5kN/fooatb4bV6+fZUcPN711c82lIJtf7KMj3HhDH8gxo4U+VQj/Wqr2TsS8nst2Cif8HMpEwnur9vEQ7a5huCb4UgrwvFeVPL9w5g+w7kd71P/+quyzblMAAACzQZ6IRREsK/8AAAMAAeZlGNPzsCQAIfnyVDndvo4NAe46gP10vVTWq5UKIIgtnwy0VxXu8WC2iQ2KKaxsXUHN+wEiYO+TxC3zpK3MHCsi34WaUngn7JW9McuYmY9sk57rOglsYRSI/c/Frw4gBD5JJB4f1A5Q0K+gLjWsACg9RBWkq4gdKZWa8rpvdETIh1B4Lc+eQky2GYwnHpRnC6rSzyFcZwiBJFGQ9pC5KhOFRD84SagAAACQAZ6ndEJ/AAADAADtfhsxZteKAAXUUoWkbR1TC/Cmmi+vVeDGovpkWdOatAvCYigl9/AX0WM0XbPvAeM0amcRVyrBAxkbOt/CbK7Hl0fjRmW79R+Vp1WKOPugc3RQxNjnjU7950JksZCzvPkyA1khgwfnbhS8tQ09C6PPmtgT4TqeQlnqK9ytUeoj+TMtTSagAAAAoQGeqWpCfwAAAwAA7XTvSwAAXrnfpIUifJ4S94tASkadS6NjCf7vqIr9KqE2tiRb2tygvfmAarDssYb31FKVIwGBvLEMx3+Hjb1FR2NTBq5gQY8/jTtg5pZZ1nLZmDa0DK/QMvTXHqJMQwiIqIaFhuAOp91WqGrwgxjE9GyxwKf8/NjJWvneuDnvssjR7fuLexORlVOgXT7eTv0c8Nf9yVJrAAAA4EGarkmoQWyZTAhv//6nhAAAAwACWkJB1LIAv47FyV3SfeIU10HndHqp9ow069sfFCYszLNuOJPCsSlFvGbzv97MXoHtyUdW71NqNtFN24WFQ82qRl+XcfI0eja/gL+J9PoBCJzaAPT2qb5EeYuYqM8yHmMHWnRUsvLeA/6yJaBt1QpazbFMLjH6bNHcGFbU4F5qmoty0M2YSReicx4EFwBDhbA9NHwFuKJ/jixtVEFb5S0UlvfpsJ6exMkzf3LhMQUF0vFb2/9wf0lndFpxELR0a1nLruXeNbAA73aStezAAAAAh0GezEUVLCv/AAADAAHmAzJ2RzrgAh927nkRpDZB/xUrPgZyGTras7EjPs1aOgUjcnLjHM1GsD2TrRaMmKJT52ttkeNJ1WbqmFc4vgje0p7iUEJ9HK3QTmV6QCWmiI1QWWaP6rXQTYCYOhccvedUATxJi6iNf/KSe3wz3BYgTf8sXJypsegagAAAAHYBnut0Qn8AAAMAAnUrQRuPLkQAcPL8H+99Tjd1G9RLQ6we8qCui2zinQyy2TvW0q/YX3SVt3GTQnaKsKH5grukXpTtzWdBKGpQMCB8Bcj02ttjgikKbPo8nLYlfpfhRtfka/9fhL/b/o/8KCho+4WQwBcnoODrAAAAUQGe7WpCfwAAAwACftrwA3NQhCG05mk9pma5VSWPX1fLMGKaGDvptuMCwJVwXswGj9tjCENxBaP82vCefTc0eMdMARhnend+sSmTi+g6Q9HU4wAAAQJBmvJJqEFsmUwIZ//+nhAAAAMACTdN6SCXXt682PFyNrcqEAGzyLyr52ybr2YUf4pwsyws56OR7ZWjQl71N2Irzibw/ejHm1G4DqE6Ny1Crum5hGUNj0UEdD1hy6Z6NDxEKk9/yxiCTvGeuuRWmrtRP0ctpNd2dSwqLwmxA4kXYzeAC6UuC8ZoEkwNxYe1OCnGyFS1Z2gUBuW+PkqMbMKAfx3SqfF0xZKV8876AV1tpofYf5ybfuswMO2jXSNCbjzmrTQ3/mtxiG54uLfNT0YjlCM/PYo2KLaiff58mbgW1wwViH9BEjIl8n6wpmugkxLZ9DSQB9Sbz9I4S2ILMlADwGEAAABzQZ8QRRUsK/8AAAMAAeYCWiViWDHWEInAA2ZhUYBJVZb9NeCZuVt+HH1J/eSSEAi6rXoaVMB005v+LEQc38qSyPaEIanKXEeVidxz7KeIGCsfiul1GO7uwEzR2jjPS4uQu2gTzdANY/H8lX8vKxTd9kzf1wAAAHgBny90Qn8AAAMAAn0WiMh5GZifvtSIAHWe7RqCSTmHIQ/Oy8jNHd2M0GFxmtStP0Di43srf8kOfa7ulswDxdOEm9ZXXBOzk7XNImgOyOYQlnUQJ7zG/Iaxwv3uL3GE6hkOfpZchlx5IX4EV+Wdmj3JW3m4TezUncAAAACGAZ8xakJ/AAADAAJ8zIbIRvkyezsAY/MmAAvrxXRMSl7m8gO/jVXJRxsE6PaDIa1dGK0zO5uBEyXKE2ppNu3M0QqN31Wpq6XuDJLI/v6l5T4r3zx2HYAztqdZqnYzstbOPibWAuzn4fx809aq7rk55nzY3B35D8bNJ6zR/CMbaxp/nj4S00EAAADSQZs0SahBbJlMFEwz//6eEAAAAwADd8JzrRilYW7zd6Pw8UCJK1aQA5Y2rMe03uTKMRIfVIswJ9zlftTNQmPOsbSL9ipmIbPr3WuIzjxCMw9QlPPfthitqSCuso7lChYZ3VfnhFkIopMXtac4g3VBUj4Wzzg93sN5GJ+9p2CQYuJ1JhqY6akwvrxXEll0U6aMk2Tt7UFeSqZCRvDYP08Q6rqdzzU1a8D5MJxxpHyutRER51i4r0dkQ8DzGGd0bDJwcoPdW3HmxQLnyw0d/w3POE/4AAAAjwGfU2pCfwAAAwACbC8MnQe1V1N7wJhEIAHWe7SI13zvRFIHQfqvi1YyxJLF3L7ZlMJDr4B62N21L4SvNIxzY+YJmuBApQ2AzlLcPDD9CfhR64Ylc6f5HCcH6MUZp0IIgjmZzd7jHADL+THvgaj0V1Uz1PQREGTgB/pjgxsBp3FwbgAWoXSwWEZPPaNczM4kAAABU0GbV0nhClJlMCGf/p4QAAADAANjwnR6JniyFmgCrc4LSRIJv+HZ1l3Sr4f8uwmJ2jW9Kxb30y1/20e1gXUUQgXenP4mL1bXL0Z/Xc+RJdQf/iKslk30K0XsJP1nf/nsjqjJ7uuQwI83aO9Rng3pHh+EHNH0vUUdNlHfYuo5YQ6loztxkX6Dpe94UFD7wIJ65/h5vfEbxllubQBOiXonWAofNgPkgi5XY7abicUszCk5LLwYDlFEifggtrME6k8A65rjzqLrt4ThPUBF7vHBPB85L8M58gHOmySkT3Jm8emgJmWzdPNuLyVo5b9NaK2UKlbdj952+QctuS4eA74MZKGbEBACJbF69hmpK0kXeQC3CSJpn4yPy6Qf4Hbg4Ap2IbWLcdpvOSryWIQNh8kWLesIdGB82zURHtYWF8Hyl3QOF9iM+uCEKL3tmiI7T4H++HKfWQAAAKpBn3VFNEwr/wAAAwAB243OIbVH49H10BTVzJ6aildAA6vnulNarJzN2Oo2a9FwMrKG9DVItyHb0yrhxlB7KKrsvkXTTncfK9oFEn214eWZf0zP7jISA4Vyr1D5swg38ljCtwupTmL4thOr5VG3+siycxiilZNb2RIHMRDvs5niHTkKnrMRt+/orYLLwokSt6bO1rqWcsuSgoimQfLum9mAbnX8giH9+DREgAAAAKIBn5ZqQn8AAAMAAOf/9b3fP9R3xgQuAAXzOnhJHWAih8xnZ3mY4fK7o/1xLqHiIlNO3QGswO4Ulu3BGhWGTSqbCkDDaBMcGpdQo+pF5I1NCYeIgKUpMnss/EddAhTDhEANlnHzUlrXCpr2cH7GtuMhxnEkCViLEqkHj8bntn/rQUgcO5+96NLMXf169M077C5H7oenyrH6Xs7/zhVL39yIiEkAAADhQZuYSahBaJlMCGf//p4QAAADAAFI5lznLjRwzSd952UADRaFdpHL+rtEtBiqKEsJ8Ysp4MkN/7o6oPIjl6aHP2km91wYihyPvA9DaaoWJi/ECj+sfPEwwbvDH3etm91POWCBlddqoGMlXUkGmucUe5yrrkiOD0vFgySJvblOCUF3f5Wdrl3Qpn5WacDa1cTv+Mdung/1WEjpk99Kilt9xGMj8DXhT8TMfM5/rvx8hkf8ON3JKp4hAlgFTtB3Eyg+xZMvVC32i/YG0qBF9V037GDjOer0FA91wJTDTngpqKFhAAABCEGbuknhClJlMFESwz/+nhAAAAMAAT2u2vaLpABx2ncvuJHXbgVGl4iW8E5apePlTKFy8Vxk0w5qp6PFL262iN2HW5byNccr8djY7gh7mIv5TH4Fgy6KQo2p9qZAeuIxnKyX0qtiRF+t1wQ+Qn6vTEtVMlGcehZOVdZgF2iTCyxpIt1jp0MF+PwX1PrjxR+N0Inme44gQF5rILHs/Hog/RGSNyLog4xAF69nevXxxwjjdAuierUYNZtQEZ8D7otnS8n6hFjLiEkW5NO4iIqzb4RJkBnUeGYdrS/A2BDOX/ZKuMFBpieSjF9CBwdyVHJ/BJfbxq2rb5LCO7/YCKl6OZCn/oIdjwrzYAAAAK0Bn9lqQn8AAAMAAFYbmGJ9Wq8AHDy/Sgb9wB9TFxDOuV/ley6phEmd0PsCZGzK7Hsqk0bXfCMBjH0leC0jeVehZRIxXHtkM3KdQAvWmkh+gwYDi2Dl7eg3Sc91jElJYr2rKPDZzlkqPeeRb7MhNXAGVCFM+gbmkC8x1n+59AsSrBVzRkqrzxJX6lX6Fs0g5fC3yl8zF6pu9R9EgxYZOQeYZZkMQ/b2LtGPt9vpHQAAANNBm9tJ4Q6JlMCGf/6eEAAAAwABP+Zc9vRU1t6KAA0OBeGyfl97Ku5ujGuux2laHDEFmNoPDDNL5cnxGVNX4gtv65mZ+90Pwe8hTvZUVo14xq76qpPOPi0wDov4v4WS+qppW9V5qFR2f9bHmMoXPGpms2hL8ukCZ/6iEaIY6EFcfD7S3PcjX7mbUUe7NmIW+s6VWPJD7wO7JgSsMdvHMONF2Uxsri991QTaR1wPi1f+qH1q9X32dvBn1Tq2I5qIpUT0xkUC7pVr39ahLbLeloofOp74AAAA2kGb/EnhDyZTAhv//qeEAAADAABPlLpHe13XhIALU+dHQMZhf0INUL8Wty/lOyWzoocdM9SpZkWDA2SsvWrLAOhBrkcDGZwQgNkiP5VekI93E19fJ19IpQea7nQe4PgJPhmor/4WVVVx2TMrnEd/4tmMWrxk6aLYYNtFP0lXW8jzV+JuSFQILq3q0CwFd2ndS4F3FNSTkYp2JDSf8pSA5n/i7q9pu3ytpIRTvTSH+W6zVp+3DYgvFGQkwAXc7LywM6SKitrcVhLBRjGBe/gx6Kr5VG9804k5PXyvAAABBUGaHknhDyZTBRE8N//+p4QAAAMAAE/94S3gcUdc7dxjg+IVLANhyNXudIAQHxS347lri9tQI7dyAv+nlvXQW3LTk2UMexYcO0wRlIC9q/UYPH97IiAOL0/3wueg4ze84tdtXsi5w6B6PkyEQQkhU716Sb/xTQlxAYErXbeHQUHZmLKeB14ZOv6zU2X5+GtsilwZBVKraRX1UXWQ8T4lcM0zhmjt1ybFQsWAGbDGXOrM8vXHgX0rIpMe+QAO9sHfRNmW1P9rCgtmKsWlM9vY1LYbX6N2n33U5AjFIifRyCmMNISc+bthB1gQYP8YPUibbaiRUWxMZbyIhTuf/DxNQw2ZXb/YIQAAAIMBnj1qQn8AAAMAAFQZMPK6uCGgAL5UYf9lH0bgGaZyTFaWsJcL52BGJ2pBEwFgD9ynBpxu2k+KRe8xHgcGJdBi798278N69Nf2a1d2DhQRWTAg6zVbsCTfBTg7nPPNte0orsJX5QiZpeaDwU+oiJyuwYjj6YYApPxVQK/DFXKoViFPUAAAATtBmiJJ4Q8mUwIZ//6eEAAAAwABJaPg2Zvw2iUQAOxmLf/3+5dqAEJXc+cD6XFkl4dfUCn+b0Lkcza0QAaJhyHzLmWWiNf7UDAYtd46j83kEDogSu7HIliqesCr/5v39VVBvhMH+dZgJO7qEsu708DghQfYmLihEfAmyZd3OgJH9ufQNPcsGrh9JvVUlyXZ1fUXjYm/TBbhedjvgcmLd9ySrImNUDeYj3fKpn7vfYD+ImjzOzU4R21G4vbFAfJwEe0Q24D8WBTbndYTP56ezoWP+Y3lrvReSDd5WpZsWIgcTeyRGeACKU2ylnGTWQXwFef8gCO/JVl5xkiy86XJN81LY3FyerE2IRP5V4ydMvQj/OsMbNCSBHEu0m8ZjIG3rKgEK3jchyw7USjJQWn8uhybbTnvuB8A0B4qOBgAAADFQZ5ARRE8K/8AAAMAADzP41ryJ467RUAEPvDNuTE493PHN91Z4ypNSrOJn7shfrHxmYV+bn2J5PeyGCej+0zIYlnVij9oDBgY1MY1k/J7/rgJe/LeuUDlCR1irUaak8p/UrX/UiKbekFf25GYiLrFNLy6lCm56HNklkxkGgRt88xbM6u3GNQl1hmH/hnBTl/Hn1mRAg0zhcPsuYMRqqURsyUgiYBVfeas6A8uqWwSoL1okX/1FH6i0Bly/WF/y/xn3oM7+/EAAACcAZ5/dEJ/AAADAABR86O0y5sk7tao0BKE4TKT8jpgAL1zv0ljduW04xEVTywzV/KwPyYqWgIW6S4Y9nn7qdcHPTRwF6hPc+yFpZc/rvibolZpATZS9pFN97yvNqzJ8sWVX6hnOkF13Ew5jsTS1iG4etolC2lFvm5LeEWJ6YgsnS1+0QcuLIjeqMf/umx0D0yWeiz2R9R7eu287O/EAAAAngGeYWpCfwAAAwAAUdkwG6sxN3ABzMNTuSA6yykxo4HsJDZQirrbExwNYqefKsONd9n+AStLXDdlhvlRL3WPor0W5f5J1OcSFna64+s6gOdyPq0yvZAK6AQJ125wUvJkSdWk4uxwFf1aNsd7cJza7WlAELdCUVGgZduochXG2D3mjbU47Kamt4o3DxMjzv1f7YybnKpYTAvEJa0x7YeBAAABNkGaZEmoQWiZTBTwv/6MsAAAAwABKMjw5eF1dpgAiDQ7J2h6rc1EQs4y/3WGMwQDr01Vx4IFAgTssd90Em3t6bf1oOw2GkcaFOjxn15PdH5gzuS/H+5mEDsHo+fa7KqaivfhZ/2P9W6G4iOBqE2YCoAJzYg+l2eVAI9N+CoU4GO0zX3coqSVdm2Qqkws6PKBaXBNqf6s5fP0kuxEpCdxlBsE2slPVfUlntRkYHEiKTqAjEmkB6IOSu6C3/KRVPSM4R35sWoOtsx7FVG/qa4TYdnyoL+omQFSVOGJrXX6kZKymypHkW5VdHVUw3TGOgkLGe97DN+h54uXk/vAPq9BaQm+4YaaK+lFY2Ov/4FPaMRtJhs4uvtr20Fx2JN3CuyBSMAi0Bo0asMTlgtZz8UAAD1Yq8sVckEAAACuAZ6DakJ/AAADAADEPGmAYJ3tFtMJKWUzSXk5beB95XWKx0ABfGwR+h9as2zs8oRhN+mifxn4MzXtI3cEzM4YUd5MFaI2GUCTdYL0M2tmnSzxAgruiNwXDrLCErq9aIBoMPdRjDP3/XEsZvTYUo2AAUy0DPUn0vLfSfcS4hd/Zum7qMH3GseizfGD0gNEss2j/OTErKp50YoLniIkG0K4KLbErN30YzlhDTl8m1OBAAAA1EGahUnhClJlMCF//oywAAADAAEp6b0IfKewANB4UdeHabw1lXTcn4rkr8UrIw7NQq99Nuv6g4FU3z9TC1EkHP0hpm9Pr+72qqIefh6mkAS8Dhm0/3+esRkdEZUByW+qrlMMgsoV/8vwXlX1neJqZRvxaMvU5JLB/7oZib12v/DLaVYLAQnTCAs5i+GL/nzO3Jk25+z4rTEdsocNS7miIzofHHwV5pFF209ZsB5DcFedxGbbawBoSrKTDY+DlibRECzw48W1YgU7IJQYhD+Em5C9eyoxAAABM0Gap0nhDomUwU0TCv/+OEAAAAMAC1RcGFS/MpBpWVZZQcAC+Xbs7Uimphyx0S1lcegaLSPb0BhWTu2UE+9/M0lZJyR1FvdgGLmUotSHreOcnF1zuzY47ZMnXjSBZwaieaZEOP9eTuCnArDJhq2Q9tjTqTCOAaHwB9KX8QE3pVePTlocQ0yIP+jcTiaeab3dfZqLJKeO3cnUFhdV5hz78quc64WmV7fBdYX+RB5JkLOhkDgr2jHPGv6p7VYItgOzb+5ac/8cf5+h11dGYbPmbnrTybAuebywwTVDlI1YEF48hVdv3UWWjrPBLfd9wV8NmCEhCJXjkEeuXAFKL35UnxVlc6z5xwOpUEp9Fjo1kkhTo8hq+Y52H/e3lETN6RdVXE2BnCRinwlOGHDIbpdfzUVcfBsAAACjAZ7GakJ/AAADAADHCyZKHDt9Gp/6LB9AUUW5WDkABfW3cYRo3tY8FjKx1C22DKwKxigWd5RmrhWtkjAZcw8PvYE+N9ivQJdQvP02P4s2AXYDdnija1RBbPfp/3s346WvvLeoISzP0+/0TGSWMJT9XISzz2DGsUqrh4A8FgCm/75kAj8Ey3/G/cEZUHxQGhQeKRndQOr24dEpdAg4LJ9C99sZgQAAAKlBmshJ4Q8mUwIT//3xAAADAAAbkxVY5+333GjHAA7Q6jyDW433cLuDs/p7nn03SydkBF9xB1ZwTH/BDN0jo63vKxkxJjasYHBt6oxQZKF8zEXqeY1I3KTc6BFv/OF1eLXmUPVvW2fns0XQfAVwgXM/h2qp5yZDc+Nl9uVQwlFFzanLxNUKYpyRlEorA65ivQ/V1PvDrVkcO79PvdB++HlgtVQizpy+4odIAAALv21vb3YAAABsbXZoZAAAAAAAAAAAAAAAAAAAA+gAABosAAEAAAEAAAAAAAAAAAAAAAABAAAAAAAAAAAAAAAAAAAAAQAAAAAAAAAAAAAAAAAAQAAAAAAAAAAAAAAAAAAAAAAAAAAAAAAAAAAAAAAAAAIAAArpdHJhawAAAFx0a2hkAAAAAwAAAAAAAAAAAAAAAQAAAAAAABosAAAAAAAAAAAAAAAAAAAAAAABAAAAAAAAAAAAAAAAAAAAAQAAAAAAAAAAAAAAAAAAQAAAAAJYAAABkAAAAAAAJGVkdHMAAAAcZWxzdAAAAAAAAAABAAAaLAAABAAAAQAAAAAKYW1kaWEAAAAgbWRoZAAAAAAAAAAAAAAAAAAAPAAAAZIAVcQAAAAAAC1oZGxyAAAAAAAAAAB2aWRlAAAAAAAAAAAAAAAAVmlkZW9IYW5kbGVyAAAACgxtaW5mAAAAFHZtaGQAAAABAAAAAAAAAAAAAAAkZGluZgAAABxkcmVmAAAAAAAAAAEAAAAMdXJsIAAAAAEAAAnMc3RibAAAAJhzdHNkAAAAAAAAAAEAAACIYXZjMQAAAAAAAAABAAAAAAAAAAAAAAAAAAAAAAJYAZAASAAAAEgAAAAAAAAAAQAAAAAAAAAAAAAAAAAAAAAAAAAAAAAAAAAAAAAAAAAAABj//wAAADJhdmNDAWQAHv/hABlnZAAerNlAmDPl4QAAAwABAAADADwPFi2WAQAGaOvjyyLAAAAAGHN0dHMAAAAAAAAAAQAAAMkAAAIAAAAAFHN0c3MAAAAAAAAAAQAAAAEAAAWYY3R0cwAAAAAAAACxAAAAAQAABAAAAAABAAAKAAAAAAEAAAQAAAAAAQAAAAAAAAABAAACAAAAAAEAAAYAAAAAAQAAAgAAAAABAAAKAAAAAAEAAAQAAAAAAQAAAAAAAAABAAACAAAAAAEAAAgAAAAAAgAAAgAAAAABAAAIAAAAAAIAAAIAAAAAAQAABgAAAAABAAACAAAAAAEAAAoAAAAAAQAABAAAAAABAAAAAAAAAAEAAAIAAAAAAQAACgAAAAABAAAEAAAAAAEAAAAAAAAAAQAAAgAAAAABAAAGAAAAAAEAAAIAAAAAAQAACgAAAAABAAAEAAAAAAEAAAAAAAAAAQAAAgAAAAABAAAKAAAAAAEAAAQAAAAAAQAAAAAAAAABAAACAAAAAAEAAAoAAAAAAQAABAAAAAABAAAAAAAAAAEAAAIAAAAAAQAACgAAAAABAAAEAAAAAAEAAAAAAAAAAQAAAgAAAAABAAAGAAAAAAEAAAIAAAAAAQAACgAAAAABAAAEAAAAAAEAAAAAAAAAAQAAAgAAAAABAAAIAAAAAAIAAAIAAAAAAQAACAAAAAACAAACAAAAAAEAAAgAAAAAAgAAAgAAAAABAAAKAAAAAAEAAAQAAAAAAQAAAAAAAAABAAACAAAAAAEAAAoAAAAAAQAABAAAAAABAAAAAAAAAAEAAAIAAAAAAQAACgAAAAABAAAEAAAAAAEAAAAAAAAAAQAAAgAAAAABAAAEAAAAAAEAAAYAAAAAAQAAAgAAAAADAAAEAAAAAAEAAAYAAAAAAQAAAgAAAAABAAAIAAAAAAIAAAIAAAAABQAABAAAAAABAAAKAAAAAAEAAAQAAAAAAQAAAAAAAAABAAACAAAAAAEAAAgAAAAAAgAAAgAAAAABAAAGAAAAAAEAAAIAAAAAAQAABgAAAAABAAACAAAAAAEAAAoAAAAAAQAABAAAAAABAAAAAAAAAAEAAAIAAAAAAQAACgAAAAABAAAEAAAAAAEAAAAAAAAAAQAAAgAAAAABAAAKAAAAAAEAAAQAAAAAAQAAAAAAAAABAAACAAAAAAEAAAYAAAAAAQAAAgAAAAABAAAIAAAAAAIAAAIAAAAAAQAACAAAAAACAAACAAAAAAEAAAYAAAAAAQAAAgAAAAABAAAEAAAAAAEAAAYAAAAAAQAAAgAAAAABAAAIAAAAAAIAAAIAAAAAAQAABgAAAAABAAACAAAAAAEAAAgAAAAAAgAAAgAAAAABAAAIAAAAAAIAAAIAAAAAAQAACAAAAAACAAACAAAAAAEAAAYAAAAAAQAAAgAAAAABAAAGAAAAAAEAAAIAAAAAAQAABgAAAAABAAACAAAAAAEAAAQAAAAAAQAABgAAAAABAAACAAAAAAEAAAgAAAAAAgAAAgAAAAABAAAGAAAAAAEAAAIAAAAAAgAABAAAAAABAAAGAAAAAAEAAAIAAAAAAQAABAAAAAABAAAGAAAAAAEAAAIAAAAAAQAABgAAAAABAAACAAAAAAIAAAQAAAAAAQAACgAAAAABAAAEAAAAAAEAAAAAAAAAAQAAAgAAAAABAAAKAAAAAAEAAAQAAAAAAQAAAAAAAAABAAACAAAAAAEAAAoAAAAAAQAABAAAAAABAAAAAAAAAAEAAAIAAAAAAQAACgAAAAABAAAEAAAAAAEAAAAAAAAAAQAAAgAAAAABAAAGAAAAAAEAAAIAAAAAAQAACAAAAAACAAACAAAAAAEAAAQAAAAAAQAABgAAAAABAAACAAAAAAIAAAQAAAAAAQAABgAAAAABAAACAAAAAAEAAAoAAAAAAQAABAAAAAABAAAAAAAAAAEAAAIAAAAAAQAABgAAAAABAAACAAAAAAEAAAQAAAAAAQAABgAAAAABAAACAAAAAAEAAAQAAAAAHHN0c2MAAAAAAAAAAQAAAAEAAADJAAAAAQAAAzhzdHN6AAAAAAAAAAAAAADJAAATjQAAAkcAAADPAAAAowAAAIQAAADZAAAAkgAAARwAAACnAAAAgwAAAJQAAADfAAAAmAAAAJkAAAFAAAAArwAAAJEAAAESAAAAhwAAAXAAAADjAAAAqAAAAKYAAAGXAAAA2QAAAIcAAACWAAABOwAAAIsAAAEwAAAAtgAAAKAAAACTAAAA5AAAAMwAAABeAAAAMAAAAREAAACfAAAAnQAAAKQAAAFGAAAA1wAAAKYAAACPAAABJwAAALMAAAE3AAAAywAAAJEAAAByAAABHwAAAJ4AAACsAAABZgAAANkAAACwAAABiAAAAMsAAACnAAABaAAAANwAAAClAAAApwAAARcAAACnAAAAmQAAAH0AAADWAAAAVQAAAF0AAACTAAAA5QAAARYAAACPAAAA1QAAANUAAAEDAAABPgAAALAAAAFHAAAAwgAAAKIAAAC9AAAAyAAAAOEAAAEHAAABOQAAAXEAAADzAAAAuwAAALEAAAFqAAAA0QAAALAAAAEbAAAAnwAAAR8AAACJAAAA8QAAAJQAAABoAAAATwAAAREAAABqAAAAYAAAAIgAAAFhAAAA4wAAALEAAACnAAABGwAAAJwAAAFiAAAA4AAAAKYAAAEpAAAA0AAAAMAAAADvAAAAlwAAAPUAAAEYAAAAtwAAASQAAADCAAAAqAAAAWoAAACiAAABaQAAAKMAAACzAAABDwAAAJkAAACiAAAAbQAAAL4AAABZAAAA1QAAAHkAAADpAAAAeAAAAQ4AAACMAAAA5gAAASMAAACPAAABaQAAAMMAAACuAAABGAAAAK0AAAD8AAAA4gAAANQAAACMAAABBQAAAQQAAACqAAABNwAAAJUAAAEDAAAA8wAAAVsAAADKAAAAlwAAAIUAAAFJAAAAtwAAAJQAAAClAAAA5AAAAIsAAAB6AAAAVQAAAQYAAAB3AAAAfAAAAIoAAADWAAAAkwAAAVcAAACuAAAApgAAAOUAAAEMAAAAsQAAANcAAADeAAABCQAAAIcAAAE/AAAAyQAAAKAAAACiAAABOgAAALIAAADYAAABNwAAAKcAAACtAAAAFHN0Y28AAAAAAAAAAQAAADAAAABidWR0YQAAAFptZXRhAAAAAAAAACFoZGxyAAAAAAAAAABtZGlyYXBwbAAAAAAAAAAAAAAAAC1pbHN0AAAAJal0b28AAAAdZGF0YQAAAAEAAAAATGF2ZjU3LjgzLjEwMA==\" type=\"video/mp4\" />\n",
              "             </video>"
            ],
            "text/plain": [
              "<IPython.core.display.HTML object>"
            ]
          },
          "metadata": {
            "tags": []
          }
        }
      ]
    },
    {
      "cell_type": "code",
      "metadata": {
        "colab": {
          "base_uri": "https://localhost:8080/",
          "height": 359
        },
        "id": "rofQGU9_74PV",
        "outputId": "1572d459-2223-42ad-9455-20925ea27805"
      },
      "source": [
        "import pandas as pd\n",
        "\n",
        "df = pd.DataFrame(q_table.argmax(axis=2))\n",
        "\n",
        "df.columns = [f'v-{x}' for x in range(DISCRETE_GRID_SIZE[0])]\n",
        "df.index = [f'p-{x}' for x in range(DISCRETE_GRID_SIZE[1])]\n",
        "df"
      ],
      "execution_count": null,
      "outputs": [
        {
          "output_type": "execute_result",
          "data": {
            "text/html": [
              "<div>\n",
              "<style scoped>\n",
              "    .dataframe tbody tr th:only-of-type {\n",
              "        vertical-align: middle;\n",
              "    }\n",
              "\n",
              "    .dataframe tbody tr th {\n",
              "        vertical-align: top;\n",
              "    }\n",
              "\n",
              "    .dataframe thead th {\n",
              "        text-align: right;\n",
              "    }\n",
              "</style>\n",
              "<table border=\"1\" class=\"dataframe\">\n",
              "  <thead>\n",
              "    <tr style=\"text-align: right;\">\n",
              "      <th></th>\n",
              "      <th>v-0</th>\n",
              "      <th>v-1</th>\n",
              "      <th>v-2</th>\n",
              "      <th>v-3</th>\n",
              "      <th>v-4</th>\n",
              "      <th>v-5</th>\n",
              "      <th>v-6</th>\n",
              "      <th>v-7</th>\n",
              "      <th>v-8</th>\n",
              "      <th>v-9</th>\n",
              "    </tr>\n",
              "  </thead>\n",
              "  <tbody>\n",
              "    <tr>\n",
              "      <th>p-0</th>\n",
              "      <td>2</td>\n",
              "      <td>1</td>\n",
              "      <td>0</td>\n",
              "      <td>1</td>\n",
              "      <td>2</td>\n",
              "      <td>2</td>\n",
              "      <td>2</td>\n",
              "      <td>2</td>\n",
              "      <td>0</td>\n",
              "      <td>2</td>\n",
              "    </tr>\n",
              "    <tr>\n",
              "      <th>p-1</th>\n",
              "      <td>1</td>\n",
              "      <td>1</td>\n",
              "      <td>2</td>\n",
              "      <td>1</td>\n",
              "      <td>0</td>\n",
              "      <td>1</td>\n",
              "      <td>2</td>\n",
              "      <td>2</td>\n",
              "      <td>1</td>\n",
              "      <td>1</td>\n",
              "    </tr>\n",
              "    <tr>\n",
              "      <th>p-2</th>\n",
              "      <td>0</td>\n",
              "      <td>0</td>\n",
              "      <td>2</td>\n",
              "      <td>0</td>\n",
              "      <td>2</td>\n",
              "      <td>2</td>\n",
              "      <td>1</td>\n",
              "      <td>2</td>\n",
              "      <td>2</td>\n",
              "      <td>0</td>\n",
              "    </tr>\n",
              "    <tr>\n",
              "      <th>p-3</th>\n",
              "      <td>0</td>\n",
              "      <td>0</td>\n",
              "      <td>0</td>\n",
              "      <td>0</td>\n",
              "      <td>0</td>\n",
              "      <td>2</td>\n",
              "      <td>2</td>\n",
              "      <td>2</td>\n",
              "      <td>2</td>\n",
              "      <td>2</td>\n",
              "    </tr>\n",
              "    <tr>\n",
              "      <th>p-4</th>\n",
              "      <td>0</td>\n",
              "      <td>0</td>\n",
              "      <td>0</td>\n",
              "      <td>1</td>\n",
              "      <td>0</td>\n",
              "      <td>0</td>\n",
              "      <td>0</td>\n",
              "      <td>0</td>\n",
              "      <td>2</td>\n",
              "      <td>2</td>\n",
              "    </tr>\n",
              "    <tr>\n",
              "      <th>p-5</th>\n",
              "      <td>2</td>\n",
              "      <td>1</td>\n",
              "      <td>0</td>\n",
              "      <td>0</td>\n",
              "      <td>0</td>\n",
              "      <td>0</td>\n",
              "      <td>0</td>\n",
              "      <td>1</td>\n",
              "      <td>2</td>\n",
              "      <td>2</td>\n",
              "    </tr>\n",
              "    <tr>\n",
              "      <th>p-6</th>\n",
              "      <td>0</td>\n",
              "      <td>0</td>\n",
              "      <td>0</td>\n",
              "      <td>0</td>\n",
              "      <td>0</td>\n",
              "      <td>2</td>\n",
              "      <td>2</td>\n",
              "      <td>2</td>\n",
              "      <td>2</td>\n",
              "      <td>2</td>\n",
              "    </tr>\n",
              "    <tr>\n",
              "      <th>p-7</th>\n",
              "      <td>0</td>\n",
              "      <td>2</td>\n",
              "      <td>1</td>\n",
              "      <td>0</td>\n",
              "      <td>0</td>\n",
              "      <td>2</td>\n",
              "      <td>2</td>\n",
              "      <td>2</td>\n",
              "      <td>2</td>\n",
              "      <td>2</td>\n",
              "    </tr>\n",
              "    <tr>\n",
              "      <th>p-8</th>\n",
              "      <td>0</td>\n",
              "      <td>2</td>\n",
              "      <td>2</td>\n",
              "      <td>2</td>\n",
              "      <td>0</td>\n",
              "      <td>2</td>\n",
              "      <td>2</td>\n",
              "      <td>2</td>\n",
              "      <td>2</td>\n",
              "      <td>0</td>\n",
              "    </tr>\n",
              "    <tr>\n",
              "      <th>p-9</th>\n",
              "      <td>0</td>\n",
              "      <td>2</td>\n",
              "      <td>2</td>\n",
              "      <td>0</td>\n",
              "      <td>2</td>\n",
              "      <td>0</td>\n",
              "      <td>2</td>\n",
              "      <td>2</td>\n",
              "      <td>2</td>\n",
              "      <td>1</td>\n",
              "    </tr>\n",
              "  </tbody>\n",
              "</table>\n",
              "</div>"
            ],
            "text/plain": [
              "     v-0  v-1  v-2  v-3  v-4  v-5  v-6  v-7  v-8  v-9\n",
              "p-0    2    1    0    1    2    2    2    2    0    2\n",
              "p-1    1    1    2    1    0    1    2    2    1    1\n",
              "p-2    0    0    2    0    2    2    1    2    2    0\n",
              "p-3    0    0    0    0    0    2    2    2    2    2\n",
              "p-4    0    0    0    1    0    0    0    0    2    2\n",
              "p-5    2    1    0    0    0    0    0    1    2    2\n",
              "p-6    0    0    0    0    0    2    2    2    2    2\n",
              "p-7    0    2    1    0    0    2    2    2    2    2\n",
              "p-8    0    2    2    2    0    2    2    2    2    0\n",
              "p-9    0    2    2    0    2    0    2    2    2    1"
            ]
          },
          "metadata": {
            "tags": []
          },
          "execution_count": 40
        }
      ]
    }
  ]
}